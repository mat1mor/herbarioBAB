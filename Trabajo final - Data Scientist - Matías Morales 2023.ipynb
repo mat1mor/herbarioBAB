{
  "nbformat": 4,
  "nbformat_minor": 0,
  "metadata": {
    "colab": {
      "provenance": []
    },
    "kernelspec": {
      "name": "python3",
      "display_name": "Python 3"
    },
    "language_info": {
      "name": "python"
    }
  },
  "cells": [
    {
      "cell_type": "markdown",
      "source": [
        "### **Proyecto Curso de Data Science UTN 2023**"
      ],
      "metadata": {
        "id": "E5xuF0nTW1co"
      }
    },
    {
      "cell_type": "markdown",
      "source": [
        "**Alumno**: Matías Morales"
      ],
      "metadata": {
        "id": "CXWiNmnYW7-T"
      }
    },
    {
      "cell_type": "markdown",
      "source": [
        "**Resumen ejecutivo**\n",
        "\n",
        "El término “herbario” se refiere a una colección de especímenes botánicos y al recinto donde se encuentran depositados. Cada espécimen del herbario está constituido por una planta y/o fragmentos de una planta, deshidratados, prensados, montados sobre una cartulina y cuyos datos de recolección e identificación son registrados en etiquetas adosadas a dicha cartulina. Los datos de etiqueta, que constituirán los datos primarios de las tablas de datos, incluyen: datos de fecha y lugar de recolección (provincia, departamento, lugar/localidad, coordenadas geográficas), el colector principal y los colectores acompañantes del viaje, si hay; un número que asigna cada colector a la colección; observaciones sobre el ejemplar y el ambiente, tomados en campo; altitud sobre el nivel del mar del lugar de colecta. Al digitalizar el registro, se incluyen, generalmente, los usuarios que ingresaron el dato y la fecha de ingreso, y posteriormente si hubo algún cambio al registro, el dato del usuario de última modificación. Los especímenes físicos se conservan en recintos acondicionados para su conservación; si las condiciones son adecuadas, estas colecciones pueden perdurar durante siglos. Los herbarios son, por lo tanto, de suma importancia para realizar estudios ecológicos y ambientales, para describir y descubrir nuevas especies o evaluar si están en riesgo de extinción y también para analizar potenciales nuevos cultivos. El herbario del Instituto de Recursos Biológicos del INTA (Sede Castelar) es uno de los más importantes del país. Es el cuarto de Argentina por el número de especímenes (nuestras estimaciones arrojan que hay más de 450.000 depositados allí). Las colecciones botánicas más relevantes que posee son de familias de plantas nativas o silvestres con alto interés económico y plantas cultivadas de Argentina. Este herbario también posee numerosas plantas recolectadas en regiones remotas como Patagonia y Chaco, a partir de fines del siglo XIX. Se tiene una base de datos digitalizada de dicho herbario en planillas en formato Excel, que comprende alrededor de 25 a 30.000 especímenes, lo que representa un 5 al 10% del total. No obstante, no se conocen los patrones de distribución geográfica ni temporal de este subgrupo de datos.\n",
        "\n",
        "\n",
        "\n",
        "\n"
      ],
      "metadata": {
        "id": "nOZc3L24XOxv"
      }
    },
    {
      "cell_type": "markdown",
      "source": [
        "**Fuente del dataset**\n",
        "\n",
        "Las planillas fueron exportadas en formato Excel desde el software IRIS (Instituto de Botánica Darwinion), que fue diseñado para la digitalización de los herbarios de Argentina. A través de un convenio, se concentró la gestión y concentración de los datos de todos los herbarios en dicha institución.  De esta forma, en INTA hemos realizado la carga y enviado las planillas para su estandarización en el Instituto Darwinion, las cuales fueron nuevamente remitidas para continuar nuestro trabajo una vez finalizado el convenio. Sin embargo, al momento de la exportación y envío a nuestro grupo de trabajo (2003) hemos detectado algunos defectos en la estandarización de varios campos de información en el archivo, así como varios datos faltantes en diferentes campos."
      ],
      "metadata": {
        "id": "LNlOx_m6XZiM"
      }
    },
    {
      "cell_type": "markdown",
      "source": [
        "**Hipótesis e interés**\n",
        "\n",
        "-\tLas familias botánicas más representadas en cuanto a cantidad de especímenes son las Poaceae, Asteraceae y Fabaceae.\n",
        "-\tLas regiones del país mejor representadas en el herbario, en cuanto a número de colecciones documentadas, son Patagonia y Chaco, mientras que las peor representadas son las del centro del país.\n",
        "-\tLa mayor intensidad de colectas se dio en el trienio 1960-1990 y a partir de allí se generó un declive en las mismas.\n"
      ],
      "metadata": {
        "id": "zQ_ETygNYpPI"
      }
    },
    {
      "cell_type": "markdown",
      "source": [
        "**Interés de la investigación**\n",
        "\n",
        "-\t¿Cuáles son las áreas de vacancia geográficas? ¿En qué provincias y/o regiones se deben concentrar los esfuerzos de colecta (técnicos y financieros) para lograr una mejor representación geográfica de todo el país en el herbario?\n",
        "-\t¿Cuáles son las áreas de vacancia botánicas? ¿En qué grupos de plantas debería enfocarse los esfuerzos de colecta (técnicos y financieros) de aquí en adelante para lograr que el herbario posea una adecuada representación de la flora de Argentina?\n",
        "-\t¿En qué época del año o estación climática conviene concentrar los esfuerzos de colecta, y, por lo tanto, planificar los viajes y campañas, para lograr una mayor representatividad de especies de la colección?\n",
        "- ¿Cómo es la proyección a futuro del nivel de colectas en general del herbario BAB, considerando el historial registrado en los datos digitalizados?\n"
      ],
      "metadata": {
        "id": "swNfLYuCY2L4"
      }
    },
    {
      "cell_type": "markdown",
      "source": [
        "**Glosario**\n",
        "\n",
        "•\tAcrónimo: Abreviatura del herbario. Los acrónimos están estandarizados internacionalmente en el Index Herbariorum.\n",
        "•\tDeterminación taxonómica: Identificación del espécimen, realizada y documentada por un botánico. Puede ser una identificación a diferentes niveles taxonómicos: familia de plantas, género, especie o taxón infraespecífico (subespecie, forma o variedad).\n",
        "•\tEspécimen: Fragmento de una planta, generalmente una rama con hojas, flores y/o frutos, que se colecta en el campo y se preserva desecada, prensada y montada en cartulinas con una etiqueta donde se incorporan los datos de la colecta, de la identificación o las identificaciones, así como el sello del herbario donde se encuentra depositado.\n",
        "•\tHerbario: Institución y espacio físico de la misma donde se encuentra depositado una colección de especímenes. Los herbarios generalmente están incluidos o asociados a instituciones académicas o de investigación públicas y/o privadas.\n",
        "•\tTaxón: Nombre científico y entidad correspondiente a un organismo vivo. Por ejemplo, la familia Fabáceas, el género Homo, la especie Homo Sapiens.\n"
      ],
      "metadata": {
        "id": "qG_ch-KVmPra"
      }
    },
    {
      "cell_type": "markdown",
      "source": [
        "**CARGA DE DATASET Y EXPLORACIÓN DE DATOS**\n",
        "\n",
        "A continuación se realizará la carga del dataset original y la exploración de los datos existentes"
      ],
      "metadata": {
        "id": "A4CqKV7bY6Vh"
      }
    },
    {
      "cell_type": "code",
      "source": [
        "import pandas as pd"
      ],
      "metadata": {
        "id": "MqmY0zQmZwfG"
      },
      "execution_count": 6,
      "outputs": []
    },
    {
      "cell_type": "code",
      "source": [
        "import seaborn as sns"
      ],
      "metadata": {
        "id": "7eJ2NC-WZ4PP"
      },
      "execution_count": 7,
      "outputs": []
    },
    {
      "cell_type": "code",
      "source": [
        "import matplotlib.pyplot as plt"
      ],
      "metadata": {
        "id": "sGIGNlLpZ0xq"
      },
      "execution_count": 8,
      "outputs": []
    },
    {
      "cell_type": "code",
      "source": [
        "df=pd.read_excel('/content/HerbarioBABEXCELMEJORADO.xlsx')"
      ],
      "metadata": {
        "id": "msFjsVhdaBih"
      },
      "execution_count": 9,
      "outputs": []
    },
    {
      "cell_type": "code",
      "source": [
        "df.head()"
      ],
      "metadata": {
        "colab": {
          "base_uri": "https://localhost:8080/",
          "height": 724
        },
        "id": "J963Q3SNaUSP",
        "outputId": "38229936-d47c-4f05-fa36-29af77cc65b2"
      },
      "execution_count": null,
      "outputs": [
        {
          "output_type": "execute_result",
          "data": {
            "text/plain": [
              "      ID           Familia           Colector  \\\n",
              "0     18      Boraginaceae        Ancibor, E.   \n",
              "1     27      Boraginaceae        Ancibor, E.   \n",
              "2     49      Boraginaceae        Ancibor, E.   \n",
              "3  24236         Malvaceae  Spegazzini, C. L.   \n",
              "4    479  Scrophulariaceae     Ambrosetti, A.   \n",
              "\n",
              "                                    Especie familiaultimadeterminacion  \\\n",
              "0                  Coldenia nuttallii Hook.               Boraginaceae   \n",
              "1             Cryptantha mendocina Johnston               Boraginaceae   \n",
              "2        Heliotropium paronychioides A. DC.               Boraginaceae   \n",
              "3                         Abutilon virgatum                  Malvaceae   \n",
              "4  Melosperma andicola Benth. var. andicola           Scrophulariaceae   \n",
              "\n",
              "                     especieultimadetermina numerocoleccion letracoleccion  \\\n",
              "0                  Coldenia nuttallii Hook.            s.n.             15   \n",
              "1             Cryptantha mendocina Johnston            s.n.             17   \n",
              "2        Heliotropium paronychioides A. DC.            s.n.             19   \n",
              "3            Abutilon virgatum (Cav.) Sweet            s.n.            610   \n",
              "4  Melosperma andicola Benth. var. andicola            s.n.             10   \n",
              "\n",
              "  fechacoleccion       pais  ... Calidad de Coord. Origen de Coord.  \\\n",
              "0     14/11/1969  Argentina  ...       Desconocida      Desconocido   \n",
              "1     14/11/1969  Argentina  ...       Desconocida      Desconocido   \n",
              "2     14/11/1969  Argentina  ...       Desconocida      Desconocido   \n",
              "3     20/02/1901  Argentina  ...       Desconocida      Desconocido   \n",
              "4     04/12/1981  Argentina  ...       Desconocida      Desconocido   \n",
              "\n",
              "         Herbarios                                 Datos del Registro  \\\n",
              "0              BAB  Creado en BAB por rfortunato el 08/07/2004 // ...   \n",
              "1        BAB-90119  Creado en BAB por rfortunato el 15/07/2004 // ...   \n",
              "2        BAB-90120  Creado en BAB por rfortunato el 26/07/2004 // ...   \n",
              "3         BAB-5424  Creado en BAB por rfortunato el 28/03/2005 // ...   \n",
              "4  BAB; MERL-32429  Creado en BAB por rfortunato el 27/10/2004 // ...   \n",
              "\n",
              "   STATUS(ULT.DET.)  MATERIAL EN SILICA CARGADO POR       FECHA DE CARGA  \\\n",
              "0            Nativa                 NaN  RFORTUNATO  2004-07-08 00:00:00   \n",
              "1            Nativa                 NaN  RFORTUNATO  2004-07-15 00:00:00   \n",
              "2            Nativa                 NaN  RFORTUNATO  2004-07-26 00:00:00   \n",
              "3            Nativa                 NaN  RFORTUNATO  2005-07-20 00:00:00   \n",
              "4          Endémica                 NaN  RFORTUNATO  2004-10-27 00:00:00   \n",
              "\n",
              "   MODIFICADO POR  FECHA DE MODIFICACIÓN  \n",
              "0      RFORTUNATO    2004-07-08 00:00:00  \n",
              "1      RFORTUNATO    2004-07-15 00:00:00  \n",
              "2      RFORTUNATO    2004-07-26 00:00:00  \n",
              "3      RFORTUNATO    2005-07-20 00:00:00  \n",
              "4      RFORTUNATO    2004-10-27 00:00:00  \n",
              "\n",
              "[5 rows x 47 columns]"
            ],
            "text/html": [
              "\n",
              "  <div id=\"df-482d19cc-0d4d-4b2d-a883-c4b49fda4159\" class=\"colab-df-container\">\n",
              "    <div>\n",
              "<style scoped>\n",
              "    .dataframe tbody tr th:only-of-type {\n",
              "        vertical-align: middle;\n",
              "    }\n",
              "\n",
              "    .dataframe tbody tr th {\n",
              "        vertical-align: top;\n",
              "    }\n",
              "\n",
              "    .dataframe thead th {\n",
              "        text-align: right;\n",
              "    }\n",
              "</style>\n",
              "<table border=\"1\" class=\"dataframe\">\n",
              "  <thead>\n",
              "    <tr style=\"text-align: right;\">\n",
              "      <th></th>\n",
              "      <th>ID</th>\n",
              "      <th>Familia</th>\n",
              "      <th>Colector</th>\n",
              "      <th>Especie</th>\n",
              "      <th>familiaultimadeterminacion</th>\n",
              "      <th>especieultimadetermina</th>\n",
              "      <th>numerocoleccion</th>\n",
              "      <th>letracoleccion</th>\n",
              "      <th>fechacoleccion</th>\n",
              "      <th>pais</th>\n",
              "      <th>...</th>\n",
              "      <th>Calidad de Coord.</th>\n",
              "      <th>Origen de Coord.</th>\n",
              "      <th>Herbarios</th>\n",
              "      <th>Datos del Registro</th>\n",
              "      <th>STATUS(ULT.DET.)</th>\n",
              "      <th>MATERIAL EN SILICA</th>\n",
              "      <th>CARGADO POR</th>\n",
              "      <th>FECHA DE CARGA</th>\n",
              "      <th>MODIFICADO POR</th>\n",
              "      <th>FECHA DE MODIFICACIÓN</th>\n",
              "    </tr>\n",
              "  </thead>\n",
              "  <tbody>\n",
              "    <tr>\n",
              "      <th>0</th>\n",
              "      <td>18</td>\n",
              "      <td>Boraginaceae</td>\n",
              "      <td>Ancibor, E.</td>\n",
              "      <td>Coldenia nuttallii Hook.</td>\n",
              "      <td>Boraginaceae</td>\n",
              "      <td>Coldenia nuttallii Hook.</td>\n",
              "      <td>s.n.</td>\n",
              "      <td>15</td>\n",
              "      <td>14/11/1969</td>\n",
              "      <td>Argentina</td>\n",
              "      <td>...</td>\n",
              "      <td>Desconocida</td>\n",
              "      <td>Desconocido</td>\n",
              "      <td>BAB</td>\n",
              "      <td>Creado en BAB por rfortunato el 08/07/2004 // ...</td>\n",
              "      <td>Nativa</td>\n",
              "      <td>NaN</td>\n",
              "      <td>RFORTUNATO</td>\n",
              "      <td>2004-07-08 00:00:00</td>\n",
              "      <td>RFORTUNATO</td>\n",
              "      <td>2004-07-08 00:00:00</td>\n",
              "    </tr>\n",
              "    <tr>\n",
              "      <th>1</th>\n",
              "      <td>27</td>\n",
              "      <td>Boraginaceae</td>\n",
              "      <td>Ancibor, E.</td>\n",
              "      <td>Cryptantha mendocina Johnston</td>\n",
              "      <td>Boraginaceae</td>\n",
              "      <td>Cryptantha mendocina Johnston</td>\n",
              "      <td>s.n.</td>\n",
              "      <td>17</td>\n",
              "      <td>14/11/1969</td>\n",
              "      <td>Argentina</td>\n",
              "      <td>...</td>\n",
              "      <td>Desconocida</td>\n",
              "      <td>Desconocido</td>\n",
              "      <td>BAB-90119</td>\n",
              "      <td>Creado en BAB por rfortunato el 15/07/2004 // ...</td>\n",
              "      <td>Nativa</td>\n",
              "      <td>NaN</td>\n",
              "      <td>RFORTUNATO</td>\n",
              "      <td>2004-07-15 00:00:00</td>\n",
              "      <td>RFORTUNATO</td>\n",
              "      <td>2004-07-15 00:00:00</td>\n",
              "    </tr>\n",
              "    <tr>\n",
              "      <th>2</th>\n",
              "      <td>49</td>\n",
              "      <td>Boraginaceae</td>\n",
              "      <td>Ancibor, E.</td>\n",
              "      <td>Heliotropium paronychioides A. DC.</td>\n",
              "      <td>Boraginaceae</td>\n",
              "      <td>Heliotropium paronychioides A. DC.</td>\n",
              "      <td>s.n.</td>\n",
              "      <td>19</td>\n",
              "      <td>14/11/1969</td>\n",
              "      <td>Argentina</td>\n",
              "      <td>...</td>\n",
              "      <td>Desconocida</td>\n",
              "      <td>Desconocido</td>\n",
              "      <td>BAB-90120</td>\n",
              "      <td>Creado en BAB por rfortunato el 26/07/2004 // ...</td>\n",
              "      <td>Nativa</td>\n",
              "      <td>NaN</td>\n",
              "      <td>RFORTUNATO</td>\n",
              "      <td>2004-07-26 00:00:00</td>\n",
              "      <td>RFORTUNATO</td>\n",
              "      <td>2004-07-26 00:00:00</td>\n",
              "    </tr>\n",
              "    <tr>\n",
              "      <th>3</th>\n",
              "      <td>24236</td>\n",
              "      <td>Malvaceae</td>\n",
              "      <td>Spegazzini, C. L.</td>\n",
              "      <td>Abutilon virgatum</td>\n",
              "      <td>Malvaceae</td>\n",
              "      <td>Abutilon virgatum (Cav.) Sweet</td>\n",
              "      <td>s.n.</td>\n",
              "      <td>610</td>\n",
              "      <td>20/02/1901</td>\n",
              "      <td>Argentina</td>\n",
              "      <td>...</td>\n",
              "      <td>Desconocida</td>\n",
              "      <td>Desconocido</td>\n",
              "      <td>BAB-5424</td>\n",
              "      <td>Creado en BAB por rfortunato el 28/03/2005 // ...</td>\n",
              "      <td>Nativa</td>\n",
              "      <td>NaN</td>\n",
              "      <td>RFORTUNATO</td>\n",
              "      <td>2005-07-20 00:00:00</td>\n",
              "      <td>RFORTUNATO</td>\n",
              "      <td>2005-07-20 00:00:00</td>\n",
              "    </tr>\n",
              "    <tr>\n",
              "      <th>4</th>\n",
              "      <td>479</td>\n",
              "      <td>Scrophulariaceae</td>\n",
              "      <td>Ambrosetti, A.</td>\n",
              "      <td>Melosperma andicola Benth. var. andicola</td>\n",
              "      <td>Scrophulariaceae</td>\n",
              "      <td>Melosperma andicola Benth. var. andicola</td>\n",
              "      <td>s.n.</td>\n",
              "      <td>10</td>\n",
              "      <td>04/12/1981</td>\n",
              "      <td>Argentina</td>\n",
              "      <td>...</td>\n",
              "      <td>Desconocida</td>\n",
              "      <td>Desconocido</td>\n",
              "      <td>BAB; MERL-32429</td>\n",
              "      <td>Creado en BAB por rfortunato el 27/10/2004 // ...</td>\n",
              "      <td>Endémica</td>\n",
              "      <td>NaN</td>\n",
              "      <td>RFORTUNATO</td>\n",
              "      <td>2004-10-27 00:00:00</td>\n",
              "      <td>RFORTUNATO</td>\n",
              "      <td>2004-10-27 00:00:00</td>\n",
              "    </tr>\n",
              "  </tbody>\n",
              "</table>\n",
              "<p>5 rows × 47 columns</p>\n",
              "</div>\n",
              "    <div class=\"colab-df-buttons\">\n",
              "\n",
              "  <div class=\"colab-df-container\">\n",
              "    <button class=\"colab-df-convert\" onclick=\"convertToInteractive('df-482d19cc-0d4d-4b2d-a883-c4b49fda4159')\"\n",
              "            title=\"Convert this dataframe to an interactive table.\"\n",
              "            style=\"display:none;\">\n",
              "\n",
              "  <svg xmlns=\"http://www.w3.org/2000/svg\" height=\"24px\" viewBox=\"0 -960 960 960\">\n",
              "    <path d=\"M120-120v-720h720v720H120Zm60-500h600v-160H180v160Zm220 220h160v-160H400v160Zm0 220h160v-160H400v160ZM180-400h160v-160H180v160Zm440 0h160v-160H620v160ZM180-180h160v-160H180v160Zm440 0h160v-160H620v160Z\"/>\n",
              "  </svg>\n",
              "    </button>\n",
              "\n",
              "  <style>\n",
              "    .colab-df-container {\n",
              "      display:flex;\n",
              "      gap: 12px;\n",
              "    }\n",
              "\n",
              "    .colab-df-convert {\n",
              "      background-color: #E8F0FE;\n",
              "      border: none;\n",
              "      border-radius: 50%;\n",
              "      cursor: pointer;\n",
              "      display: none;\n",
              "      fill: #1967D2;\n",
              "      height: 32px;\n",
              "      padding: 0 0 0 0;\n",
              "      width: 32px;\n",
              "    }\n",
              "\n",
              "    .colab-df-convert:hover {\n",
              "      background-color: #E2EBFA;\n",
              "      box-shadow: 0px 1px 2px rgba(60, 64, 67, 0.3), 0px 1px 3px 1px rgba(60, 64, 67, 0.15);\n",
              "      fill: #174EA6;\n",
              "    }\n",
              "\n",
              "    .colab-df-buttons div {\n",
              "      margin-bottom: 4px;\n",
              "    }\n",
              "\n",
              "    [theme=dark] .colab-df-convert {\n",
              "      background-color: #3B4455;\n",
              "      fill: #D2E3FC;\n",
              "    }\n",
              "\n",
              "    [theme=dark] .colab-df-convert:hover {\n",
              "      background-color: #434B5C;\n",
              "      box-shadow: 0px 1px 3px 1px rgba(0, 0, 0, 0.15);\n",
              "      filter: drop-shadow(0px 1px 2px rgba(0, 0, 0, 0.3));\n",
              "      fill: #FFFFFF;\n",
              "    }\n",
              "  </style>\n",
              "\n",
              "    <script>\n",
              "      const buttonEl =\n",
              "        document.querySelector('#df-482d19cc-0d4d-4b2d-a883-c4b49fda4159 button.colab-df-convert');\n",
              "      buttonEl.style.display =\n",
              "        google.colab.kernel.accessAllowed ? 'block' : 'none';\n",
              "\n",
              "      async function convertToInteractive(key) {\n",
              "        const element = document.querySelector('#df-482d19cc-0d4d-4b2d-a883-c4b49fda4159');\n",
              "        const dataTable =\n",
              "          await google.colab.kernel.invokeFunction('convertToInteractive',\n",
              "                                                    [key], {});\n",
              "        if (!dataTable) return;\n",
              "\n",
              "        const docLinkHtml = 'Like what you see? Visit the ' +\n",
              "          '<a target=\"_blank\" href=https://colab.research.google.com/notebooks/data_table.ipynb>data table notebook</a>'\n",
              "          + ' to learn more about interactive tables.';\n",
              "        element.innerHTML = '';\n",
              "        dataTable['output_type'] = 'display_data';\n",
              "        await google.colab.output.renderOutput(dataTable, element);\n",
              "        const docLink = document.createElement('div');\n",
              "        docLink.innerHTML = docLinkHtml;\n",
              "        element.appendChild(docLink);\n",
              "      }\n",
              "    </script>\n",
              "  </div>\n",
              "\n",
              "\n",
              "<div id=\"df-fca32e11-b0c3-468a-bc6e-941ca7110177\">\n",
              "  <button class=\"colab-df-quickchart\" onclick=\"quickchart('df-fca32e11-b0c3-468a-bc6e-941ca7110177')\"\n",
              "            title=\"Suggest charts.\"\n",
              "            style=\"display:none;\">\n",
              "\n",
              "<svg xmlns=\"http://www.w3.org/2000/svg\" height=\"24px\"viewBox=\"0 0 24 24\"\n",
              "     width=\"24px\">\n",
              "    <g>\n",
              "        <path d=\"M19 3H5c-1.1 0-2 .9-2 2v14c0 1.1.9 2 2 2h14c1.1 0 2-.9 2-2V5c0-1.1-.9-2-2-2zM9 17H7v-7h2v7zm4 0h-2V7h2v10zm4 0h-2v-4h2v4z\"/>\n",
              "    </g>\n",
              "</svg>\n",
              "  </button>\n",
              "\n",
              "<style>\n",
              "  .colab-df-quickchart {\n",
              "      --bg-color: #E8F0FE;\n",
              "      --fill-color: #1967D2;\n",
              "      --hover-bg-color: #E2EBFA;\n",
              "      --hover-fill-color: #174EA6;\n",
              "      --disabled-fill-color: #AAA;\n",
              "      --disabled-bg-color: #DDD;\n",
              "  }\n",
              "\n",
              "  [theme=dark] .colab-df-quickchart {\n",
              "      --bg-color: #3B4455;\n",
              "      --fill-color: #D2E3FC;\n",
              "      --hover-bg-color: #434B5C;\n",
              "      --hover-fill-color: #FFFFFF;\n",
              "      --disabled-bg-color: #3B4455;\n",
              "      --disabled-fill-color: #666;\n",
              "  }\n",
              "\n",
              "  .colab-df-quickchart {\n",
              "    background-color: var(--bg-color);\n",
              "    border: none;\n",
              "    border-radius: 50%;\n",
              "    cursor: pointer;\n",
              "    display: none;\n",
              "    fill: var(--fill-color);\n",
              "    height: 32px;\n",
              "    padding: 0;\n",
              "    width: 32px;\n",
              "  }\n",
              "\n",
              "  .colab-df-quickchart:hover {\n",
              "    background-color: var(--hover-bg-color);\n",
              "    box-shadow: 0 1px 2px rgba(60, 64, 67, 0.3), 0 1px 3px 1px rgba(60, 64, 67, 0.15);\n",
              "    fill: var(--button-hover-fill-color);\n",
              "  }\n",
              "\n",
              "  .colab-df-quickchart-complete:disabled,\n",
              "  .colab-df-quickchart-complete:disabled:hover {\n",
              "    background-color: var(--disabled-bg-color);\n",
              "    fill: var(--disabled-fill-color);\n",
              "    box-shadow: none;\n",
              "  }\n",
              "\n",
              "  .colab-df-spinner {\n",
              "    border: 2px solid var(--fill-color);\n",
              "    border-color: transparent;\n",
              "    border-bottom-color: var(--fill-color);\n",
              "    animation:\n",
              "      spin 1s steps(1) infinite;\n",
              "  }\n",
              "\n",
              "  @keyframes spin {\n",
              "    0% {\n",
              "      border-color: transparent;\n",
              "      border-bottom-color: var(--fill-color);\n",
              "      border-left-color: var(--fill-color);\n",
              "    }\n",
              "    20% {\n",
              "      border-color: transparent;\n",
              "      border-left-color: var(--fill-color);\n",
              "      border-top-color: var(--fill-color);\n",
              "    }\n",
              "    30% {\n",
              "      border-color: transparent;\n",
              "      border-left-color: var(--fill-color);\n",
              "      border-top-color: var(--fill-color);\n",
              "      border-right-color: var(--fill-color);\n",
              "    }\n",
              "    40% {\n",
              "      border-color: transparent;\n",
              "      border-right-color: var(--fill-color);\n",
              "      border-top-color: var(--fill-color);\n",
              "    }\n",
              "    60% {\n",
              "      border-color: transparent;\n",
              "      border-right-color: var(--fill-color);\n",
              "    }\n",
              "    80% {\n",
              "      border-color: transparent;\n",
              "      border-right-color: var(--fill-color);\n",
              "      border-bottom-color: var(--fill-color);\n",
              "    }\n",
              "    90% {\n",
              "      border-color: transparent;\n",
              "      border-bottom-color: var(--fill-color);\n",
              "    }\n",
              "  }\n",
              "</style>\n",
              "\n",
              "  <script>\n",
              "    async function quickchart(key) {\n",
              "      const quickchartButtonEl =\n",
              "        document.querySelector('#' + key + ' button');\n",
              "      quickchartButtonEl.disabled = true;  // To prevent multiple clicks.\n",
              "      quickchartButtonEl.classList.add('colab-df-spinner');\n",
              "      try {\n",
              "        const charts = await google.colab.kernel.invokeFunction(\n",
              "            'suggestCharts', [key], {});\n",
              "      } catch (error) {\n",
              "        console.error('Error during call to suggestCharts:', error);\n",
              "      }\n",
              "      quickchartButtonEl.classList.remove('colab-df-spinner');\n",
              "      quickchartButtonEl.classList.add('colab-df-quickchart-complete');\n",
              "    }\n",
              "    (() => {\n",
              "      let quickchartButtonEl =\n",
              "        document.querySelector('#df-fca32e11-b0c3-468a-bc6e-941ca7110177 button');\n",
              "      quickchartButtonEl.style.display =\n",
              "        google.colab.kernel.accessAllowed ? 'block' : 'none';\n",
              "    })();\n",
              "  </script>\n",
              "</div>\n",
              "    </div>\n",
              "  </div>\n"
            ]
          },
          "metadata": {},
          "execution_count": 25
        }
      ]
    },
    {
      "cell_type": "code",
      "source": [
        "Resumendf=df.info()"
      ],
      "metadata": {
        "colab": {
          "base_uri": "https://localhost:8080/"
        },
        "id": "ZNTTnnAfaWPM",
        "outputId": "85e09d62-eb4e-4c43-86ff-1e1f0ac062a7"
      },
      "execution_count": null,
      "outputs": [
        {
          "output_type": "stream",
          "name": "stdout",
          "text": [
            "<class 'pandas.core.frame.DataFrame'>\n",
            "RangeIndex: 18950 entries, 0 to 18949\n",
            "Data columns (total 47 columns):\n",
            " #   Column                               Non-Null Count  Dtype  \n",
            "---  ------                               --------------  -----  \n",
            " 0   ID                                   18950 non-null  int64  \n",
            " 1   Familia                              16050 non-null  object \n",
            " 2   Colector                             18950 non-null  object \n",
            " 3   Especie                              14916 non-null  object \n",
            " 4   familiaultimadeterminacion           8451 non-null   object \n",
            " 5   especieultimadetermina               10635 non-null  object \n",
            " 6   numerocoleccion                      18950 non-null  object \n",
            " 7   letracoleccion                       18950 non-null  object \n",
            " 8   fechacoleccion                       16785 non-null  object \n",
            " 9   pais                                 18950 non-null  object \n",
            " 10  provincia                            18948 non-null  object \n",
            " 11  Departamento                         18949 non-null  object \n",
            " 12  Localidad                            18145 non-null  object \n",
            " 13  latitudgrados                        14124 non-null  float64\n",
            " 14  latitudminutos                       14104 non-null  float64\n",
            " 15  latitudsegundos                      9760 non-null   float64\n",
            " 16  LatitudNS                            13925 non-null  object \n",
            " 17  Longitudgrados                       14106 non-null  float64\n",
            " 18  Longitudminutos                      14100 non-null  float64\n",
            " 19  longitudsegundos                     9757 non-null   float64\n",
            " 20  LongitudEW                           13635 non-null  object \n",
            " 21  latituddecimal                       18064 non-null  float64\n",
            " 22  Longituddecimal                      18046 non-null  float64\n",
            " 23  Incerteza                            2538 non-null   object \n",
            " 24  Datum                                8101 non-null   object \n",
            " 25  Precisión                            20 non-null     object \n",
            " 26  Fuente                               15825 non-null  object \n",
            " 27  Observaciones                        5902 non-null   object \n",
            " 28  Altitud                              2454 non-null   float64\n",
            " 29  Observaciones.1                      10244 non-null  object \n",
            " 30  Acompañantes                         17114 non-null  object \n",
            " 31  Determinador                         17154 non-null  object \n",
            " 32  Fecha de determinación               7433 non-null   object \n",
            " 33  Familia(Última Det.)                 18290 non-null  object \n",
            " 34  Especie(Última Det.)                 17724 non-null  object \n",
            " 35  Determinador(Última Det.)            18947 non-null  object \n",
            " 36  Fecha de determinación(Última Det.)  8063 non-null   object \n",
            " 37  Calidad de Coord.                    16920 non-null  object \n",
            " 38  Origen de Coord.                     18214 non-null  object \n",
            " 39  Herbarios                            18950 non-null  object \n",
            " 40  Datos del Registro                   2888 non-null   object \n",
            " 41  STATUS(ULT.DET.)                     11353 non-null  object \n",
            " 42  MATERIAL EN SILICA                   1507 non-null   object \n",
            " 43  CARGADO POR                          18950 non-null  object \n",
            " 44  FECHA DE CARGA                       18950 non-null  object \n",
            " 45  MODIFICADO POR                       15683 non-null  object \n",
            " 46  FECHA DE MODIFICACIÓN                18922 non-null  object \n",
            "dtypes: float64(9), int64(1), object(37)\n",
            "memory usage: 6.8+ MB\n"
          ]
        }
      ]
    },
    {
      "cell_type": "code",
      "source": [
        "import numpy as np"
      ],
      "metadata": {
        "id": "HQo7iJBzaemj"
      },
      "execution_count": null,
      "outputs": []
    },
    {
      "cell_type": "code",
      "source": [
        "df.select_dtypes(include=['float64'])"
      ],
      "metadata": {
        "colab": {
          "base_uri": "https://localhost:8080/",
          "height": 424
        },
        "id": "q4WQBDl3aqt-",
        "outputId": "3adae93b-c6de-4006-dc81-95eba70e6f58"
      },
      "execution_count": null,
      "outputs": [
        {
          "output_type": "execute_result",
          "data": {
            "text/plain": [
              "       latitudgrados  latitudminutos  latitudsegundos  Longitudgrados  \\\n",
              "0                NaN             NaN              NaN             NaN   \n",
              "1                NaN             NaN              NaN             NaN   \n",
              "2                NaN             NaN              NaN             NaN   \n",
              "3                NaN             NaN              NaN             NaN   \n",
              "4                NaN             NaN              NaN             NaN   \n",
              "...              ...             ...              ...             ...   \n",
              "18945           31.0            20.0             44.0            58.0   \n",
              "18946           31.0            20.0             44.0            58.0   \n",
              "18947           32.0            22.0             35.0            58.0   \n",
              "18948           33.0             0.0             11.0            58.0   \n",
              "18949           30.0            53.0             23.0            59.0   \n",
              "\n",
              "       Longitudminutos  longitudsegundos  latituddecimal  Longituddecimal  \\\n",
              "0                  NaN               NaN      -35.470000       -69.580000   \n",
              "1                  NaN               NaN      -35.470000       -69.580000   \n",
              "2                  NaN               NaN      -35.470000       -69.580000   \n",
              "3                  NaN               NaN      -32.892796       -68.873782   \n",
              "4                  NaN               NaN      -32.866820       -69.772496   \n",
              "...                ...               ...             ...              ...   \n",
              "18945             10.0              44.0      -31.345556       -58.178889   \n",
              "18946             10.0              44.0      -32.376389       -58.575278   \n",
              "18947             34.0              31.0      -33.003056       -58.809167   \n",
              "18948             48.0              33.0      -30.889722       -59.544444   \n",
              "18949             32.0              40.0             NaN              NaN   \n",
              "\n",
              "       Altitud  \n",
              "0          NaN  \n",
              "1          NaN  \n",
              "2          NaN  \n",
              "3          NaN  \n",
              "4       2500.0  \n",
              "...        ...  \n",
              "18945      NaN  \n",
              "18946      NaN  \n",
              "18947      NaN  \n",
              "18948      NaN  \n",
              "18949      NaN  \n",
              "\n",
              "[18950 rows x 9 columns]"
            ],
            "text/html": [
              "\n",
              "  <div id=\"df-50314756-71f3-49d1-bfa8-cda9f3f972f0\" class=\"colab-df-container\">\n",
              "    <div>\n",
              "<style scoped>\n",
              "    .dataframe tbody tr th:only-of-type {\n",
              "        vertical-align: middle;\n",
              "    }\n",
              "\n",
              "    .dataframe tbody tr th {\n",
              "        vertical-align: top;\n",
              "    }\n",
              "\n",
              "    .dataframe thead th {\n",
              "        text-align: right;\n",
              "    }\n",
              "</style>\n",
              "<table border=\"1\" class=\"dataframe\">\n",
              "  <thead>\n",
              "    <tr style=\"text-align: right;\">\n",
              "      <th></th>\n",
              "      <th>latitudgrados</th>\n",
              "      <th>latitudminutos</th>\n",
              "      <th>latitudsegundos</th>\n",
              "      <th>Longitudgrados</th>\n",
              "      <th>Longitudminutos</th>\n",
              "      <th>longitudsegundos</th>\n",
              "      <th>latituddecimal</th>\n",
              "      <th>Longituddecimal</th>\n",
              "      <th>Altitud</th>\n",
              "    </tr>\n",
              "  </thead>\n",
              "  <tbody>\n",
              "    <tr>\n",
              "      <th>0</th>\n",
              "      <td>NaN</td>\n",
              "      <td>NaN</td>\n",
              "      <td>NaN</td>\n",
              "      <td>NaN</td>\n",
              "      <td>NaN</td>\n",
              "      <td>NaN</td>\n",
              "      <td>-35.470000</td>\n",
              "      <td>-69.580000</td>\n",
              "      <td>NaN</td>\n",
              "    </tr>\n",
              "    <tr>\n",
              "      <th>1</th>\n",
              "      <td>NaN</td>\n",
              "      <td>NaN</td>\n",
              "      <td>NaN</td>\n",
              "      <td>NaN</td>\n",
              "      <td>NaN</td>\n",
              "      <td>NaN</td>\n",
              "      <td>-35.470000</td>\n",
              "      <td>-69.580000</td>\n",
              "      <td>NaN</td>\n",
              "    </tr>\n",
              "    <tr>\n",
              "      <th>2</th>\n",
              "      <td>NaN</td>\n",
              "      <td>NaN</td>\n",
              "      <td>NaN</td>\n",
              "      <td>NaN</td>\n",
              "      <td>NaN</td>\n",
              "      <td>NaN</td>\n",
              "      <td>-35.470000</td>\n",
              "      <td>-69.580000</td>\n",
              "      <td>NaN</td>\n",
              "    </tr>\n",
              "    <tr>\n",
              "      <th>3</th>\n",
              "      <td>NaN</td>\n",
              "      <td>NaN</td>\n",
              "      <td>NaN</td>\n",
              "      <td>NaN</td>\n",
              "      <td>NaN</td>\n",
              "      <td>NaN</td>\n",
              "      <td>-32.892796</td>\n",
              "      <td>-68.873782</td>\n",
              "      <td>NaN</td>\n",
              "    </tr>\n",
              "    <tr>\n",
              "      <th>4</th>\n",
              "      <td>NaN</td>\n",
              "      <td>NaN</td>\n",
              "      <td>NaN</td>\n",
              "      <td>NaN</td>\n",
              "      <td>NaN</td>\n",
              "      <td>NaN</td>\n",
              "      <td>-32.866820</td>\n",
              "      <td>-69.772496</td>\n",
              "      <td>2500.0</td>\n",
              "    </tr>\n",
              "    <tr>\n",
              "      <th>...</th>\n",
              "      <td>...</td>\n",
              "      <td>...</td>\n",
              "      <td>...</td>\n",
              "      <td>...</td>\n",
              "      <td>...</td>\n",
              "      <td>...</td>\n",
              "      <td>...</td>\n",
              "      <td>...</td>\n",
              "      <td>...</td>\n",
              "    </tr>\n",
              "    <tr>\n",
              "      <th>18945</th>\n",
              "      <td>31.0</td>\n",
              "      <td>20.0</td>\n",
              "      <td>44.0</td>\n",
              "      <td>58.0</td>\n",
              "      <td>10.0</td>\n",
              "      <td>44.0</td>\n",
              "      <td>-31.345556</td>\n",
              "      <td>-58.178889</td>\n",
              "      <td>NaN</td>\n",
              "    </tr>\n",
              "    <tr>\n",
              "      <th>18946</th>\n",
              "      <td>31.0</td>\n",
              "      <td>20.0</td>\n",
              "      <td>44.0</td>\n",
              "      <td>58.0</td>\n",
              "      <td>10.0</td>\n",
              "      <td>44.0</td>\n",
              "      <td>-32.376389</td>\n",
              "      <td>-58.575278</td>\n",
              "      <td>NaN</td>\n",
              "    </tr>\n",
              "    <tr>\n",
              "      <th>18947</th>\n",
              "      <td>32.0</td>\n",
              "      <td>22.0</td>\n",
              "      <td>35.0</td>\n",
              "      <td>58.0</td>\n",
              "      <td>34.0</td>\n",
              "      <td>31.0</td>\n",
              "      <td>-33.003056</td>\n",
              "      <td>-58.809167</td>\n",
              "      <td>NaN</td>\n",
              "    </tr>\n",
              "    <tr>\n",
              "      <th>18948</th>\n",
              "      <td>33.0</td>\n",
              "      <td>0.0</td>\n",
              "      <td>11.0</td>\n",
              "      <td>58.0</td>\n",
              "      <td>48.0</td>\n",
              "      <td>33.0</td>\n",
              "      <td>-30.889722</td>\n",
              "      <td>-59.544444</td>\n",
              "      <td>NaN</td>\n",
              "    </tr>\n",
              "    <tr>\n",
              "      <th>18949</th>\n",
              "      <td>30.0</td>\n",
              "      <td>53.0</td>\n",
              "      <td>23.0</td>\n",
              "      <td>59.0</td>\n",
              "      <td>32.0</td>\n",
              "      <td>40.0</td>\n",
              "      <td>NaN</td>\n",
              "      <td>NaN</td>\n",
              "      <td>NaN</td>\n",
              "    </tr>\n",
              "  </tbody>\n",
              "</table>\n",
              "<p>18950 rows × 9 columns</p>\n",
              "</div>\n",
              "    <div class=\"colab-df-buttons\">\n",
              "\n",
              "  <div class=\"colab-df-container\">\n",
              "    <button class=\"colab-df-convert\" onclick=\"convertToInteractive('df-50314756-71f3-49d1-bfa8-cda9f3f972f0')\"\n",
              "            title=\"Convert this dataframe to an interactive table.\"\n",
              "            style=\"display:none;\">\n",
              "\n",
              "  <svg xmlns=\"http://www.w3.org/2000/svg\" height=\"24px\" viewBox=\"0 -960 960 960\">\n",
              "    <path d=\"M120-120v-720h720v720H120Zm60-500h600v-160H180v160Zm220 220h160v-160H400v160Zm0 220h160v-160H400v160ZM180-400h160v-160H180v160Zm440 0h160v-160H620v160ZM180-180h160v-160H180v160Zm440 0h160v-160H620v160Z\"/>\n",
              "  </svg>\n",
              "    </button>\n",
              "\n",
              "  <style>\n",
              "    .colab-df-container {\n",
              "      display:flex;\n",
              "      gap: 12px;\n",
              "    }\n",
              "\n",
              "    .colab-df-convert {\n",
              "      background-color: #E8F0FE;\n",
              "      border: none;\n",
              "      border-radius: 50%;\n",
              "      cursor: pointer;\n",
              "      display: none;\n",
              "      fill: #1967D2;\n",
              "      height: 32px;\n",
              "      padding: 0 0 0 0;\n",
              "      width: 32px;\n",
              "    }\n",
              "\n",
              "    .colab-df-convert:hover {\n",
              "      background-color: #E2EBFA;\n",
              "      box-shadow: 0px 1px 2px rgba(60, 64, 67, 0.3), 0px 1px 3px 1px rgba(60, 64, 67, 0.15);\n",
              "      fill: #174EA6;\n",
              "    }\n",
              "\n",
              "    .colab-df-buttons div {\n",
              "      margin-bottom: 4px;\n",
              "    }\n",
              "\n",
              "    [theme=dark] .colab-df-convert {\n",
              "      background-color: #3B4455;\n",
              "      fill: #D2E3FC;\n",
              "    }\n",
              "\n",
              "    [theme=dark] .colab-df-convert:hover {\n",
              "      background-color: #434B5C;\n",
              "      box-shadow: 0px 1px 3px 1px rgba(0, 0, 0, 0.15);\n",
              "      filter: drop-shadow(0px 1px 2px rgba(0, 0, 0, 0.3));\n",
              "      fill: #FFFFFF;\n",
              "    }\n",
              "  </style>\n",
              "\n",
              "    <script>\n",
              "      const buttonEl =\n",
              "        document.querySelector('#df-50314756-71f3-49d1-bfa8-cda9f3f972f0 button.colab-df-convert');\n",
              "      buttonEl.style.display =\n",
              "        google.colab.kernel.accessAllowed ? 'block' : 'none';\n",
              "\n",
              "      async function convertToInteractive(key) {\n",
              "        const element = document.querySelector('#df-50314756-71f3-49d1-bfa8-cda9f3f972f0');\n",
              "        const dataTable =\n",
              "          await google.colab.kernel.invokeFunction('convertToInteractive',\n",
              "                                                    [key], {});\n",
              "        if (!dataTable) return;\n",
              "\n",
              "        const docLinkHtml = 'Like what you see? Visit the ' +\n",
              "          '<a target=\"_blank\" href=https://colab.research.google.com/notebooks/data_table.ipynb>data table notebook</a>'\n",
              "          + ' to learn more about interactive tables.';\n",
              "        element.innerHTML = '';\n",
              "        dataTable['output_type'] = 'display_data';\n",
              "        await google.colab.output.renderOutput(dataTable, element);\n",
              "        const docLink = document.createElement('div');\n",
              "        docLink.innerHTML = docLinkHtml;\n",
              "        element.appendChild(docLink);\n",
              "      }\n",
              "    </script>\n",
              "  </div>\n",
              "\n",
              "\n",
              "<div id=\"df-cc5d0268-6d56-4476-a545-6eecabc257d4\">\n",
              "  <button class=\"colab-df-quickchart\" onclick=\"quickchart('df-cc5d0268-6d56-4476-a545-6eecabc257d4')\"\n",
              "            title=\"Suggest charts.\"\n",
              "            style=\"display:none;\">\n",
              "\n",
              "<svg xmlns=\"http://www.w3.org/2000/svg\" height=\"24px\"viewBox=\"0 0 24 24\"\n",
              "     width=\"24px\">\n",
              "    <g>\n",
              "        <path d=\"M19 3H5c-1.1 0-2 .9-2 2v14c0 1.1.9 2 2 2h14c1.1 0 2-.9 2-2V5c0-1.1-.9-2-2-2zM9 17H7v-7h2v7zm4 0h-2V7h2v10zm4 0h-2v-4h2v4z\"/>\n",
              "    </g>\n",
              "</svg>\n",
              "  </button>\n",
              "\n",
              "<style>\n",
              "  .colab-df-quickchart {\n",
              "      --bg-color: #E8F0FE;\n",
              "      --fill-color: #1967D2;\n",
              "      --hover-bg-color: #E2EBFA;\n",
              "      --hover-fill-color: #174EA6;\n",
              "      --disabled-fill-color: #AAA;\n",
              "      --disabled-bg-color: #DDD;\n",
              "  }\n",
              "\n",
              "  [theme=dark] .colab-df-quickchart {\n",
              "      --bg-color: #3B4455;\n",
              "      --fill-color: #D2E3FC;\n",
              "      --hover-bg-color: #434B5C;\n",
              "      --hover-fill-color: #FFFFFF;\n",
              "      --disabled-bg-color: #3B4455;\n",
              "      --disabled-fill-color: #666;\n",
              "  }\n",
              "\n",
              "  .colab-df-quickchart {\n",
              "    background-color: var(--bg-color);\n",
              "    border: none;\n",
              "    border-radius: 50%;\n",
              "    cursor: pointer;\n",
              "    display: none;\n",
              "    fill: var(--fill-color);\n",
              "    height: 32px;\n",
              "    padding: 0;\n",
              "    width: 32px;\n",
              "  }\n",
              "\n",
              "  .colab-df-quickchart:hover {\n",
              "    background-color: var(--hover-bg-color);\n",
              "    box-shadow: 0 1px 2px rgba(60, 64, 67, 0.3), 0 1px 3px 1px rgba(60, 64, 67, 0.15);\n",
              "    fill: var(--button-hover-fill-color);\n",
              "  }\n",
              "\n",
              "  .colab-df-quickchart-complete:disabled,\n",
              "  .colab-df-quickchart-complete:disabled:hover {\n",
              "    background-color: var(--disabled-bg-color);\n",
              "    fill: var(--disabled-fill-color);\n",
              "    box-shadow: none;\n",
              "  }\n",
              "\n",
              "  .colab-df-spinner {\n",
              "    border: 2px solid var(--fill-color);\n",
              "    border-color: transparent;\n",
              "    border-bottom-color: var(--fill-color);\n",
              "    animation:\n",
              "      spin 1s steps(1) infinite;\n",
              "  }\n",
              "\n",
              "  @keyframes spin {\n",
              "    0% {\n",
              "      border-color: transparent;\n",
              "      border-bottom-color: var(--fill-color);\n",
              "      border-left-color: var(--fill-color);\n",
              "    }\n",
              "    20% {\n",
              "      border-color: transparent;\n",
              "      border-left-color: var(--fill-color);\n",
              "      border-top-color: var(--fill-color);\n",
              "    }\n",
              "    30% {\n",
              "      border-color: transparent;\n",
              "      border-left-color: var(--fill-color);\n",
              "      border-top-color: var(--fill-color);\n",
              "      border-right-color: var(--fill-color);\n",
              "    }\n",
              "    40% {\n",
              "      border-color: transparent;\n",
              "      border-right-color: var(--fill-color);\n",
              "      border-top-color: var(--fill-color);\n",
              "    }\n",
              "    60% {\n",
              "      border-color: transparent;\n",
              "      border-right-color: var(--fill-color);\n",
              "    }\n",
              "    80% {\n",
              "      border-color: transparent;\n",
              "      border-right-color: var(--fill-color);\n",
              "      border-bottom-color: var(--fill-color);\n",
              "    }\n",
              "    90% {\n",
              "      border-color: transparent;\n",
              "      border-bottom-color: var(--fill-color);\n",
              "    }\n",
              "  }\n",
              "</style>\n",
              "\n",
              "  <script>\n",
              "    async function quickchart(key) {\n",
              "      const quickchartButtonEl =\n",
              "        document.querySelector('#' + key + ' button');\n",
              "      quickchartButtonEl.disabled = true;  // To prevent multiple clicks.\n",
              "      quickchartButtonEl.classList.add('colab-df-spinner');\n",
              "      try {\n",
              "        const charts = await google.colab.kernel.invokeFunction(\n",
              "            'suggestCharts', [key], {});\n",
              "      } catch (error) {\n",
              "        console.error('Error during call to suggestCharts:', error);\n",
              "      }\n",
              "      quickchartButtonEl.classList.remove('colab-df-spinner');\n",
              "      quickchartButtonEl.classList.add('colab-df-quickchart-complete');\n",
              "    }\n",
              "    (() => {\n",
              "      let quickchartButtonEl =\n",
              "        document.querySelector('#df-cc5d0268-6d56-4476-a545-6eecabc257d4 button');\n",
              "      quickchartButtonEl.style.display =\n",
              "        google.colab.kernel.accessAllowed ? 'block' : 'none';\n",
              "    })();\n",
              "  </script>\n",
              "</div>\n",
              "    </div>\n",
              "  </div>\n"
            ]
          },
          "metadata": {},
          "execution_count": 11
        }
      ]
    },
    {
      "cell_type": "code",
      "source": [
        "num_missing = df.isna().sum()"
      ],
      "metadata": {
        "id": "QQBy0qck9A0c"
      },
      "execution_count": null,
      "outputs": []
    },
    {
      "cell_type": "code",
      "source": [
        "columns_with_missing = num_missing[num_missing > 0]"
      ],
      "metadata": {
        "id": "IPXiLRRxmfJ8"
      },
      "execution_count": null,
      "outputs": []
    },
    {
      "cell_type": "code",
      "source": [
        "print(columns_with_missing)"
      ],
      "metadata": {
        "colab": {
          "base_uri": "https://localhost:8080/"
        },
        "id": "178KeFqQmkVz",
        "outputId": "184e3575-3f6c-418d-9443-768ed2636e73"
      },
      "execution_count": null,
      "outputs": [
        {
          "output_type": "stream",
          "name": "stdout",
          "text": [
            "Familia                                 2900\n",
            "Especie                                 4034\n",
            "familiaultimadeterminacion             10499\n",
            "especieultimadetermina                  8315\n",
            "fechacoleccion                          2165\n",
            "provincia                                  2\n",
            "Departamento                               1\n",
            "Localidad                                805\n",
            "latitudgrados                           4826\n",
            "latitudminutos                          4846\n",
            "latitudsegundos                         9190\n",
            "LatitudNS                               5025\n",
            "Longitudgrados                          4844\n",
            "Longitudminutos                         4850\n",
            "longitudsegundos                        9193\n",
            "LongitudEW                              5315\n",
            "latituddecimal                           886\n",
            "Longituddecimal                          904\n",
            "Incerteza                              16412\n",
            "Datum                                  10849\n",
            "Precisión                              18930\n",
            "Fuente                                  3125\n",
            "Observaciones                          13048\n",
            "Altitud                                16496\n",
            "Observaciones.1                         8706\n",
            "Acompañantes                            1836\n",
            "Determinador                            1796\n",
            "Fecha de determinación                 11517\n",
            "Familia(Última Det.)                     660\n",
            "Especie(Última Det.)                    1226\n",
            "Determinador(Última Det.)                  3\n",
            "Fecha de determinación(Última Det.)    10887\n",
            "Calidad de Coord.                       2030\n",
            "Origen de Coord.                         736\n",
            "Datos del Registro                     16062\n",
            "STATUS(ULT.DET.)                        7597\n",
            "MATERIAL EN SILICA                     17443\n",
            "MODIFICADO POR                          3267\n",
            "FECHA DE MODIFICACIÓN                     28\n",
            "dtype: int64\n"
          ]
        }
      ]
    },
    {
      "cell_type": "code",
      "source": [
        "columns_with_no_missing = num_missing[num_missing == 0]"
      ],
      "metadata": {
        "id": "HUjycmB3mkwY"
      },
      "execution_count": null,
      "outputs": []
    },
    {
      "cell_type": "code",
      "source": [
        "print(columns_with_no_missing)"
      ],
      "metadata": {
        "colab": {
          "base_uri": "https://localhost:8080/"
        },
        "id": "iJWYKFMLnKTG",
        "outputId": "94432961-047b-4d50-eea8-9faebf831c37"
      },
      "execution_count": null,
      "outputs": [
        {
          "output_type": "stream",
          "name": "stdout",
          "text": [
            "ID                 0\n",
            "Colector           0\n",
            "numerocoleccion    0\n",
            "letracoleccion     0\n",
            "pais               0\n",
            "Herbarios          0\n",
            "CARGADO POR        0\n",
            "FECHA DE CARGA     0\n",
            "dtype: int64\n"
          ]
        }
      ]
    },
    {
      "cell_type": "code",
      "source": [
        "total_rows = df.shape[0]"
      ],
      "metadata": {
        "id": "-7y37RHcnQtD"
      },
      "execution_count": null,
      "outputs": []
    },
    {
      "cell_type": "code",
      "source": [
        "num_missing = df.isna().sum()"
      ],
      "metadata": {
        "id": "ShxAFYnrnpIi"
      },
      "execution_count": null,
      "outputs": []
    },
    {
      "cell_type": "code",
      "source": [
        "columns_with_missing = num_missing[num_missing > 0]"
      ],
      "metadata": {
        "id": "LdH1YBpVnrNc"
      },
      "execution_count": null,
      "outputs": []
    },
    {
      "cell_type": "code",
      "source": [
        "percentage_missing = (num_missing / total_rows) * 100"
      ],
      "metadata": {
        "id": "EsOYgU4do3-m"
      },
      "execution_count": null,
      "outputs": []
    },
    {
      "cell_type": "code",
      "source": [
        "print(percentage_missing)"
      ],
      "metadata": {
        "colab": {
          "base_uri": "https://localhost:8080/"
        },
        "id": "v-ZpqQ-FpCTM",
        "outputId": "a4c18f0a-d05c-4aa0-a2ad-5dca2aaed93e"
      },
      "execution_count": null,
      "outputs": [
        {
          "output_type": "stream",
          "name": "stdout",
          "text": [
            "ID                                      0.000000\n",
            "Familia                                15.303430\n",
            "Colector                                0.000000\n",
            "Especie                                21.287599\n",
            "familiaultimadeterminacion             55.403694\n",
            "especieultimadetermina                 43.878628\n",
            "numerocoleccion                         0.000000\n",
            "letracoleccion                          0.000000\n",
            "fechacoleccion                         11.424802\n",
            "pais                                    0.000000\n",
            "provincia                               0.010554\n",
            "Departamento                            0.005277\n",
            "Localidad                               4.248021\n",
            "latitudgrados                          25.467018\n",
            "latitudminutos                         25.572559\n",
            "latitudsegundos                        48.496042\n",
            "LatitudNS                              26.517150\n",
            "Longitudgrados                         25.562005\n",
            "Longitudminutos                        25.593668\n",
            "longitudsegundos                       48.511873\n",
            "LongitudEW                             28.047493\n",
            "latituddecimal                          4.675462\n",
            "Longituddecimal                         4.770449\n",
            "Incerteza                              86.606860\n",
            "Datum                                  57.250660\n",
            "Precisión                              99.894459\n",
            "Fuente                                 16.490765\n",
            "Observaciones                          68.854881\n",
            "Altitud                                87.050132\n",
            "Observaciones.1                        45.941953\n",
            "Acompañantes                            9.688654\n",
            "Determinador                            9.477573\n",
            "Fecha de determinación                 60.775726\n",
            "Familia(Última Det.)                    3.482850\n",
            "Especie(Última Det.)                    6.469657\n",
            "Determinador(Última Det.)               0.015831\n",
            "Fecha de determinación(Última Det.)    57.451187\n",
            "Calidad de Coord.                      10.712401\n",
            "Origen de Coord.                        3.883905\n",
            "Herbarios                               0.000000\n",
            "Datos del Registro                     84.759894\n",
            "STATUS(ULT.DET.)                       40.089710\n",
            "MATERIAL EN SILICA                     92.047493\n",
            "CARGADO POR                             0.000000\n",
            "FECHA DE CARGA                          0.000000\n",
            "MODIFICADO POR                         17.240106\n",
            "FECHA DE MODIFICACIÓN                   0.147757\n",
            "dtype: float64\n"
          ]
        }
      ]
    },
    {
      "cell_type": "markdown",
      "source": [
        "**Descripción del dataset por columna o campo de datos**\n",
        "\n",
        "\n",
        "![image.png](data:image/png;base64,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)"
      ],
      "metadata": {
        "id": "MkLAZwdZzdqs"
      }
    },
    {
      "cell_type": "markdown",
      "source": [
        "**Conclusiones generales de la exploración del dataset**\n",
        "\n",
        "El set de datos del Herbario BAB presenta 18950 registros y 47 columnas informativas. El análisis preliminar indica que 9 de estas columnas de datos corresponden a datos numéricos float64, uno a datos numéricos enteros (int64) y el resto a datos categóricos (object). Las 10 columnas con datos numéricos tienen el formato correcto. No obstante, de las columnas con datos categóricos, 5 corresponden a columnas que indican fechas, tanto las fechas de recolección del espécimen, como las de primera y última determinación y las concernientes al ingreso y modificación en la base de datos. Para la limpieza posterior del set se considerará la transformación de los datos al tipo adecuado, siempre y cuando las columnas sean relevantes para responder a las preguntas e hipótesis planteadas originalmente. Por otro lado, algunas columnas están duplicadas, por ejemplo, aquellas correspondientes a las familias y especies de la última determinación. Tanto las columnas duplicadas como las que no brinden datos trascendentes para responder las preguntas serán desestimadas o removidas del set. A priori, se considera que las columnas que tengan algún tipo de información geográfica (País, provincia, departamento, Localidad, todas las que involucren datos de Latitud y Longitud) así como información temporal (Fechacoleccion) serán tenidas en cuenta. Afortunadamente, todas estas columnas poseen un nivel de datos ausentes relativamente bajo, generalmente inferior al 30%.\n"
      ],
      "metadata": {
        "id": "WW5JZg6auXPo"
      }
    },
    {
      "cell_type": "markdown",
      "source": [
        "**IDENTIFICACIÓN DE CAMPOS CON DATOS FALTANTES Y EVALUACIÓN DE LOS MISMOS**"
      ],
      "metadata": {
        "id": "uP_gZaNvw8sl"
      }
    },
    {
      "cell_type": "markdown",
      "source": [
        "**1) Lectura del dataset**"
      ],
      "metadata": {
        "id": "f9ctb4NcWK2W"
      }
    },
    {
      "cell_type": "code",
      "source": [
        "df=pd.read_excel('/content/HerbarioBABEXCELMEJORADO.xlsx')"
      ],
      "metadata": {
        "id": "dJUjCGBBw74d"
      },
      "execution_count": 10,
      "outputs": []
    },
    {
      "cell_type": "code",
      "source": [
        "df.info()"
      ],
      "metadata": {
        "colab": {
          "base_uri": "https://localhost:8080/"
        },
        "id": "vQU9kN_DxJsk",
        "outputId": "310ad4aa-1c38-4805-8c7b-05ce08e4f8c9"
      },
      "execution_count": 11,
      "outputs": [
        {
          "output_type": "stream",
          "name": "stdout",
          "text": [
            "<class 'pandas.core.frame.DataFrame'>\n",
            "RangeIndex: 18950 entries, 0 to 18949\n",
            "Data columns (total 47 columns):\n",
            " #   Column                               Non-Null Count  Dtype  \n",
            "---  ------                               --------------  -----  \n",
            " 0   ID                                   18950 non-null  int64  \n",
            " 1   Familia                              16050 non-null  object \n",
            " 2   Colector                             18950 non-null  object \n",
            " 3   Especie                              14916 non-null  object \n",
            " 4   familiaultimadeterminacion           8451 non-null   object \n",
            " 5   especieultimadetermina               10635 non-null  object \n",
            " 6   numerocoleccion                      18950 non-null  object \n",
            " 7   letracoleccion                       18950 non-null  object \n",
            " 8   fechacoleccion                       16785 non-null  object \n",
            " 9   pais                                 18950 non-null  object \n",
            " 10  provincia                            18948 non-null  object \n",
            " 11  Departamento                         18949 non-null  object \n",
            " 12  Localidad                            18145 non-null  object \n",
            " 13  latitudgrados                        14124 non-null  float64\n",
            " 14  latitudminutos                       14104 non-null  float64\n",
            " 15  latitudsegundos                      9760 non-null   float64\n",
            " 16  LatitudNS                            13925 non-null  object \n",
            " 17  Longitudgrados                       14106 non-null  float64\n",
            " 18  Longitudminutos                      14100 non-null  float64\n",
            " 19  longitudsegundos                     9757 non-null   float64\n",
            " 20  LongitudEW                           13635 non-null  object \n",
            " 21  latituddecimal                       18064 non-null  float64\n",
            " 22  Longituddecimal                      18046 non-null  float64\n",
            " 23  Incerteza                            2538 non-null   object \n",
            " 24  Datum                                8101 non-null   object \n",
            " 25  Precisión                            20 non-null     object \n",
            " 26  Fuente                               15825 non-null  object \n",
            " 27  Observaciones                        5902 non-null   object \n",
            " 28  Altitud                              2454 non-null   float64\n",
            " 29  Observaciones.1                      10244 non-null  object \n",
            " 30  Acompañantes                         17114 non-null  object \n",
            " 31  Determinador                         17154 non-null  object \n",
            " 32  Fecha de determinación               7433 non-null   object \n",
            " 33  Familia(Última Det.)                 18290 non-null  object \n",
            " 34  Especie(Última Det.)                 17724 non-null  object \n",
            " 35  Determinador(Última Det.)            18947 non-null  object \n",
            " 36  Fecha de determinación(Última Det.)  8063 non-null   object \n",
            " 37  Calidad de Coord.                    16920 non-null  object \n",
            " 38  Origen de Coord.                     18214 non-null  object \n",
            " 39  Herbarios                            18950 non-null  object \n",
            " 40  Datos del Registro                   2888 non-null   object \n",
            " 41  STATUS(ULT.DET.)                     11353 non-null  object \n",
            " 42  MATERIAL EN SILICA                   1507 non-null   object \n",
            " 43  CARGADO POR                          18950 non-null  object \n",
            " 44  FECHA DE CARGA                       18950 non-null  object \n",
            " 45  MODIFICADO POR                       15683 non-null  object \n",
            " 46  FECHA DE MODIFICACIÓN                18922 non-null  object \n",
            "dtypes: float64(9), int64(1), object(37)\n",
            "memory usage: 6.8+ MB\n"
          ]
        }
      ]
    },
    {
      "cell_type": "markdown",
      "source": [
        "**2) Selección y eliminación de variables, campos o columnas no informativas**\n",
        "\n",
        "Para responder las preguntas planteadas, es relevante contar con algunas de las columnas del dataset, básicamente aquellas que aportan información sobre el lugar y fecha de recolección del espécimen, su determinación taxonómica y aquellos campos que permiten la identificación unívoca del espécimen (colectores, número y letra de colección). Se preservarán también algunos datos que pueden ser relevantes por su naturaleza ecológica (STATUS (ULT. DET., Altitud y los campos referidos a observaciones."
      ],
      "metadata": {
        "id": "GfhrDSK-xPzt"
      }
    },
    {
      "cell_type": "code",
      "source": [
        "df1 = df.drop(['Precisión', 'MATERIAL EN SILICA', 'CARGADO POR', 'FECHA DE CARGA', 'MODIFICADO POR', 'FECHA DE MODIFICACIÓN', 'Datos del Registro'], axis=1)"
      ],
      "metadata": {
        "id": "P73Q1AzdxPgl"
      },
      "execution_count": 12,
      "outputs": []
    },
    {
      "cell_type": "code",
      "source": [
        "df1.info()"
      ],
      "metadata": {
        "colab": {
          "base_uri": "https://localhost:8080/"
        },
        "id": "mwuOqwrcxphE",
        "outputId": "9b2ba1b7-c2f5-4965-a7d5-1d21999d27d5"
      },
      "execution_count": 13,
      "outputs": [
        {
          "output_type": "stream",
          "name": "stdout",
          "text": [
            "<class 'pandas.core.frame.DataFrame'>\n",
            "RangeIndex: 18950 entries, 0 to 18949\n",
            "Data columns (total 40 columns):\n",
            " #   Column                               Non-Null Count  Dtype  \n",
            "---  ------                               --------------  -----  \n",
            " 0   ID                                   18950 non-null  int64  \n",
            " 1   Familia                              16050 non-null  object \n",
            " 2   Colector                             18950 non-null  object \n",
            " 3   Especie                              14916 non-null  object \n",
            " 4   familiaultimadeterminacion           8451 non-null   object \n",
            " 5   especieultimadetermina               10635 non-null  object \n",
            " 6   numerocoleccion                      18950 non-null  object \n",
            " 7   letracoleccion                       18950 non-null  object \n",
            " 8   fechacoleccion                       16785 non-null  object \n",
            " 9   pais                                 18950 non-null  object \n",
            " 10  provincia                            18948 non-null  object \n",
            " 11  Departamento                         18949 non-null  object \n",
            " 12  Localidad                            18145 non-null  object \n",
            " 13  latitudgrados                        14124 non-null  float64\n",
            " 14  latitudminutos                       14104 non-null  float64\n",
            " 15  latitudsegundos                      9760 non-null   float64\n",
            " 16  LatitudNS                            13925 non-null  object \n",
            " 17  Longitudgrados                       14106 non-null  float64\n",
            " 18  Longitudminutos                      14100 non-null  float64\n",
            " 19  longitudsegundos                     9757 non-null   float64\n",
            " 20  LongitudEW                           13635 non-null  object \n",
            " 21  latituddecimal                       18064 non-null  float64\n",
            " 22  Longituddecimal                      18046 non-null  float64\n",
            " 23  Incerteza                            2538 non-null   object \n",
            " 24  Datum                                8101 non-null   object \n",
            " 25  Fuente                               15825 non-null  object \n",
            " 26  Observaciones                        5902 non-null   object \n",
            " 27  Altitud                              2454 non-null   float64\n",
            " 28  Observaciones.1                      10244 non-null  object \n",
            " 29  Acompañantes                         17114 non-null  object \n",
            " 30  Determinador                         17154 non-null  object \n",
            " 31  Fecha de determinación               7433 non-null   object \n",
            " 32  Familia(Última Det.)                 18290 non-null  object \n",
            " 33  Especie(Última Det.)                 17724 non-null  object \n",
            " 34  Determinador(Última Det.)            18947 non-null  object \n",
            " 35  Fecha de determinación(Última Det.)  8063 non-null   object \n",
            " 36  Calidad de Coord.                    16920 non-null  object \n",
            " 37  Origen de Coord.                     18214 non-null  object \n",
            " 38  Herbarios                            18950 non-null  object \n",
            " 39  STATUS(ULT.DET.)                     11353 non-null  object \n",
            "dtypes: float64(9), int64(1), object(30)\n",
            "memory usage: 5.8+ MB\n"
          ]
        }
      ]
    },
    {
      "cell_type": "markdown",
      "source": [
        "**3) Limpieza de campos o columnas duplicadas**\n",
        "\n",
        "Como resultado, se obtuvieron 39 columnas de las cuales se sabe que las columnas 4 y 5 son duplicados de las columnas 32 y 33, y además tienen muchos faltantes de datos. Por lo tanto, se procederá a eliminarlas. Por otra parte, los datos de longitud y latitud en sistema sexagesimal o hexagesimal tienen su correlato en los datos de latitud y longitud en sistema decimal. Éste último es más adecuado para el análisis de datos, por lo cual, se puede también considerar la eliminación de estas columnas, aunque por el momento se dejarán, ya que pueden ser útiles en alguna instancia posterior."
      ],
      "metadata": {
        "id": "zitrNLXtxuu1"
      }
    },
    {
      "cell_type": "code",
      "source": [
        "df1 = df1.drop(['familiaultimadeterminacion', 'especieultimadetermina'], axis=1)"
      ],
      "metadata": {
        "id": "ssa240chxt3V"
      },
      "execution_count": 14,
      "outputs": []
    },
    {
      "cell_type": "markdown",
      "source": [
        "**4) Eliminación de datos faltantes en columnas o campos \"fundamentales\"**\n",
        "\n",
        "Los datos más relevantes para la realización del trabajo son los siguientes: Provincia, Latitud decimal y Longitud decimal del área de recolección. Esto es porque las coordenadas geográficas son aquellas que permiten la identificaión espacial exacta del lugaar de recolección del registro, y en el caso de provincia, porque permite realizar agrupamientos geográficos consistentes. dado que se plantea como uno de los objetivos evaluar las áreas o gaps de colecta; provincia es la división administrativa más fácilmente visualizable para analizar tendencias. En cuanto a los otros campos, por el momento, se considerará de prioridad tener familia y nombre taxonómico de la última determinación, dado que otro objetivo es conocer la composición de la colectas y las tendencias según familia botánica; la última determinación (y no la primera) es la identidad actualizada del espécimen y además posee más cantidad de datos informativos que la de la primera determinación. El resto de las columnas no son prioritarias y la presencia de datos faltantes en las mismas no afectaría, a priori, los análisis más importantes a realizar, por lo que sólo se considerará la eliminación de datos faltantes en las columnas anteriormente mencionadas. No se considera realizar imputación de datos, ya que la imputación en caso de coordenadas geográficas puede llegar a dar lugar a un aumento de la incerteza en la localización del punto de colecta, y esto puede generar sesgos e incluso errores para los análisis espaciales."
      ],
      "metadata": {
        "id": "AIR442jUx1aV"
      }
    },
    {
      "cell_type": "code",
      "source": [
        "df2=df1.dropna(subset=['latituddecimal', 'Longituddecimal', 'Familia(Última Det.)', 'Especie(Última Det.)'])"
      ],
      "metadata": {
        "id": "zbch2QC_xzKt"
      },
      "execution_count": 15,
      "outputs": []
    },
    {
      "cell_type": "code",
      "source": [
        "df2.info()"
      ],
      "metadata": {
        "colab": {
          "base_uri": "https://localhost:8080/"
        },
        "id": "xNGAOl7iyAJF",
        "outputId": "3bc263d3-d692-4c59-8e4a-d279d39ab45c"
      },
      "execution_count": 16,
      "outputs": [
        {
          "output_type": "stream",
          "name": "stdout",
          "text": [
            "<class 'pandas.core.frame.DataFrame'>\n",
            "Int64Index: 16607 entries, 0 to 18948\n",
            "Data columns (total 38 columns):\n",
            " #   Column                               Non-Null Count  Dtype  \n",
            "---  ------                               --------------  -----  \n",
            " 0   ID                                   16607 non-null  int64  \n",
            " 1   Familia                              14386 non-null  object \n",
            " 2   Colector                             16607 non-null  object \n",
            " 3   Especie                              13822 non-null  object \n",
            " 4   numerocoleccion                      16607 non-null  object \n",
            " 5   letracoleccion                       16607 non-null  object \n",
            " 6   fechacoleccion                       14626 non-null  object \n",
            " 7   pais                                 16607 non-null  object \n",
            " 8   provincia                            16605 non-null  object \n",
            " 9   Departamento                         16606 non-null  object \n",
            " 10  Localidad                            16142 non-null  object \n",
            " 11  latitudgrados                        12629 non-null  float64\n",
            " 12  latitudminutos                       12608 non-null  float64\n",
            " 13  latitudsegundos                      9027 non-null   float64\n",
            " 14  LatitudNS                            12433 non-null  object \n",
            " 15  Longitudgrados                       12613 non-null  float64\n",
            " 16  Longitudminutos                      12607 non-null  float64\n",
            " 17  longitudsegundos                     9007 non-null   float64\n",
            " 18  LongitudEW                           12155 non-null  object \n",
            " 19  latituddecimal                       16607 non-null  float64\n",
            " 20  Longituddecimal                      16607 non-null  float64\n",
            " 21  Incerteza                            2030 non-null   object \n",
            " 22  Datum                                7471 non-null   object \n",
            " 23  Fuente                               14154 non-null  object \n",
            " 24  Observaciones                        4884 non-null   object \n",
            " 25  Altitud                              2070 non-null   float64\n",
            " 26  Observaciones.1                      8890 non-null   object \n",
            " 27  Acompañantes                         14864 non-null  object \n",
            " 28  Determinador                         14870 non-null  object \n",
            " 29  Fecha de determinación               6836 non-null   object \n",
            " 30  Familia(Última Det.)                 16607 non-null  object \n",
            " 31  Especie(Última Det.)                 16607 non-null  object \n",
            " 32  Determinador(Última Det.)            16607 non-null  object \n",
            " 33  Fecha de determinación(Última Det.)  7458 non-null   object \n",
            " 34  Calidad de Coord.                    15004 non-null  object \n",
            " 35  Origen de Coord.                     15986 non-null  object \n",
            " 36  Herbarios                            16607 non-null  object \n",
            " 37  STATUS(ULT.DET.)                     10675 non-null  object \n",
            "dtypes: float64(9), int64(1), object(28)\n",
            "memory usage: 4.9+ MB\n"
          ]
        }
      ]
    },
    {
      "cell_type": "code",
      "source": [
        "df3=df1.dropna(subset=['Longituddecimal'])"
      ],
      "metadata": {
        "id": "z-JG-XTpyEM1"
      },
      "execution_count": 17,
      "outputs": []
    },
    {
      "cell_type": "code",
      "source": [
        "df3.info()"
      ],
      "metadata": {
        "colab": {
          "base_uri": "https://localhost:8080/"
        },
        "id": "I_7ZHwt2yGEu",
        "outputId": "6ad3b10e-ce4b-41c6-831d-e37d9bf21530"
      },
      "execution_count": 18,
      "outputs": [
        {
          "output_type": "stream",
          "name": "stdout",
          "text": [
            "<class 'pandas.core.frame.DataFrame'>\n",
            "Int64Index: 18046 entries, 0 to 18948\n",
            "Data columns (total 38 columns):\n",
            " #   Column                               Non-Null Count  Dtype  \n",
            "---  ------                               --------------  -----  \n",
            " 0   ID                                   18046 non-null  int64  \n",
            " 1   Familia                              15258 non-null  object \n",
            " 2   Colector                             18046 non-null  object \n",
            " 3   Especie                              14165 non-null  object \n",
            " 4   numerocoleccion                      18046 non-null  object \n",
            " 5   letracoleccion                       18046 non-null  object \n",
            " 6   fechacoleccion                       16021 non-null  object \n",
            " 7   pais                                 18046 non-null  object \n",
            " 8   provincia                            18044 non-null  object \n",
            " 9   Departamento                         18045 non-null  object \n",
            " 10  Localidad                            17579 non-null  object \n",
            " 11  latitudgrados                        13937 non-null  float64\n",
            " 12  latitudminutos                       13916 non-null  float64\n",
            " 13  latitudsegundos                      9611 non-null   float64\n",
            " 14  LatitudNS                            13739 non-null  object \n",
            " 15  Longitudgrados                       13921 non-null  float64\n",
            " 16  Longitudminutos                      13915 non-null  float64\n",
            " 17  longitudsegundos                     9601 non-null   float64\n",
            " 18  LongitudEW                           13457 non-null  object \n",
            " 19  latituddecimal                       18043 non-null  float64\n",
            " 20  Longituddecimal                      18046 non-null  float64\n",
            " 21  Incerteza                            2341 non-null   object \n",
            " 22  Datum                                8089 non-null   object \n",
            " 23  Fuente                               15556 non-null  object \n",
            " 24  Observaciones                        5594 non-null   object \n",
            " 25  Altitud                              2386 non-null   float64\n",
            " 26  Observaciones.1                      9853 non-null   object \n",
            " 27  Acompañantes                         16220 non-null  object \n",
            " 28  Determinador                         16250 non-null  object \n",
            " 29  Fecha de determinación               7017 non-null   object \n",
            " 30  Familia(Última Det.)                 17413 non-null  object \n",
            " 31  Especie(Última Det.)                 16837 non-null  object \n",
            " 32  Determinador(Última Det.)            18043 non-null  object \n",
            " 33  Fecha de determinación(Última Det.)  7597 non-null   object \n",
            " 34  Calidad de Coord.                    16141 non-null  object \n",
            " 35  Origen de Coord.                     17367 non-null  object \n",
            " 36  Herbarios                            18046 non-null  object \n",
            " 37  STATUS(ULT.DET.)                     10758 non-null  object \n",
            "dtypes: float64(9), int64(1), object(28)\n",
            "memory usage: 5.4+ MB\n"
          ]
        }
      ]
    },
    {
      "cell_type": "markdown",
      "source": [
        "**5) Detección de \"outliers\"**\n",
        "\n",
        "Una vez realizada la limpieza anterior de datos, sería necesario detectar datos inconsistentes. Esto es normal en los campos de coordenadas geográficas, donde la falta de simbología en las convenciones, el error en la colocación del separador decimal u otros errores pueden generar la presencia de datos de distribución extrema. Como estos campos, especialmente latitud y longitud decimal, son los más importantes para este estudio, se enfocará la detección de datos inconsistentes aquí.\n",
        "\n"
      ],
      "metadata": {
        "id": "8Fm5FCcOyKj9"
      }
    },
    {
      "cell_type": "code",
      "source": [
        "df2.boxplot(column=['latituddecimal'])"
      ],
      "metadata": {
        "colab": {
          "base_uri": "https://localhost:8080/",
          "height": 447
        },
        "id": "kVEC2QvYyJwM",
        "outputId": "a79dcc83-bf93-45b3-bda7-2644f18b458c"
      },
      "execution_count": 225,
      "outputs": [
        {
          "output_type": "execute_result",
          "data": {
            "text/plain": [
              "<Axes: >"
            ]
          },
          "metadata": {},
          "execution_count": 225
        },
        {
          "output_type": "display_data",
          "data": {
            "text/plain": [
              "<Figure size 640x480 with 1 Axes>"
            ],
            "image/png": "[encoded data removed]"
          },
          "metadata": {}
        }
      ]
    },
    {
      "cell_type": "code",
      "source": [
        "df2.boxplot(column=['Longituddecimal'])"
      ],
      "metadata": {
        "colab": {
          "base_uri": "https://localhost:8080/",
          "height": 447
        },
        "id": "k9stK0xZyWSF",
        "outputId": "ec92ce8d-d0b5-48cd-b676-1030cd46c23a"
      },
      "execution_count": 224,
      "outputs": [
        {
          "output_type": "execute_result",
          "data": {
            "text/plain": [
              "<Axes: >"
            ]
          },
          "metadata": {},
          "execution_count": 224
        },
        {
          "output_type": "display_data",
          "data": {
            "text/plain": [
              "<Figure size 640x480 with 1 Axes>"
            ],
            "image/png": "[encoded data removed]"
          },
          "metadata": {}
        }
      ]
    },
    {
      "cell_type": "code",
      "source": [
        "df2.loc[df2['latituddecimal'] > -20]"
      ],
      "metadata": {
        "colab": {
          "base_uri": "https://localhost:8080/",
          "height": 718
        },
        "id": "oJlAAMxYyY20",
        "outputId": "72fbb70e-f193-47fb-892b-a522bb4a95a0"
      },
      "execution_count": 222,
      "outputs": [
        {
          "output_type": "execute_result",
          "data": {
            "text/plain": [
              "           ID           Familia               Colector  \\\n",
              "372     21642  Scrophulariaceae           Ruiz Leal, -   \n",
              "1355   178449  Scrophulariaceae  Martínez Crovetto, R.   \n",
              "2339   174640         Lamiaceae      Spegazzini, C. L.   \n",
              "2495   178947  Scrophulariaceae            Baer, G. A.   \n",
              "2557   174157      Boraginaceae            Baer, G. A.   \n",
              "8836   174929         Lamiaceae             Zabala, S.   \n",
              "13674  212265           Poaceae            Insfrán, P.   \n",
              "\n",
              "                                                 Especie numerocoleccion  \\\n",
              "372                Monttea aphylla (Miers) Benth.& Hook.            6875   \n",
              "1355   Mimulus glabratus H.B.K. var parviflorus (Lind...            3469   \n",
              "2339                              Hyptis mutabilis Briq.            s.n.   \n",
              "2495   Scoparia glandulifera (Fritsch) Descole et Bor...              12   \n",
              "2557                        Tournefortia lilloi Johnston              23   \n",
              "8836                               Leonorus sibiricus L.             166   \n",
              "13674                                                NaN            1021   \n",
              "\n",
              "      letracoleccion fechacoleccion       pais     provincia Departamento  \\\n",
              "372                -     10/11/1940  Argentina       Mendoza    Las Heras   \n",
              "1355               -     00/03/1945  Argentina  Buenos Aires     Balcarce   \n",
              "2339             365           2291  Argentina       Tucumán      Capital   \n",
              "2495               -       /10/1902  Argentina       Tucumán      Capital   \n",
              "2557               -       /10/1902  Argentina       Tucumán      Capital   \n",
              "8836               -          15145  Argentina         Salta         Orán   \n",
              "13674              -            NaN  Argentina       Formosa       Patiño   \n",
              "\n",
              "       ... Fecha de determinación  Familia(Última Det.)  \\\n",
              "372    ...              sin fecha      Scrophulariaceae   \n",
              "1355   ...                    NaN      Scrophulariaceae   \n",
              "2339   ...                 V-1969             Lamiaceae   \n",
              "2495   ...                   1954      Scrophulariaceae   \n",
              "2557   ...               VII-1972          Boraginaceae   \n",
              "8836   ...                    NaN             Lamiaceae   \n",
              "13674  ...                    NaN               Poaceae   \n",
              "\n",
              "                                    Especie(Última Det.)  \\\n",
              "372    Monttea aphylla (Miers) Benth.& Hook. var aphylla   \n",
              "1355   Mimulus glabratus H.B.K. var parviflorus (Lind...   \n",
              "2339                              Hyptis mutabilis Briq.   \n",
              "2495   Scoparia glandulifera (Fritsch) Descole et Bor...   \n",
              "2557                    Tournefortia lilloi I.M. Johnst.   \n",
              "8836                               Leonorus sibiricus L.   \n",
              "13674                           Gouinia tortuosa Swallen   \n",
              "\n",
              "             Determinador(Última Det.) Fecha de determinación(Última Det.)  \\\n",
              "372                      Rossow, R. A.                                1984   \n",
              "1355                                 -                                 NaN   \n",
              "2339                        Crespo, S.                              V-1969   \n",
              "2495   Descole, H. R. & Borsini, O. H.                                1954   \n",
              "2557                   Pérez Moreau, -                            VII-1972   \n",
              "8836                        Lahitte, -                                 NaN   \n",
              "13674                                -                                 NaN   \n",
              "\n",
              "       Calidad de Coord.                                   Origen de Coord.  \\\n",
              "372          Desconocida                                        Desconocido   \n",
              "1355         Desconocida                                        Desconocido   \n",
              "2339         Desconocida                                        Desconocido   \n",
              "2495         Desconocida                                        Desconocido   \n",
              "2557         Desconocida                                        Desconocido   \n",
              "8836                 NaN                                        Desconocido   \n",
              "13674   Centro del Dpto.  Atlas de la Rep. Argentina. 1ª parte Política....   \n",
              "\n",
              "         Herbarios STATUS(ULT.DET.)                fechacorregida  \n",
              "372      BAB; MERL              NaN 1940-11-10 00:00:00.000000000  \n",
              "1355           BAB              NaN                           NaT  \n",
              "2339           BAB              NaN 1970-01-01 00:00:00.000002291  \n",
              "2495           BAB              NaN 1902-10-01 00:00:00.000000000  \n",
              "2557           BAB           Nativa 1902-10-01 00:00:00.000000000  \n",
              "8836   Desconocida       Adventicia 1970-01-01 00:00:00.000015145  \n",
              "13674          BAB              NaN                           NaT  \n",
              "\n",
              "[7 rows x 39 columns]"
            ],
            "text/html": [
              "\n",
              "  <div id=\"df-0a26136c-7532-4200-9190-85f323f4b81e\" class=\"colab-df-container\">\n",
              "    <div>\n",
              "<style scoped>\n",
              "    .dataframe tbody tr th:only-of-type {\n",
              "        vertical-align: middle;\n",
              "    }\n",
              "\n",
              "    .dataframe tbody tr th {\n",
              "        vertical-align: top;\n",
              "    }\n",
              "\n",
              "    .dataframe thead th {\n",
              "        text-align: right;\n",
              "    }\n",
              "</style>\n",
              "<table border=\"1\" class=\"dataframe\">\n",
              "  <thead>\n",
              "    <tr style=\"text-align: right;\">\n",
              "      <th></th>\n",
              "      <th>ID</th>\n",
              "      <th>Familia</th>\n",
              "      <th>Colector</th>\n",
              "      <th>Especie</th>\n",
              "      <th>numerocoleccion</th>\n",
              "      <th>letracoleccion</th>\n",
              "      <th>fechacoleccion</th>\n",
              "      <th>pais</th>\n",
              "      <th>provincia</th>\n",
              "      <th>Departamento</th>\n",
              "      <th>...</th>\n",
              "      <th>Fecha de determinación</th>\n",
              "      <th>Familia(Última Det.)</th>\n",
              "      <th>Especie(Última Det.)</th>\n",
              "      <th>Determinador(Última Det.)</th>\n",
              "      <th>Fecha de determinación(Última Det.)</th>\n",
              "      <th>Calidad de Coord.</th>\n",
              "      <th>Origen de Coord.</th>\n",
              "      <th>Herbarios</th>\n",
              "      <th>STATUS(ULT.DET.)</th>\n",
              "      <th>fechacorregida</th>\n",
              "    </tr>\n",
              "  </thead>\n",
              "  <tbody>\n",
              "    <tr>\n",
              "      <th>372</th>\n",
              "      <td>21642</td>\n",
              "      <td>Scrophulariaceae</td>\n",
              "      <td>Ruiz Leal, -</td>\n",
              "      <td>Monttea aphylla (Miers) Benth.&amp; Hook.</td>\n",
              "      <td>6875</td>\n",
              "      <td>-</td>\n",
              "      <td>10/11/1940</td>\n",
              "      <td>Argentina</td>\n",
              "      <td>Mendoza</td>\n",
              "      <td>Las Heras</td>\n",
              "      <td>...</td>\n",
              "      <td>sin fecha</td>\n",
              "      <td>Scrophulariaceae</td>\n",
              "      <td>Monttea aphylla (Miers) Benth.&amp; Hook. var aphylla</td>\n",
              "      <td>Rossow, R. A.</td>\n",
              "      <td>1984</td>\n",
              "      <td>Desconocida</td>\n",
              "      <td>Desconocido</td>\n",
              "      <td>BAB; MERL</td>\n",
              "      <td>NaN</td>\n",
              "      <td>1940-11-10 00:00:00.000000000</td>\n",
              "    </tr>\n",
              "    <tr>\n",
              "      <th>1355</th>\n",
              "      <td>178449</td>\n",
              "      <td>Scrophulariaceae</td>\n",
              "      <td>Martínez Crovetto, R.</td>\n",
              "      <td>Mimulus glabratus H.B.K. var parviflorus (Lind...</td>\n",
              "      <td>3469</td>\n",
              "      <td>-</td>\n",
              "      <td>00/03/1945</td>\n",
              "      <td>Argentina</td>\n",
              "      <td>Buenos Aires</td>\n",
              "      <td>Balcarce</td>\n",
              "      <td>...</td>\n",
              "      <td>NaN</td>\n",
              "      <td>Scrophulariaceae</td>\n",
              "      <td>Mimulus glabratus H.B.K. var parviflorus (Lind...</td>\n",
              "      <td>-</td>\n",
              "      <td>NaN</td>\n",
              "      <td>Desconocida</td>\n",
              "      <td>Desconocido</td>\n",
              "      <td>BAB</td>\n",
              "      <td>NaN</td>\n",
              "      <td>NaT</td>\n",
              "    </tr>\n",
              "    <tr>\n",
              "      <th>2339</th>\n",
              "      <td>174640</td>\n",
              "      <td>Lamiaceae</td>\n",
              "      <td>Spegazzini, C. L.</td>\n",
              "      <td>Hyptis mutabilis Briq.</td>\n",
              "      <td>s.n.</td>\n",
              "      <td>365</td>\n",
              "      <td>2291</td>\n",
              "      <td>Argentina</td>\n",
              "      <td>Tucumán</td>\n",
              "      <td>Capital</td>\n",
              "      <td>...</td>\n",
              "      <td>V-1969</td>\n",
              "      <td>Lamiaceae</td>\n",
              "      <td>Hyptis mutabilis Briq.</td>\n",
              "      <td>Crespo, S.</td>\n",
              "      <td>V-1969</td>\n",
              "      <td>Desconocida</td>\n",
              "      <td>Desconocido</td>\n",
              "      <td>BAB</td>\n",
              "      <td>NaN</td>\n",
              "      <td>1970-01-01 00:00:00.000002291</td>\n",
              "    </tr>\n",
              "    <tr>\n",
              "      <th>2495</th>\n",
              "      <td>178947</td>\n",
              "      <td>Scrophulariaceae</td>\n",
              "      <td>Baer, G. A.</td>\n",
              "      <td>Scoparia glandulifera (Fritsch) Descole et Bor...</td>\n",
              "      <td>12</td>\n",
              "      <td>-</td>\n",
              "      <td>/10/1902</td>\n",
              "      <td>Argentina</td>\n",
              "      <td>Tucumán</td>\n",
              "      <td>Capital</td>\n",
              "      <td>...</td>\n",
              "      <td>1954</td>\n",
              "      <td>Scrophulariaceae</td>\n",
              "      <td>Scoparia glandulifera (Fritsch) Descole et Bor...</td>\n",
              "      <td>Descole, H. R. &amp; Borsini, O. H.</td>\n",
              "      <td>1954</td>\n",
              "      <td>Desconocida</td>\n",
              "      <td>Desconocido</td>\n",
              "      <td>BAB</td>\n",
              "      <td>NaN</td>\n",
              "      <td>1902-10-01 00:00:00.000000000</td>\n",
              "    </tr>\n",
              "    <tr>\n",
              "      <th>2557</th>\n",
              "      <td>174157</td>\n",
              "      <td>Boraginaceae</td>\n",
              "      <td>Baer, G. A.</td>\n",
              "      <td>Tournefortia lilloi Johnston</td>\n",
              "      <td>23</td>\n",
              "      <td>-</td>\n",
              "      <td>/10/1902</td>\n",
              "      <td>Argentina</td>\n",
              "      <td>Tucumán</td>\n",
              "      <td>Capital</td>\n",
              "      <td>...</td>\n",
              "      <td>VII-1972</td>\n",
              "      <td>Boraginaceae</td>\n",
              "      <td>Tournefortia lilloi I.M. Johnst.</td>\n",
              "      <td>Pérez Moreau, -</td>\n",
              "      <td>VII-1972</td>\n",
              "      <td>Desconocida</td>\n",
              "      <td>Desconocido</td>\n",
              "      <td>BAB</td>\n",
              "      <td>Nativa</td>\n",
              "      <td>1902-10-01 00:00:00.000000000</td>\n",
              "    </tr>\n",
              "    <tr>\n",
              "      <th>8836</th>\n",
              "      <td>174929</td>\n",
              "      <td>Lamiaceae</td>\n",
              "      <td>Zabala, S.</td>\n",
              "      <td>Leonorus sibiricus L.</td>\n",
              "      <td>166</td>\n",
              "      <td>-</td>\n",
              "      <td>15145</td>\n",
              "      <td>Argentina</td>\n",
              "      <td>Salta</td>\n",
              "      <td>Orán</td>\n",
              "      <td>...</td>\n",
              "      <td>NaN</td>\n",
              "      <td>Lamiaceae</td>\n",
              "      <td>Leonorus sibiricus L.</td>\n",
              "      <td>Lahitte, -</td>\n",
              "      <td>NaN</td>\n",
              "      <td>NaN</td>\n",
              "      <td>Desconocido</td>\n",
              "      <td>Desconocida</td>\n",
              "      <td>Adventicia</td>\n",
              "      <td>1970-01-01 00:00:00.000015145</td>\n",
              "    </tr>\n",
              "    <tr>\n",
              "      <th>13674</th>\n",
              "      <td>212265</td>\n",
              "      <td>Poaceae</td>\n",
              "      <td>Insfrán, P.</td>\n",
              "      <td>NaN</td>\n",
              "      <td>1021</td>\n",
              "      <td>-</td>\n",
              "      <td>NaN</td>\n",
              "      <td>Argentina</td>\n",
              "      <td>Formosa</td>\n",
              "      <td>Patiño</td>\n",
              "      <td>...</td>\n",
              "      <td>NaN</td>\n",
              "      <td>Poaceae</td>\n",
              "      <td>Gouinia tortuosa Swallen</td>\n",
              "      <td>-</td>\n",
              "      <td>NaN</td>\n",
              "      <td>Centro del Dpto.</td>\n",
              "      <td>Atlas de la Rep. Argentina. 1ª parte Política....</td>\n",
              "      <td>BAB</td>\n",
              "      <td>NaN</td>\n",
              "      <td>NaT</td>\n",
              "    </tr>\n",
              "  </tbody>\n",
              "</table>\n",
              "<p>7 rows × 39 columns</p>\n",
              "</div>\n",
              "    <div class=\"colab-df-buttons\">\n",
              "\n",
              "  <div class=\"colab-df-container\">\n",
              "    <button class=\"colab-df-convert\" onclick=\"convertToInteractive('df-0a26136c-7532-4200-9190-85f323f4b81e')\"\n",
              "            title=\"Convert this dataframe to an interactive table.\"\n",
              "            style=\"display:none;\">\n",
              "\n",
              "  <svg xmlns=\"http://www.w3.org/2000/svg\" height=\"24px\" viewBox=\"0 -960 960 960\">\n",
              "    <path d=\"M120-120v-720h720v720H120Zm60-500h600v-160H180v160Zm220 220h160v-160H400v160Zm0 220h160v-160H400v160ZM180-400h160v-160H180v160Zm440 0h160v-160H620v160ZM180-180h160v-160H180v160Zm440 0h160v-160H620v160Z\"/>\n",
              "  </svg>\n",
              "    </button>\n",
              "\n",
              "  <style>\n",
              "    .colab-df-container {\n",
              "      display:flex;\n",
              "      gap: 12px;\n",
              "    }\n",
              "\n",
              "    .colab-df-convert {\n",
              "      background-color: #E8F0FE;\n",
              "      border: none;\n",
              "      border-radius: 50%;\n",
              "      cursor: pointer;\n",
              "      display: none;\n",
              "      fill: #1967D2;\n",
              "      height: 32px;\n",
              "      padding: 0 0 0 0;\n",
              "      width: 32px;\n",
              "    }\n",
              "\n",
              "    .colab-df-convert:hover {\n",
              "      background-color: #E2EBFA;\n",
              "      box-shadow: 0px 1px 2px rgba(60, 64, 67, 0.3), 0px 1px 3px 1px rgba(60, 64, 67, 0.15);\n",
              "      fill: #174EA6;\n",
              "    }\n",
              "\n",
              "    .colab-df-buttons div {\n",
              "      margin-bottom: 4px;\n",
              "    }\n",
              "\n",
              "    [theme=dark] .colab-df-convert {\n",
              "      background-color: #3B4455;\n",
              "      fill: #D2E3FC;\n",
              "    }\n",
              "\n",
              "    [theme=dark] .colab-df-convert:hover {\n",
              "      background-color: #434B5C;\n",
              "      box-shadow: 0px 1px 3px 1px rgba(0, 0, 0, 0.15);\n",
              "      filter: drop-shadow(0px 1px 2px rgba(0, 0, 0, 0.3));\n",
              "      fill: #FFFFFF;\n",
              "    }\n",
              "  </style>\n",
              "\n",
              "    <script>\n",
              "      const buttonEl =\n",
              "        document.querySelector('#df-0a26136c-7532-4200-9190-85f323f4b81e button.colab-df-convert');\n",
              "      buttonEl.style.display =\n",
              "        google.colab.kernel.accessAllowed ? 'block' : 'none';\n",
              "\n",
              "      async function convertToInteractive(key) {\n",
              "        const element = document.querySelector('#df-0a26136c-7532-4200-9190-85f323f4b81e');\n",
              "        const dataTable =\n",
              "          await google.colab.kernel.invokeFunction('convertToInteractive',\n",
              "                                                    [key], {});\n",
              "        if (!dataTable) return;\n",
              "\n",
              "        const docLinkHtml = 'Like what you see? Visit the ' +\n",
              "          '<a target=\"_blank\" href=https://colab.research.google.com/notebooks/data_table.ipynb>data table notebook</a>'\n",
              "          + ' to learn more about interactive tables.';\n",
              "        element.innerHTML = '';\n",
              "        dataTable['output_type'] = 'display_data';\n",
              "        await google.colab.output.renderOutput(dataTable, element);\n",
              "        const docLink = document.createElement('div');\n",
              "        docLink.innerHTML = docLinkHtml;\n",
              "        element.appendChild(docLink);\n",
              "      }\n",
              "    </script>\n",
              "  </div>\n",
              "\n",
              "\n",
              "<div id=\"df-c7bd2815-60f8-4ec3-af57-7e87b97d5cee\">\n",
              "  <button class=\"colab-df-quickchart\" onclick=\"quickchart('df-c7bd2815-60f8-4ec3-af57-7e87b97d5cee')\"\n",
              "            title=\"Suggest charts.\"\n",
              "            style=\"display:none;\">\n",
              "\n",
              "<svg xmlns=\"http://www.w3.org/2000/svg\" height=\"24px\"viewBox=\"0 0 24 24\"\n",
              "     width=\"24px\">\n",
              "    <g>\n",
              "        <path d=\"M19 3H5c-1.1 0-2 .9-2 2v14c0 1.1.9 2 2 2h14c1.1 0 2-.9 2-2V5c0-1.1-.9-2-2-2zM9 17H7v-7h2v7zm4 0h-2V7h2v10zm4 0h-2v-4h2v4z\"/>\n",
              "    </g>\n",
              "</svg>\n",
              "  </button>\n",
              "\n",
              "<style>\n",
              "  .colab-df-quickchart {\n",
              "      --bg-color: #E8F0FE;\n",
              "      --fill-color: #1967D2;\n",
              "      --hover-bg-color: #E2EBFA;\n",
              "      --hover-fill-color: #174EA6;\n",
              "      --disabled-fill-color: #AAA;\n",
              "      --disabled-bg-color: #DDD;\n",
              "  }\n",
              "\n",
              "  [theme=dark] .colab-df-quickchart {\n",
              "      --bg-color: #3B4455;\n",
              "      --fill-color: #D2E3FC;\n",
              "      --hover-bg-color: #434B5C;\n",
              "      --hover-fill-color: #FFFFFF;\n",
              "      --disabled-bg-color: #3B4455;\n",
              "      --disabled-fill-color: #666;\n",
              "  }\n",
              "\n",
              "  .colab-df-quickchart {\n",
              "    background-color: var(--bg-color);\n",
              "    border: none;\n",
              "    border-radius: 50%;\n",
              "    cursor: pointer;\n",
              "    display: none;\n",
              "    fill: var(--fill-color);\n",
              "    height: 32px;\n",
              "    padding: 0;\n",
              "    width: 32px;\n",
              "  }\n",
              "\n",
              "  .colab-df-quickchart:hover {\n",
              "    background-color: var(--hover-bg-color);\n",
              "    box-shadow: 0 1px 2px rgba(60, 64, 67, 0.3), 0 1px 3px 1px rgba(60, 64, 67, 0.15);\n",
              "    fill: var(--button-hover-fill-color);\n",
              "  }\n",
              "\n",
              "  .colab-df-quickchart-complete:disabled,\n",
              "  .colab-df-quickchart-complete:disabled:hover {\n",
              "    background-color: var(--disabled-bg-color);\n",
              "    fill: var(--disabled-fill-color);\n",
              "    box-shadow: none;\n",
              "  }\n",
              "\n",
              "  .colab-df-spinner {\n",
              "    border: 2px solid var(--fill-color);\n",
              "    border-color: transparent;\n",
              "    border-bottom-color: var(--fill-color);\n",
              "    animation:\n",
              "      spin 1s steps(1) infinite;\n",
              "  }\n",
              "\n",
              "  @keyframes spin {\n",
              "    0% {\n",
              "      border-color: transparent;\n",
              "      border-bottom-color: var(--fill-color);\n",
              "      border-left-color: var(--fill-color);\n",
              "    }\n",
              "    20% {\n",
              "      border-color: transparent;\n",
              "      border-left-color: var(--fill-color);\n",
              "      border-top-color: var(--fill-color);\n",
              "    }\n",
              "    30% {\n",
              "      border-color: transparent;\n",
              "      border-left-color: var(--fill-color);\n",
              "      border-top-color: var(--fill-color);\n",
              "      border-right-color: var(--fill-color);\n",
              "    }\n",
              "    40% {\n",
              "      border-color: transparent;\n",
              "      border-right-color: var(--fill-color);\n",
              "      border-top-color: var(--fill-color);\n",
              "    }\n",
              "    60% {\n",
              "      border-color: transparent;\n",
              "      border-right-color: var(--fill-color);\n",
              "    }\n",
              "    80% {\n",
              "      border-color: transparent;\n",
              "      border-right-color: var(--fill-color);\n",
              "      border-bottom-color: var(--fill-color);\n",
              "    }\n",
              "    90% {\n",
              "      border-color: transparent;\n",
              "      border-bottom-color: var(--fill-color);\n",
              "    }\n",
              "  }\n",
              "</style>\n",
              "\n",
              "  <script>\n",
              "    async function quickchart(key) {\n",
              "      const quickchartButtonEl =\n",
              "        document.querySelector('#' + key + ' button');\n",
              "      quickchartButtonEl.disabled = true;  // To prevent multiple clicks.\n",
              "      quickchartButtonEl.classList.add('colab-df-spinner');\n",
              "      try {\n",
              "        const charts = await google.colab.kernel.invokeFunction(\n",
              "            'suggestCharts', [key], {});\n",
              "      } catch (error) {\n",
              "        console.error('Error during call to suggestCharts:', error);\n",
              "      }\n",
              "      quickchartButtonEl.classList.remove('colab-df-spinner');\n",
              "      quickchartButtonEl.classList.add('colab-df-quickchart-complete');\n",
              "    }\n",
              "    (() => {\n",
              "      let quickchartButtonEl =\n",
              "        document.querySelector('#df-c7bd2815-60f8-4ec3-af57-7e87b97d5cee button');\n",
              "      quickchartButtonEl.style.display =\n",
              "        google.colab.kernel.accessAllowed ? 'block' : 'none';\n",
              "    })();\n",
              "  </script>\n",
              "</div>\n",
              "    </div>\n",
              "  </div>\n"
            ]
          },
          "metadata": {},
          "execution_count": 222
        }
      ]
    },
    {
      "cell_type": "code",
      "source": [
        "df2.loc[df2['Longituddecimal'] < -75]"
      ],
      "metadata": {
        "colab": {
          "base_uri": "https://localhost:8080/",
          "height": 248
        },
        "id": "y7x3XH3aybFU",
        "outputId": "a0cb8fc9-5cc7-46aa-99aa-68a3d01d9190"
      },
      "execution_count": 23,
      "outputs": [
        {
          "output_type": "execute_result",
          "data": {
            "text/plain": [
              "           ID         Familia     Colector                   Especie  \\\n",
              "1729   171579      Solanaceae  Boelcke, O.  Nicotiana linearis Phil.   \n",
              "14872  169986  Plumbaginaceae  Boelcke, O.                  Limonium   \n",
              "\n",
              "      numerocoleccion letracoleccion       fechacoleccion       pais  \\\n",
              "1729            11457              -  1964-01-31 00:00:00  Argentina   \n",
              "14872           16610              -                27450  Argentina   \n",
              "\n",
              "      provincia         Departamento  ...   Determinador  \\\n",
              "1729    Neuquén                Minas  ...  Rossow, R. A.   \n",
              "14872    Chubut  Florentino Ameghino  ...              -   \n",
              "\n",
              "       Fecha de determinación  Familia(Última Det.)      Especie(Última Det.)  \\\n",
              "1729                     1989            Solanaceae  Nicotiana corymbosa Remy   \n",
              "14872                     NaN        Plumbaginaceae                  Limonium   \n",
              "\n",
              "      Determinador(Última Det.)  Fecha de determinación(Última Det.)  \\\n",
              "1729              Rossow, R. A.                                 1992   \n",
              "14872                         -                                  NaN   \n",
              "\n",
              "       Calidad de Coord.  Origen de Coord. Herbarios  STATUS(ULT.DET.)  \n",
              "1729         Desconocida       Desconocido       BAB               NaN  \n",
              "14872        Desconocida       Desconocido       BAB               NaN  \n",
              "\n",
              "[2 rows x 38 columns]"
            ],
            "text/html": [
              "\n",
              "  <div id=\"df-ff9c911c-3238-4ed1-91c8-8977f89432ec\" class=\"colab-df-container\">\n",
              "    <div>\n",
              "<style scoped>\n",
              "    .dataframe tbody tr th:only-of-type {\n",
              "        vertical-align: middle;\n",
              "    }\n",
              "\n",
              "    .dataframe tbody tr th {\n",
              "        vertical-align: top;\n",
              "    }\n",
              "\n",
              "    .dataframe thead th {\n",
              "        text-align: right;\n",
              "    }\n",
              "</style>\n",
              "<table border=\"1\" class=\"dataframe\">\n",
              "  <thead>\n",
              "    <tr style=\"text-align: right;\">\n",
              "      <th></th>\n",
              "      <th>ID</th>\n",
              "      <th>Familia</th>\n",
              "      <th>Colector</th>\n",
              "      <th>Especie</th>\n",
              "      <th>numerocoleccion</th>\n",
              "      <th>letracoleccion</th>\n",
              "      <th>fechacoleccion</th>\n",
              "      <th>pais</th>\n",
              "      <th>provincia</th>\n",
              "      <th>Departamento</th>\n",
              "      <th>...</th>\n",
              "      <th>Determinador</th>\n",
              "      <th>Fecha de determinación</th>\n",
              "      <th>Familia(Última Det.)</th>\n",
              "      <th>Especie(Última Det.)</th>\n",
              "      <th>Determinador(Última Det.)</th>\n",
              "      <th>Fecha de determinación(Última Det.)</th>\n",
              "      <th>Calidad de Coord.</th>\n",
              "      <th>Origen de Coord.</th>\n",
              "      <th>Herbarios</th>\n",
              "      <th>STATUS(ULT.DET.)</th>\n",
              "    </tr>\n",
              "  </thead>\n",
              "  <tbody>\n",
              "    <tr>\n",
              "      <th>1729</th>\n",
              "      <td>171579</td>\n",
              "      <td>Solanaceae</td>\n",
              "      <td>Boelcke, O.</td>\n",
              "      <td>Nicotiana linearis Phil.</td>\n",
              "      <td>11457</td>\n",
              "      <td>-</td>\n",
              "      <td>1964-01-31 00:00:00</td>\n",
              "      <td>Argentina</td>\n",
              "      <td>Neuquén</td>\n",
              "      <td>Minas</td>\n",
              "      <td>...</td>\n",
              "      <td>Rossow, R. A.</td>\n",
              "      <td>1989</td>\n",
              "      <td>Solanaceae</td>\n",
              "      <td>Nicotiana corymbosa Remy</td>\n",
              "      <td>Rossow, R. A.</td>\n",
              "      <td>1992</td>\n",
              "      <td>Desconocida</td>\n",
              "      <td>Desconocido</td>\n",
              "      <td>BAB</td>\n",
              "      <td>NaN</td>\n",
              "    </tr>\n",
              "    <tr>\n",
              "      <th>14872</th>\n",
              "      <td>169986</td>\n",
              "      <td>Plumbaginaceae</td>\n",
              "      <td>Boelcke, O.</td>\n",
              "      <td>Limonium</td>\n",
              "      <td>16610</td>\n",
              "      <td>-</td>\n",
              "      <td>27450</td>\n",
              "      <td>Argentina</td>\n",
              "      <td>Chubut</td>\n",
              "      <td>Florentino Ameghino</td>\n",
              "      <td>...</td>\n",
              "      <td>-</td>\n",
              "      <td>NaN</td>\n",
              "      <td>Plumbaginaceae</td>\n",
              "      <td>Limonium</td>\n",
              "      <td>-</td>\n",
              "      <td>NaN</td>\n",
              "      <td>Desconocida</td>\n",
              "      <td>Desconocido</td>\n",
              "      <td>BAB</td>\n",
              "      <td>NaN</td>\n",
              "    </tr>\n",
              "  </tbody>\n",
              "</table>\n",
              "<p>2 rows × 38 columns</p>\n",
              "</div>\n",
              "    <div class=\"colab-df-buttons\">\n",
              "\n",
              "  <div class=\"colab-df-container\">\n",
              "    <button class=\"colab-df-convert\" onclick=\"convertToInteractive('df-ff9c911c-3238-4ed1-91c8-8977f89432ec')\"\n",
              "            title=\"Convert this dataframe to an interactive table.\"\n",
              "            style=\"display:none;\">\n",
              "\n",
              "  <svg xmlns=\"http://www.w3.org/2000/svg\" height=\"24px\" viewBox=\"0 -960 960 960\">\n",
              "    <path d=\"M120-120v-720h720v720H120Zm60-500h600v-160H180v160Zm220 220h160v-160H400v160Zm0 220h160v-160H400v160ZM180-400h160v-160H180v160Zm440 0h160v-160H620v160ZM180-180h160v-160H180v160Zm440 0h160v-160H620v160Z\"/>\n",
              "  </svg>\n",
              "    </button>\n",
              "\n",
              "  <style>\n",
              "    .colab-df-container {\n",
              "      display:flex;\n",
              "      gap: 12px;\n",
              "    }\n",
              "\n",
              "    .colab-df-convert {\n",
              "      background-color: #E8F0FE;\n",
              "      border: none;\n",
              "      border-radius: 50%;\n",
              "      cursor: pointer;\n",
              "      display: none;\n",
              "      fill: #1967D2;\n",
              "      height: 32px;\n",
              "      padding: 0 0 0 0;\n",
              "      width: 32px;\n",
              "    }\n",
              "\n",
              "    .colab-df-convert:hover {\n",
              "      background-color: #E2EBFA;\n",
              "      box-shadow: 0px 1px 2px rgba(60, 64, 67, 0.3), 0px 1px 3px 1px rgba(60, 64, 67, 0.15);\n",
              "      fill: #174EA6;\n",
              "    }\n",
              "\n",
              "    .colab-df-buttons div {\n",
              "      margin-bottom: 4px;\n",
              "    }\n",
              "\n",
              "    [theme=dark] .colab-df-convert {\n",
              "      background-color: #3B4455;\n",
              "      fill: #D2E3FC;\n",
              "    }\n",
              "\n",
              "    [theme=dark] .colab-df-convert:hover {\n",
              "      background-color: #434B5C;\n",
              "      box-shadow: 0px 1px 3px 1px rgba(0, 0, 0, 0.15);\n",
              "      filter: drop-shadow(0px 1px 2px rgba(0, 0, 0, 0.3));\n",
              "      fill: #FFFFFF;\n",
              "    }\n",
              "  </style>\n",
              "\n",
              "    <script>\n",
              "      const buttonEl =\n",
              "        document.querySelector('#df-ff9c911c-3238-4ed1-91c8-8977f89432ec button.colab-df-convert');\n",
              "      buttonEl.style.display =\n",
              "        google.colab.kernel.accessAllowed ? 'block' : 'none';\n",
              "\n",
              "      async function convertToInteractive(key) {\n",
              "        const element = document.querySelector('#df-ff9c911c-3238-4ed1-91c8-8977f89432ec');\n",
              "        const dataTable =\n",
              "          await google.colab.kernel.invokeFunction('convertToInteractive',\n",
              "                                                    [key], {});\n",
              "        if (!dataTable) return;\n",
              "\n",
              "        const docLinkHtml = 'Like what you see? Visit the ' +\n",
              "          '<a target=\"_blank\" href=https://colab.research.google.com/notebooks/data_table.ipynb>data table notebook</a>'\n",
              "          + ' to learn more about interactive tables.';\n",
              "        element.innerHTML = '';\n",
              "        dataTable['output_type'] = 'display_data';\n",
              "        await google.colab.output.renderOutput(dataTable, element);\n",
              "        const docLink = document.createElement('div');\n",
              "        docLink.innerHTML = docLinkHtml;\n",
              "        element.appendChild(docLink);\n",
              "      }\n",
              "    </script>\n",
              "  </div>\n",
              "\n",
              "\n",
              "<div id=\"df-42e68d08-468d-45d6-98a2-2476b40e344b\">\n",
              "  <button class=\"colab-df-quickchart\" onclick=\"quickchart('df-42e68d08-468d-45d6-98a2-2476b40e344b')\"\n",
              "            title=\"Suggest charts.\"\n",
              "            style=\"display:none;\">\n",
              "\n",
              "<svg xmlns=\"http://www.w3.org/2000/svg\" height=\"24px\"viewBox=\"0 0 24 24\"\n",
              "     width=\"24px\">\n",
              "    <g>\n",
              "        <path d=\"M19 3H5c-1.1 0-2 .9-2 2v14c0 1.1.9 2 2 2h14c1.1 0 2-.9 2-2V5c0-1.1-.9-2-2-2zM9 17H7v-7h2v7zm4 0h-2V7h2v10zm4 0h-2v-4h2v4z\"/>\n",
              "    </g>\n",
              "</svg>\n",
              "  </button>\n",
              "\n",
              "<style>\n",
              "  .colab-df-quickchart {\n",
              "      --bg-color: #E8F0FE;\n",
              "      --fill-color: #1967D2;\n",
              "      --hover-bg-color: #E2EBFA;\n",
              "      --hover-fill-color: #174EA6;\n",
              "      --disabled-fill-color: #AAA;\n",
              "      --disabled-bg-color: #DDD;\n",
              "  }\n",
              "\n",
              "  [theme=dark] .colab-df-quickchart {\n",
              "      --bg-color: #3B4455;\n",
              "      --fill-color: #D2E3FC;\n",
              "      --hover-bg-color: #434B5C;\n",
              "      --hover-fill-color: #FFFFFF;\n",
              "      --disabled-bg-color: #3B4455;\n",
              "      --disabled-fill-color: #666;\n",
              "  }\n",
              "\n",
              "  .colab-df-quickchart {\n",
              "    background-color: var(--bg-color);\n",
              "    border: none;\n",
              "    border-radius: 50%;\n",
              "    cursor: pointer;\n",
              "    display: none;\n",
              "    fill: var(--fill-color);\n",
              "    height: 32px;\n",
              "    padding: 0;\n",
              "    width: 32px;\n",
              "  }\n",
              "\n",
              "  .colab-df-quickchart:hover {\n",
              "    background-color: var(--hover-bg-color);\n",
              "    box-shadow: 0 1px 2px rgba(60, 64, 67, 0.3), 0 1px 3px 1px rgba(60, 64, 67, 0.15);\n",
              "    fill: var(--button-hover-fill-color);\n",
              "  }\n",
              "\n",
              "  .colab-df-quickchart-complete:disabled,\n",
              "  .colab-df-quickchart-complete:disabled:hover {\n",
              "    background-color: var(--disabled-bg-color);\n",
              "    fill: var(--disabled-fill-color);\n",
              "    box-shadow: none;\n",
              "  }\n",
              "\n",
              "  .colab-df-spinner {\n",
              "    border: 2px solid var(--fill-color);\n",
              "    border-color: transparent;\n",
              "    border-bottom-color: var(--fill-color);\n",
              "    animation:\n",
              "      spin 1s steps(1) infinite;\n",
              "  }\n",
              "\n",
              "  @keyframes spin {\n",
              "    0% {\n",
              "      border-color: transparent;\n",
              "      border-bottom-color: var(--fill-color);\n",
              "      border-left-color: var(--fill-color);\n",
              "    }\n",
              "    20% {\n",
              "      border-color: transparent;\n",
              "      border-left-color: var(--fill-color);\n",
              "      border-top-color: var(--fill-color);\n",
              "    }\n",
              "    30% {\n",
              "      border-color: transparent;\n",
              "      border-left-color: var(--fill-color);\n",
              "      border-top-color: var(--fill-color);\n",
              "      border-right-color: var(--fill-color);\n",
              "    }\n",
              "    40% {\n",
              "      border-color: transparent;\n",
              "      border-right-color: var(--fill-color);\n",
              "      border-top-color: var(--fill-color);\n",
              "    }\n",
              "    60% {\n",
              "      border-color: transparent;\n",
              "      border-right-color: var(--fill-color);\n",
              "    }\n",
              "    80% {\n",
              "      border-color: transparent;\n",
              "      border-right-color: var(--fill-color);\n",
              "      border-bottom-color: var(--fill-color);\n",
              "    }\n",
              "    90% {\n",
              "      border-color: transparent;\n",
              "      border-bottom-color: var(--fill-color);\n",
              "    }\n",
              "  }\n",
              "</style>\n",
              "\n",
              "  <script>\n",
              "    async function quickchart(key) {\n",
              "      const quickchartButtonEl =\n",
              "        document.querySelector('#' + key + ' button');\n",
              "      quickchartButtonEl.disabled = true;  // To prevent multiple clicks.\n",
              "      quickchartButtonEl.classList.add('colab-df-spinner');\n",
              "      try {\n",
              "        const charts = await google.colab.kernel.invokeFunction(\n",
              "            'suggestCharts', [key], {});\n",
              "      } catch (error) {\n",
              "        console.error('Error during call to suggestCharts:', error);\n",
              "      }\n",
              "      quickchartButtonEl.classList.remove('colab-df-spinner');\n",
              "      quickchartButtonEl.classList.add('colab-df-quickchart-complete');\n",
              "    }\n",
              "    (() => {\n",
              "      let quickchartButtonEl =\n",
              "        document.querySelector('#df-42e68d08-468d-45d6-98a2-2476b40e344b button');\n",
              "      quickchartButtonEl.style.display =\n",
              "        google.colab.kernel.accessAllowed ? 'block' : 'none';\n",
              "    })();\n",
              "  </script>\n",
              "</div>\n",
              "    </div>\n",
              "  </div>\n"
            ]
          },
          "metadata": {},
          "execution_count": 23
        }
      ]
    },
    {
      "cell_type": "markdown",
      "source": [
        "**Resultados de la detección de \"outliers\"**\n",
        "\n",
        "En las variables numéricas analizadas, se observan \"outliers\" en el campo de latituddecimal, dado que la latitud decimal por convención en el hemisferio sur es de signo negativo y la mayor parte de registros de la base de datos pertenece a Argentina. Al explorar el dataset con la función \"loc\" se observa que son muy pocos registros (7) que poseen este error. Esto puede corresponder, muy posiblemente, a un error de tipeo y corregido a mano, dado que son pocos registros. En el campo de Longituddecimal, al realizar la exploración gráfica y con la función \"loc\" se observa que hay dos registros que deberían corregirse.\n",
        "\n"
      ],
      "metadata": {
        "id": "y5Ny2gtoyfYN"
      }
    },
    {
      "cell_type": "markdown",
      "source": [
        "**6) Detección de outliers en variables categóricas**\n",
        "\n",
        "Se explorarán outliers en las variables categóricas de relevancia para el análisis: Provincia y Familia(Última Det.). Primero se visualizarán las categorías por cada campo o variable y luego se adoptará una decisión.\n",
        "\n"
      ],
      "metadata": {
        "id": "kiH9zcqCykHL"
      }
    },
    {
      "cell_type": "code",
      "source": [
        "pd.set_option('display.max_rows', 1000)"
      ],
      "metadata": {
        "id": "bC7V7hZLyvq8"
      },
      "execution_count": 25,
      "outputs": []
    },
    {
      "cell_type": "code",
      "source": [
        "pd.value_counts(df2['Familia(Última Det.)'])"
      ],
      "metadata": {
        "colab": {
          "base_uri": "https://localhost:8080/"
        },
        "id": "FxI4JmcuyexM",
        "outputId": "d53ef760-e51b-4690-8408-b9be61402425"
      },
      "execution_count": 26,
      "outputs": [
        {
          "output_type": "execute_result",
          "data": {
            "text/plain": [
              "Poaceae              2722\n",
              "Fabaceae             1658\n",
              "Scrophulariaceae     1589\n",
              "Asteraceae           1553\n",
              "Lamiaceae            1352\n",
              "Boraginaceae         1273\n",
              "Verbenaceae           930\n",
              "Solanaceae            769\n",
              "Malvaceae             411\n",
              "Brassicaceae          281\n",
              "Euphorbiaceae         205\n",
              "Polemoniaceae         180\n",
              "Orchidaceae           144\n",
              "Apiaceae              139\n",
              "Convolvulaceae        133\n",
              "Ericaceae             128\n",
              "Rubiaceae             125\n",
              "Chenopodiaceae        125\n",
              "Passifloraceae        121\n",
              "Polygonaceae          111\n",
              "Anacardiaceae          98\n",
              "Cucurbitaceae          95\n",
              "Hydrophyllaceae        90\n",
              "Cyperaceae             90\n",
              "Acanthaceae            86\n",
              "Polygalaceae           86\n",
              "Cactaceae              65\n",
              "Portulacaceae          62\n",
              "Bignoniaceae           58\n",
              "Tiliaceae              55\n",
              "Oxalidaceae            52\n",
              "Zygophyllaceae         52\n",
              "Alstroemeriaceae       52\n",
              "Onagraceae             51\n",
              "Myrsinaceae            51\n",
              "Bromeliaceae           50\n",
              "Iridaceae              49\n",
              "Plumbaginaceae         48\n",
              "Plantaginaceae         43\n",
              "Sapindaceae            40\n",
              "Capparaceae            38\n",
              "Hymenophyllaceae       38\n",
              "Amaranthaceae          38\n",
              "Caryophyllaceae        36\n",
              "Sterculiaceae          34\n",
              "Violaceae              33\n",
              "Apocynaceae            32\n",
              "Epacridaceae           31\n",
              "Nyctaginaceae          30\n",
              "Malpighiaceae          29\n",
              "Valerianaceae          29\n",
              "Gentianaceae           28\n",
              "Ranunculaceae          28\n",
              "Oleaceae               28\n",
              "Commelinaceae          28\n",
              "Buddlejaceae           27\n",
              "Lythraceae             27\n",
              "Phytolaccaceae         25\n",
              "Rhamnaceae             24\n",
              "Pteridaceae            24\n",
              "Piperaceae             23\n",
              "Myrtaceae              22\n",
              "Vitaceae               22\n",
              "Loasaceae              19\n",
              "Elaeocarpaceae         19\n",
              "Geraniaceae            19\n",
              "Primulaceae            19\n",
              "Calyceraceae           18\n",
              "Celtidaceae            17\n",
              "Rosaceae               17\n",
              "Aristolochiaceae       16\n",
              "Sapotaceae             16\n",
              "Ephedraceae            16\n",
              "Urticaceae             16\n",
              "Lauraceae              16\n",
              "Meliaceae              16\n",
              "Turneraceae            15\n",
              "Orobanchaceae          14\n",
              "Amaryllidaceae         13\n",
              "Thelypteridaceae       13\n",
              "Cuscutaceae            12\n",
              "Juncaceae              12\n",
              "Loranthaceae           11\n",
              "Celastraceae           11\n",
              "Smilacaceae            10\n",
              "Alliaceae              10\n",
              "Berberidaceae           9\n",
              "Gesneriaceae            9\n",
              "Proteaceae              9\n",
              "Calceolariaceae         9\n",
              "Salicaceae              9\n",
              "Papaveraceae            9\n",
              "Rutaceae                8\n",
              "Tetrachondraceae        8\n",
              "Moraceae                8\n",
              "Begoniaceae             8\n",
              "Araceae                 7\n",
              "Arecaceae               7\n",
              "Campanulaceae           7\n",
              "Melastomataceae         7\n",
              "Misodendraceae          6\n",
              "Dioscoreaceae           6\n",
              "Callitrichaceae         6\n",
              "Pontederiaceae          6\n",
              "Thymelaeaceae           6\n",
              "Typhaceae               6\n",
              "Caricaceae              6\n",
              "Frankeniaceae           5\n",
              "Bombacaceae             5\n",
              "Saxifragaceae           5\n",
              "Aizoaceae               5\n",
              "Combretaceae            5\n",
              "Santalaceae             5\n",
              "Escalloniaceae          4\n",
              "II-1971                 4\n",
              "Olacaceae               4\n",
              "Erythroxylaceae         4\n",
              "Crassulaceae            4\n",
              "Flacourtiaceae          4\n",
              "Cannaceae               4\n",
              "Menispermaceae          4\n",
              "Viscaceae               4\n",
              "Empetraceae             3\n",
              "Tropaeolaceae           3\n",
              "VIII/1980               3\n",
              "Desfontainiaceae        3\n",
              "Simaroubaceae           3\n",
              "Marantaceae             3\n",
              "Alismataceae            3\n",
              "Equisetaceae            3\n",
              "Juncaginaceae           3\n",
              "Loganiaceae             3\n",
              "Aquifoliaceae           3\n",
              "Annonaceae              2\n",
              "1997                    2\n",
              "1953                    2\n",
              "Coriariaceae            2\n",
              "Azollaceae              2\n",
              "Hydnoraceae             2\n",
              "Potamogetonaceae        2\n",
              "Fagaceae                2\n",
              "2004                    2\n",
              "Martyniaceae            2\n",
              "Aextoxicaceae           2\n",
              "Podocarpaceae           2\n",
              "-                       2\n",
              "Araliaceae              2\n",
              "Fumariaceae             2\n",
              "Gunneraceae             2\n",
              "Sclerophylacaceae       2\n",
              "Hypoxidaceae            2\n",
              "Blechnaceae             2\n",
              "Liliaceae               2\n",
              "Hypericaceae            2\n",
              "Winteraceae             2\n",
              "Marsileaceae            1\n",
              "Salviniaceae            1\n",
              "Cabombaceae             1\n",
              "Menyanthaceae           1\n",
              "IV-1972                 1\n",
              "Lentibulariaceae        1\n",
              "Nymphaeaceae            1\n",
              "Mayacaceae              1\n",
              "Droseraceae             1\n",
              "Polypodiaceae           1\n",
              "VII-1989                1\n",
              "X-1967                  1\n",
              "Lemnaceae               1\n",
              "Clusiaceae              1\n",
              "1973                    1\n",
              "Cornaceae               1\n",
              "1950                    1\n",
              "XII-1972                1\n",
              "III-1981                1\n",
              "1984                    1\n",
              "VIII-1968               1\n",
              "VII/1965                1\n",
              "s/f                     1\n",
              "VIII-1980               1\n",
              "1968                    1\n",
              "1958                    1\n",
              "29434                   1\n",
              "1980                    1\n",
              "IV-1974                 1\n",
              "1974                    1\n",
              "I-1966                  1\n",
              "XII-1980                1\n",
              "Cupressaceae            1\n",
              "Elaeagnaceae            1\n",
              "Betulaceae              1\n",
              "Aspleniaceae            1\n",
              "Anacampserotaceae       1\n",
              "Asparagaceae            1\n",
              "Adoxaceae               1\n",
              "Anthericaceae           1\n",
              "Opiliaceae              1\n",
              "Achatocarpaceae         1\n",
              "Calycanthaceae          1\n",
              "Cecropiaceae            1\n",
              "Dryopteridaceae         1\n",
              "Schizaeaceae            1\n",
              "Vittariaceae            1\n",
              "Trigoniaceae            1\n",
              "Theaceae                1\n",
              "Zingiberaceae           1\n",
              "Muntingiaceae           1\n",
              "Clethraceae             1\n",
              "Cochlospermaceae        1\n",
              "Stylidiaceae            1\n",
              "Linaceae                1\n",
              "Hippuridaceae           1\n",
              "Donatiaceae             1\n",
              "Hydrangeaceae           1\n",
              "Luzuriagaceae           1\n",
              "Haloragaceae            1\n",
              "Balanophoraceae         1\n",
              "Lobeliaceae             1\n",
              "Xyridaceae              1\n",
              "Hydrocharitaceae        1\n",
              "Molluginaceae           1\n",
              "Cunoniaceae             1\n",
              "IX-1969                 1\n",
              "Name: Familia(Última Det.), dtype: int64"
            ]
          },
          "metadata": {},
          "execution_count": 26
        }
      ]
    },
    {
      "cell_type": "code",
      "source": [
        "df2['fechacorregida']=df2['fechacoleccion'].apply(pd.to_datetime, dayfirst=True, errors = 'coerce')"
      ],
      "metadata": {
        "colab": {
          "base_uri": "https://localhost:8080/"
        },
        "id": "rXwxfaRqyyQE",
        "outputId": "4ddd6194-4d15-4664-e16a-b42da5051958"
      },
      "execution_count": 27,
      "outputs": [
        {
          "output_type": "stream",
          "name": "stderr",
          "text": [
            "<ipython-input-27-4d06cb410056>:1: UserWarning: Parsing dates in MM/DD/YYYY format when dayfirst=True was specified. This may lead to inconsistently parsed dates! Specify a format to ensure consistent parsing.\n",
            "  df2['fechacorregida']=df2['fechacoleccion'].apply(pd.to_datetime, dayfirst=True, errors = 'coerce')\n",
            "<ipython-input-27-4d06cb410056>:1: SettingWithCopyWarning: \n",
            "A value is trying to be set on a copy of a slice from a DataFrame.\n",
            "Try using .loc[row_indexer,col_indexer] = value instead\n",
            "\n",
            "See the caveats in the documentation: https://pandas.pydata.org/pandas-docs/stable/user_guide/indexing.html#returning-a-view-versus-a-copy\n",
            "  df2['fechacorregida']=df2['fechacoleccion'].apply(pd.to_datetime, dayfirst=True, errors = 'coerce')\n"
          ]
        }
      ]
    },
    {
      "cell_type": "code",
      "source": [
        "df2.info()"
      ],
      "metadata": {
        "colab": {
          "base_uri": "https://localhost:8080/"
        },
        "id": "ipnZ146ry5js",
        "outputId": "8940c6ed-40a8-4fe7-cb3a-fbb9d099cb1f"
      },
      "execution_count": 28,
      "outputs": [
        {
          "output_type": "stream",
          "name": "stdout",
          "text": [
            "<class 'pandas.core.frame.DataFrame'>\n",
            "Int64Index: 16607 entries, 0 to 18948\n",
            "Data columns (total 39 columns):\n",
            " #   Column                               Non-Null Count  Dtype         \n",
            "---  ------                               --------------  -----         \n",
            " 0   ID                                   16607 non-null  int64         \n",
            " 1   Familia                              14386 non-null  object        \n",
            " 2   Colector                             16607 non-null  object        \n",
            " 3   Especie                              13822 non-null  object        \n",
            " 4   numerocoleccion                      16607 non-null  object        \n",
            " 5   letracoleccion                       16607 non-null  object        \n",
            " 6   fechacoleccion                       14626 non-null  object        \n",
            " 7   pais                                 16607 non-null  object        \n",
            " 8   provincia                            16605 non-null  object        \n",
            " 9   Departamento                         16606 non-null  object        \n",
            " 10  Localidad                            16142 non-null  object        \n",
            " 11  latitudgrados                        12629 non-null  float64       \n",
            " 12  latitudminutos                       12608 non-null  float64       \n",
            " 13  latitudsegundos                      9027 non-null   float64       \n",
            " 14  LatitudNS                            12433 non-null  object        \n",
            " 15  Longitudgrados                       12613 non-null  float64       \n",
            " 16  Longitudminutos                      12607 non-null  float64       \n",
            " 17  longitudsegundos                     9007 non-null   float64       \n",
            " 18  LongitudEW                           12155 non-null  object        \n",
            " 19  latituddecimal                       16607 non-null  float64       \n",
            " 20  Longituddecimal                      16607 non-null  float64       \n",
            " 21  Incerteza                            2030 non-null   object        \n",
            " 22  Datum                                7471 non-null   object        \n",
            " 23  Fuente                               14154 non-null  object        \n",
            " 24  Observaciones                        4884 non-null   object        \n",
            " 25  Altitud                              2070 non-null   float64       \n",
            " 26  Observaciones.1                      8890 non-null   object        \n",
            " 27  Acompañantes                         14864 non-null  object        \n",
            " 28  Determinador                         14870 non-null  object        \n",
            " 29  Fecha de determinación               6836 non-null   object        \n",
            " 30  Familia(Última Det.)                 16607 non-null  object        \n",
            " 31  Especie(Última Det.)                 16607 non-null  object        \n",
            " 32  Determinador(Última Det.)            16607 non-null  object        \n",
            " 33  Fecha de determinación(Última Det.)  7458 non-null   object        \n",
            " 34  Calidad de Coord.                    15004 non-null  object        \n",
            " 35  Origen de Coord.                     15986 non-null  object        \n",
            " 36  Herbarios                            16607 non-null  object        \n",
            " 37  STATUS(ULT.DET.)                     10675 non-null  object        \n",
            " 38  fechacorregida                       14274 non-null  datetime64[ns]\n",
            "dtypes: datetime64[ns](1), float64(9), int64(1), object(28)\n",
            "memory usage: 5.1+ MB\n"
          ]
        }
      ]
    },
    {
      "cell_type": "markdown",
      "source": [
        "\n",
        "**Resultado de la correción del formato de datos**\n",
        "\n",
        "Se pudo transformar el formato, localizando los datos con fecha en una nueva columna denominada \"fecha corregida\"."
      ],
      "metadata": {
        "id": "qihoDZ5my9xG"
      }
    },
    {
      "cell_type": "markdown",
      "source": [
        "**Lectura en excel del dataset limpiado y corregido**"
      ],
      "metadata": {
        "id": "FKwBSFhpZSGE"
      }
    },
    {
      "cell_type": "code",
      "source": [
        "df2.to_excel('df2.xlsx')"
      ],
      "metadata": {
        "id": "TgL86VFvzC1t"
      },
      "execution_count": 29,
      "outputs": []
    },
    {
      "cell_type": "code",
      "source": [
        "df3=pd.read_excel('/content/df2-corregida (1).xlsx')"
      ],
      "metadata": {
        "id": "2QgKO0DvzujU"
      },
      "execution_count": 104,
      "outputs": []
    },
    {
      "cell_type": "code",
      "source": [
        "df3.info()"
      ],
      "metadata": {
        "colab": {
          "base_uri": "https://localhost:8080/"
        },
        "id": "9dNWlJT5z1qt",
        "outputId": "320553cb-4cef-424c-8bc4-a4a219008c43"
      },
      "execution_count": 105,
      "outputs": [
        {
          "output_type": "stream",
          "name": "stdout",
          "text": [
            "<class 'pandas.core.frame.DataFrame'>\n",
            "RangeIndex: 16607 entries, 0 to 16606\n",
            "Data columns (total 40 columns):\n",
            " #   Column                               Non-Null Count  Dtype         \n",
            "---  ------                               --------------  -----         \n",
            " 0   Unnamed: 0                           16607 non-null  int64         \n",
            " 1   ID                                   16607 non-null  int64         \n",
            " 2   Familia                              14386 non-null  object        \n",
            " 3   Colector                             16607 non-null  object        \n",
            " 4   Especie                              13822 non-null  object        \n",
            " 5   numerocoleccion                      16607 non-null  object        \n",
            " 6   letracoleccion                       16607 non-null  object        \n",
            " 7   fechacoleccion                       14626 non-null  object        \n",
            " 8   pais                                 16607 non-null  object        \n",
            " 9   provincia                            16605 non-null  object        \n",
            " 10  Departamento                         16606 non-null  object        \n",
            " 11  Localidad                            16142 non-null  object        \n",
            " 12  latitudgrados                        12629 non-null  float64       \n",
            " 13  latitudminutos                       12608 non-null  float64       \n",
            " 14  latitudsegundos                      9027 non-null   float64       \n",
            " 15  LatitudNS                            12433 non-null  object        \n",
            " 16  Longitudgrados                       12613 non-null  float64       \n",
            " 17  Longitudminutos                      12607 non-null  float64       \n",
            " 18  longitudsegundos                     9007 non-null   float64       \n",
            " 19  LongitudEW                           12155 non-null  object        \n",
            " 20  latituddecimal                       16607 non-null  float64       \n",
            " 21  Longituddecimal                      16607 non-null  float64       \n",
            " 22  Incerteza                            2030 non-null   object        \n",
            " 23  Datum                                7471 non-null   object        \n",
            " 24  Fuente                               14154 non-null  object        \n",
            " 25  Observaciones                        4884 non-null   object        \n",
            " 26  Altitud                              2070 non-null   float64       \n",
            " 27  Observaciones.1                      8917 non-null   object        \n",
            " 28  Acompañantes                         14863 non-null  object        \n",
            " 29  Determinador                         14870 non-null  object        \n",
            " 30  Fecha de determinación               6836 non-null   object        \n",
            " 31  Familia(Última Det.)                 16607 non-null  object        \n",
            " 32  Especie(Última Det.)                 16607 non-null  object        \n",
            " 33  Determinador(Última Det.)            16607 non-null  object        \n",
            " 34  Fecha de determinación(Última Det.)  7458 non-null   object        \n",
            " 35  Calidad de Coord.                    14970 non-null  object        \n",
            " 36  Origen de Coord.                     15986 non-null  object        \n",
            " 37  Herbarios                            16607 non-null  object        \n",
            " 38  STATUS(ULT.DET.)                     10675 non-null  object        \n",
            " 39  fechacorregida                       14274 non-null  datetime64[ns]\n",
            "dtypes: datetime64[ns](1), float64(9), int64(2), object(28)\n",
            "memory usage: 5.1+ MB\n"
          ]
        }
      ]
    },
    {
      "cell_type": "code",
      "source": [
        "df3['Familia(Última Det.)'].unique()"
      ],
      "metadata": {
        "colab": {
          "base_uri": "https://localhost:8080/"
        },
        "id": "E7oU-lJ2z4iE",
        "outputId": "d9b44724-b17b-40d3-9f45-d6707fc595c9"
      },
      "execution_count": 106,
      "outputs": [
        {
          "output_type": "execute_result",
          "data": {
            "text/plain": [
              "array(['Boraginaceae', 'Malvaceae', 'Scrophulariaceae', 'Solanaceae',\n",
              "       'Verbenaceae', 'Apiaceae', 'Asteraceae', 'Brassicaceae',\n",
              "       'Calyceraceae', 'Caryophyllaceae', 'Ephedraceae', 'Fabaceae',\n",
              "       'Hydrophyllaceae', 'Lamiaceae', 'Onagraceae', 'Poaceae',\n",
              "       'Polemoniaceae', 'Potamogetonaceae', 'Convolvulaceae',\n",
              "       'Plumbaginaceae', 'Chenopodiaceae', 'Alliaceae', 'Oxalidaceae',\n",
              "       'Salicaceae', 'Fumariaceae', 'Iridaceae', 'Oleaceae', 'Ericaceae',\n",
              "       'Alstroemeriaceae', 'Nyctaginaceae', 'Plantaginaceae',\n",
              "       'Passifloraceae', 'Piperaceae', 'Ranunculaceae', 'Rubiaceae',\n",
              "       'Euphorbiaceae', 'Pteridaceae', 'Orobanchaceae', 'Sapindaceae',\n",
              "       'Amaranthaceae', 'Primulaceae', 'Cucurbitaceae', 'Loasaceae',\n",
              "       'Callitrichaceae', 'Cyperaceae', 'Gentianaceae', 'Orchidaceae',\n",
              "       'Capparaceae', 'Crassulaceae', 'Lythraceae', 'Violaceae',\n",
              "       'Juncaceae', 'Tiliaceae', 'Thelypteridaceae', 'Myrsinaceae',\n",
              "       'Polygonaceae', 'Aizoaceae', 'Loganiaceae', 'Malpighiaceae',\n",
              "       'Turneraceae', 'Urticaceae', 'Valerianaceae', 'Thymelaeaceae',\n",
              "       'Zygophyllaceae', 'Berberidaceae', 'Elaeocarpaceae', 'Acanthaceae',\n",
              "       'Lobeliaceae', 'Apocynaceae', 'Nymphaeaceae', 'Bignoniaceae',\n",
              "       'Anacardiaceae', 'Gesneriaceae', 'Santalaceae', 'Amaryllidaceae',\n",
              "       'Papaveraceae', 'Aristolochiaceae', 'Sterculiaceae', 'Begoniaceae',\n",
              "       'Cactaceae', 'Bromeliaceae', 'Buddlejaceae', 'Sapotaceae',\n",
              "       'Cannaceae', 'Caricaceae', 'Simaroubaceae', 'Cecropiaceae',\n",
              "       'Bombacaceae', 'Celtidaceae', 'Menispermaceae', 'Vitaceae',\n",
              "       'Commelinaceae', 'Arecaceae', 'Myrtaceae', 'Rutaceae', 'Moraceae',\n",
              "       'Liliaceae', 'Hypoxidaceae', 'Lemnaceae', 'Marantaceae',\n",
              "       'Celastraceae', 'Polypodiaceae', 'Lauraceae', 'Phytolaccaceae',\n",
              "       'Viscaceae', 'Araceae', 'Polygalaceae', 'Portulacaceae',\n",
              "       'Balanophoraceae', 'Sclerophylacaceae', 'Smilacaceae',\n",
              "       'Geraniaceae', 'Meliaceae', 'Typhaceae', 'Flacourtiaceae',\n",
              "       'Rhamnaceae', 'Epacridaceae', 'Campanulaceae', 'Haloragaceae',\n",
              "       'Proteaceae', 'Saxifragaceae', 'Gunneraceae', 'Juncaginaceae',\n",
              "       'Hymenophyllaceae', 'Donatiaceae', 'Empetraceae', 'Hippuridaceae',\n",
              "       'Linaceae', 'Stylidiaceae', 'Tetrachondraceae', 'Winteraceae',\n",
              "       'Misodendraceae', 'Anacampserotaceae', 'Olacaceae', 'Asparagaceae',\n",
              "       'Blechnaceae', 'Combretaceae', 'Cuscutaceae', 'Araliaceae',\n",
              "       'Dryopteridaceae', 'Dioscoreaceae', 'Pontederiaceae',\n",
              "       'Hypericaceae', 'Clusiaceae', 'Aquifoliaceae', 'Melastomataceae',\n",
              "       'Theaceae', 'Trigoniaceae', 'Vittariaceae', 'Schizaeaceae',\n",
              "       'Loranthaceae', 'Calceolariaceae', 'Podocarpaceae',\n",
              "       'Achatocarpaceae', 'Betulaceae', 'Tropaeolaceae', 'Opiliaceae',\n",
              "       'Anthericaceae', 'Adoxaceae', 'Erythroxylaceae', 'Rosaceae',\n",
              "       'Aspleniaceae', 'Zingiberaceae', 'Muntingiaceae', 'Clethraceae',\n",
              "       'Cochlospermaceae', 'Fagaceae', 'Frankeniaceae',\n",
              "       'Desfontainiaceae', 'Coriariaceae', 'Escalloniaceae',\n",
              "       'Hydrangeaceae', 'Luzuriagaceae', 'Martyniaceae', 'Hydnoraceae',\n",
              "       'Annonaceae', 'Equisetaceae', 'Alismataceae', 'Azollaceae',\n",
              "       'Xyridaceae', 'Hydrocharitaceae', 'Molluginaceae', 'Cupressaceae',\n",
              "       'Cunoniaceae', 'Calycanthaceae', 'Elaeagnaceae', 'Cornaceae',\n",
              "       'Aextoxicaceae', 'Droseraceae', 'Mayacaceae', 'Marsileaceae',\n",
              "       'Salviniaceae', 'Cabombaceae', 'Menyanthaceae', 'Lentibulariaceae'],\n",
              "      dtype=object)"
            ]
          },
          "metadata": {},
          "execution_count": 106
        }
      ]
    },
    {
      "cell_type": "markdown",
      "source": [
        "**Conclusiones de la etapa de limpieza**\n",
        "\n",
        "Se consiguió eliminar la mayoría de los datos nulos que podrían eventualmente complicar los análisis posteriores. Asimismo, se corrigieron errores en algunas columnas en forma manual, ya que eran escasos y debidos a causas muy particulares. También se consiguió transformar el dato de la fecha de colección al formato adecuado. Estas modificaciones se realizaron manualmente en excel y luego se cargó el archivo correspondiente.\n",
        "\n"
      ],
      "metadata": {
        "id": "bjX8JBKnz9Ws"
      }
    },
    {
      "cell_type": "markdown",
      "source": [
        "**VISUALIZACIÓN DE DATOS**\n",
        "\n",
        "A continuación se realizaron algunas gráficas para conocer la distribución de los datos que son de interés al estudio"
      ],
      "metadata": {
        "id": "JAlY0U4X0DWD"
      }
    },
    {
      "cell_type": "markdown",
      "source": [
        "**1) Visualización de la serie histórica de las colectas**\n",
        "\n",
        "Se analizó una nueva columna \"anio\", que representa al año de colecta y se graficaron las colectas totales por año y por día a lo largo de la historia del herbario BAB."
      ],
      "metadata": {
        "id": "D9P2A_oO0j5k"
      }
    },
    {
      "cell_type": "code",
      "source": [
        "from datetime import datetime"
      ],
      "metadata": {
        "id": "FIfKIr8t6dux"
      },
      "execution_count": 94,
      "outputs": []
    },
    {
      "cell_type": "code",
      "source": [
        "print(datetime.now())"
      ],
      "metadata": {
        "colab": {
          "base_uri": "https://localhost:8080/"
        },
        "id": "mdvm--0R6fyK",
        "outputId": "4ecb018d-7f1a-4592-d086-23376863a351"
      },
      "execution_count": 95,
      "outputs": [
        {
          "output_type": "stream",
          "name": "stdout",
          "text": [
            "2023-09-27 23:13:16.378196\n"
          ]
        }
      ]
    },
    {
      "cell_type": "code",
      "source": [
        "df3['fechacorregida']=df3['fechacoleccion'].apply(pd.to_datetime, dayfirst=True, errors = 'coerce')"
      ],
      "metadata": {
        "colab": {
          "base_uri": "https://localhost:8080/"
        },
        "id": "bYR7JjCt5GLi",
        "outputId": "b80e0ae5-0964-4cad-d56a-088e420353cb"
      },
      "execution_count": 110,
      "outputs": [
        {
          "output_type": "stream",
          "name": "stderr",
          "text": [
            "<ipython-input-110-1bed05dbd65e>:1: UserWarning: Parsing dates in MM/DD/YYYY format when dayfirst=True was specified. This may lead to inconsistently parsed dates! Specify a format to ensure consistent parsing.\n",
            "  df3['fechacorregida']=df3['fechacoleccion'].apply(pd.to_datetime, dayfirst=True, errors = 'coerce')\n"
          ]
        }
      ]
    },
    {
      "cell_type": "code",
      "source": [
        "df3['anio'] = df3['fechacorregida'].dt.strftime('%Y')"
      ],
      "metadata": {
        "id": "fRwc_EU9z8qV"
      },
      "execution_count": 111,
      "outputs": []
    },
    {
      "cell_type": "code",
      "source": [
        "df3.info()"
      ],
      "metadata": {
        "colab": {
          "base_uri": "https://localhost:8080/"
        },
        "id": "Q0NOMD1r0B98",
        "outputId": "c3261340-f562-4120-9204-13a26817ee20"
      },
      "execution_count": 112,
      "outputs": [
        {
          "output_type": "stream",
          "name": "stdout",
          "text": [
            "<class 'pandas.core.frame.DataFrame'>\n",
            "RangeIndex: 16607 entries, 0 to 16606\n",
            "Data columns (total 41 columns):\n",
            " #   Column                               Non-Null Count  Dtype         \n",
            "---  ------                               --------------  -----         \n",
            " 0   Unnamed: 0                           16607 non-null  int64         \n",
            " 1   ID                                   16607 non-null  int64         \n",
            " 2   Familia                              14386 non-null  object        \n",
            " 3   Colector                             16607 non-null  object        \n",
            " 4   Especie                              13822 non-null  object        \n",
            " 5   numerocoleccion                      16607 non-null  object        \n",
            " 6   letracoleccion                       16607 non-null  object        \n",
            " 7   fechacoleccion                       14626 non-null  object        \n",
            " 8   pais                                 16607 non-null  object        \n",
            " 9   provincia                            16605 non-null  object        \n",
            " 10  Departamento                         16606 non-null  object        \n",
            " 11  Localidad                            16142 non-null  object        \n",
            " 12  latitudgrados                        12629 non-null  float64       \n",
            " 13  latitudminutos                       12608 non-null  float64       \n",
            " 14  latitudsegundos                      9027 non-null   float64       \n",
            " 15  LatitudNS                            12433 non-null  object        \n",
            " 16  Longitudgrados                       12613 non-null  float64       \n",
            " 17  Longitudminutos                      12607 non-null  float64       \n",
            " 18  longitudsegundos                     9007 non-null   float64       \n",
            " 19  LongitudEW                           12155 non-null  object        \n",
            " 20  latituddecimal                       16607 non-null  float64       \n",
            " 21  Longituddecimal                      16607 non-null  float64       \n",
            " 22  Incerteza                            2030 non-null   object        \n",
            " 23  Datum                                7471 non-null   object        \n",
            " 24  Fuente                               14154 non-null  object        \n",
            " 25  Observaciones                        4884 non-null   object        \n",
            " 26  Altitud                              2070 non-null   float64       \n",
            " 27  Observaciones.1                      8917 non-null   object        \n",
            " 28  Acompañantes                         14863 non-null  object        \n",
            " 29  Determinador                         14870 non-null  object        \n",
            " 30  Fecha de determinación               6836 non-null   object        \n",
            " 31  Familia(Última Det.)                 16607 non-null  object        \n",
            " 32  Especie(Última Det.)                 16607 non-null  object        \n",
            " 33  Determinador(Última Det.)            16607 non-null  object        \n",
            " 34  Fecha de determinación(Última Det.)  7458 non-null   object        \n",
            " 35  Calidad de Coord.                    14970 non-null  object        \n",
            " 36  Origen de Coord.                     15986 non-null  object        \n",
            " 37  Herbarios                            16607 non-null  object        \n",
            " 38  STATUS(ULT.DET.)                     10675 non-null  object        \n",
            " 39  fechacorregida                       14274 non-null  datetime64[ns]\n",
            " 40  anio                                 14274 non-null  object        \n",
            "dtypes: datetime64[ns](1), float64(9), int64(2), object(29)\n",
            "memory usage: 5.2+ MB\n"
          ]
        }
      ]
    },
    {
      "cell_type": "code",
      "source": [
        "import matplotlib.pyplot as plt"
      ],
      "metadata": {
        "id": "5_hdAzCE1Err"
      },
      "execution_count": 99,
      "outputs": []
    },
    {
      "cell_type": "code",
      "source": [
        "dates=df3['anio']"
      ],
      "metadata": {
        "id": "yycBXwxD1MTz"
      },
      "execution_count": 113,
      "outputs": []
    },
    {
      "cell_type": "code",
      "source": [
        "colectasporanio=pd.value_counts(df3['anio'])"
      ],
      "metadata": {
        "id": "7cfgcR7v1SPz"
      },
      "execution_count": 114,
      "outputs": []
    },
    {
      "cell_type": "code",
      "source": [
        "print(colectasporanio)"
      ],
      "metadata": {
        "colab": {
          "base_uri": "https://localhost:8080/"
        },
        "id": "d4R5QhVX1UeL",
        "outputId": "52dd95e0-54cf-42d3-a1ca-d0fd548993b1"
      },
      "execution_count": 115,
      "outputs": [
        {
          "output_type": "stream",
          "name": "stdout",
          "text": [
            "1992    804\n",
            "1990    660\n",
            "1983    524\n",
            "2001    395\n",
            "1949    366\n",
            "1973    354\n",
            "1971    349\n",
            "1969    320\n",
            "2000    306\n",
            "1975    305\n",
            "1907    302\n",
            "1948    291\n",
            "1967    283\n",
            "1947    281\n",
            "2002    278\n",
            "1972    274\n",
            "1994    272\n",
            "1993    238\n",
            "1976    235\n",
            "1981    229\n",
            "1979    223\n",
            "1986    204\n",
            "1968    195\n",
            "1963    187\n",
            "1995    179\n",
            "2003    177\n",
            "1974    168\n",
            "1996    165\n",
            "1909    162\n",
            "1970    158\n",
            "1950    158\n",
            "1982    157\n",
            "1952    152\n",
            "1980    148\n",
            "1946    143\n",
            "1999    137\n",
            "1942    131\n",
            "1958    123\n",
            "1998    117\n",
            "1988    116\n",
            "1977    114\n",
            "1902    114\n",
            "1962    110\n",
            "1960    110\n",
            "1984    110\n",
            "1944    108\n",
            "1997    106\n",
            "1945    105\n",
            "1901    102\n",
            "1934    100\n",
            "1959     97\n",
            "1985     96\n",
            "1900     94\n",
            "1906     91\n",
            "1961     91\n",
            "1904     90\n",
            "1964     87\n",
            "1910     86\n",
            "1908     80\n",
            "1941     79\n",
            "1943     79\n",
            "1991     75\n",
            "1913     75\n",
            "1926     74\n",
            "1905     71\n",
            "1978     69\n",
            "1936     69\n",
            "1965     69\n",
            "1954     63\n",
            "1933     62\n",
            "1927     62\n",
            "1928     62\n",
            "1914     61\n",
            "1951     60\n",
            "1939     57\n",
            "1966     57\n",
            "1922     54\n",
            "1989     54\n",
            "1911     53\n",
            "1955     51\n",
            "1957     49\n",
            "1930     47\n",
            "1925     45\n",
            "1940     43\n",
            "1953     43\n",
            "1903     42\n",
            "1956     41\n",
            "1987     41\n",
            "1937     40\n",
            "1924     39\n",
            "1938     38\n",
            "1923     29\n",
            "1929     27\n",
            "1920     27\n",
            "1899     26\n",
            "1932     22\n",
            "1917     20\n",
            "1935     19\n",
            "1915     17\n",
            "1921     16\n",
            "1919     15\n",
            "1918     13\n",
            "1912     12\n",
            "1916     11\n",
            "2004      9\n",
            "1931      9\n",
            "1898      8\n",
            "1897      5\n",
            "2009      3\n",
            "1896      2\n",
            "1890      1\n",
            "2006      1\n",
            "2005      1\n",
            "Name: anio, dtype: int64\n"
          ]
        }
      ]
    },
    {
      "cell_type": "code",
      "source": [
        "colectasporanio.to_excel('colectasporaniocorrecto.xlsx')"
      ],
      "metadata": {
        "id": "mE4MvmYU1XkU"
      },
      "execution_count": 116,
      "outputs": []
    },
    {
      "cell_type": "code",
      "source": [
        "colectapordia = pd.value_counts(df3['fechacorregida'])"
      ],
      "metadata": {
        "id": "TJCt2VZ12Clj"
      },
      "execution_count": 123,
      "outputs": []
    },
    {
      "cell_type": "code",
      "source": [
        "print(colectapordia)"
      ],
      "metadata": {
        "colab": {
          "base_uri": "https://localhost:8080/"
        },
        "id": "O1kY6tZ62KTs",
        "outputId": "33dbbe7a-b081-4812-a951-b5c553e2c004"
      },
      "execution_count": 124,
      "outputs": [
        {
          "output_type": "stream",
          "name": "stdout",
          "text": [
            "1992-03-18    106\n",
            "1907-01-01     78\n",
            "1990-11-23     66\n",
            "1992-03-29     63\n",
            "1973-10-31     60\n",
            "             ... \n",
            "1956-05-17      1\n",
            "1952-11-03      1\n",
            "1954-05-14      1\n",
            "1933-11-10      1\n",
            "1950-11-08      1\n",
            "Name: fechacorregida, Length: 4194, dtype: int64\n"
          ]
        }
      ]
    },
    {
      "cell_type": "code",
      "source": [
        "colectapordia.plot()"
      ],
      "metadata": {
        "colab": {
          "base_uri": "https://localhost:8080/",
          "height": 419
        },
        "id": "oYWbC5y59MeQ",
        "outputId": "2481b5a9-fdee-4995-b146-dd2b3deacf74"
      },
      "execution_count": 227,
      "outputs": [
        {
          "output_type": "execute_result",
          "data": {
            "text/plain": [
              "<Axes: >"
            ]
          },
          "metadata": {},
          "execution_count": 227
        },
        {
          "output_type": "display_data",
          "data": {
            "text/plain": [
              "<Figure size 640x480 with 1 Axes>"
            ],
            "image/png": "[encoded data removed]"
          },
          "metadata": {}
        }
      ]
    },
    {
      "cell_type": "markdown",
      "source": [
        "**Conclusión de las series históricas**\n",
        "\n",
        "Se observó un pico máximo de las colectas aproximadamente en la década de los '90, coincidiendo con el gran impulso de proyectos de Floras Regionales y de bioprospección. Hubo otros picos en los años de 1910 y 1970, uno coincidente con el flujo de varios profesionales de Europa y el otro con el impulso de la Flora Patagónica."
      ],
      "metadata": {
        "id": "Uw34aWSL9kWw"
      }
    },
    {
      "cell_type": "markdown",
      "source": [
        "**2)** **Análisis para verificar patrones entre familias botánicas, historia y provincias**\n",
        "\n",
        "A continuación, se analizó la relación entre estas variables, teniendo en cuenta, en el caso de las familias, poder graficar sólo las más significativas en cuanto al número de especímenes, debido a la gran cantidad existente. Por lo tanto, en las gráficas se muestran las familias que poseen más de 500 especímenes recolectados."
      ],
      "metadata": {
        "id": "ucRg04as-DCo"
      }
    },
    {
      "cell_type": "code",
      "source": [
        "pd.crosstab(index=df3['provincia'],\n",
        "            columns=df3['Familia'])"
      ],
      "metadata": {
        "colab": {
          "base_uri": "https://localhost:8080/",
          "height": 872
        },
        "id": "D5FR0q-Y2Q1k",
        "outputId": "8555a2af-7ecd-4d6a-c4b9-763ce9607402"
      },
      "execution_count": 159,
      "outputs": [
        {
          "output_type": "execute_result",
          "data": {
            "text/plain": [
              "Familia                -  Acanthaceae  Achatocarpaceae  Aextoxicaceae  \\\n",
              "provincia                                                               \n",
              "Buenos Aires          16            0                0              0   \n",
              "Catamarca              5            0                0              0   \n",
              "Chaco                111           15                0              0   \n",
              "Chubut                75            0                0              2   \n",
              "Corrientes             8            5                0              0   \n",
              "Córdoba                2            0                0              0   \n",
              "Entre Ríos            71            0                0              0   \n",
              "Formosa              129           26                0              0   \n",
              "Jujuy                 13            5                1              0   \n",
              "La Pampa               0            0                0              0   \n",
              "La Rioja               0            0                0              0   \n",
              "Mendoza                1            0                0              0   \n",
              "Misiones               7            9                0              0   \n",
              "Neuquén                0            0                0              0   \n",
              "Río Negro             57            0                0              0   \n",
              "Salta                  4           10                0              0   \n",
              "San Juan               0            0                0              0   \n",
              "San Luis               0            0                0              0   \n",
              "Santa Fe               0            0                0              0   \n",
              "Santiago del Estero  218            1                0              0   \n",
              "Tierra del Fuego      36            0                0              0   \n",
              "Tucumán                9            2                0              0   \n",
              "\n",
              "Familia              Aizoaceae  Alismataceae  Alliaceae  Alstroemeriaceae  \\\n",
              "provincia                                                                   \n",
              "Buenos Aires                 1             0          1                 0   \n",
              "Catamarca                    0             0          0                 3   \n",
              "Chaco                        0             0          0                 0   \n",
              "Chubut                       4             0          2                 4   \n",
              "Corrientes                   0             0          0                 0   \n",
              "Córdoba                      0             0          0                 0   \n",
              "Entre Ríos                   0             0          0                 0   \n",
              "Formosa                      0             3          0                 0   \n",
              "Jujuy                        0             0          2                 0   \n",
              "La Pampa                     0             0          0                 0   \n",
              "La Rioja                     0             0          0                 0   \n",
              "Mendoza                      0             0          3                 0   \n",
              "Misiones                     0             0          0                 8   \n",
              "Neuquén                      0             0          0                 0   \n",
              "Río Negro                    0             0          1                 3   \n",
              "Salta                        0             0          0                 0   \n",
              "San Juan                     0             0          0                 0   \n",
              "San Luis                     0             0          0                 0   \n",
              "Santa Fe                     0             0          0                 0   \n",
              "Santiago del Estero          0             0          0                 0   \n",
              "Tierra del Fuego             0             0          0                 0   \n",
              "Tucumán                      0             0          0                 0   \n",
              "\n",
              "Familia              Amaranthaceae  Amaryllidaceae  ...  Valerianaceae  \\\n",
              "provincia                                           ...                  \n",
              "Buenos Aires                     2               0  ...              3   \n",
              "Catamarca                        0               0  ...              0   \n",
              "Chaco                            6               1  ...              0   \n",
              "Chubut                           1               0  ...             10   \n",
              "Corrientes                       2               0  ...              0   \n",
              "Córdoba                          0               1  ...              0   \n",
              "Entre Ríos                       0               0  ...              0   \n",
              "Formosa                         12               5  ...              0   \n",
              "Jujuy                            0               1  ...              0   \n",
              "La Pampa                         0               0  ...              0   \n",
              "La Rioja                         2               1  ...              0   \n",
              "Mendoza                          0               0  ...              0   \n",
              "Misiones                         1               0  ...              1   \n",
              "Neuquén                          0               0  ...              0   \n",
              "Río Negro                        5               2  ...              1   \n",
              "Salta                            1               0  ...              0   \n",
              "San Juan                         0               0  ...              0   \n",
              "San Luis                         0               0  ...              0   \n",
              "Santa Fe                         0               1  ...              0   \n",
              "Santiago del Estero              5               1  ...              0   \n",
              "Tierra del Fuego                 0               0  ...              4   \n",
              "Tucumán                          1               0  ...              0   \n",
              "\n",
              "Familia              Verbenaceae  Violaceae  Viscaceae  Vitaceae  \\\n",
              "provincia                                                          \n",
              "Buenos Aires                   4          1          0         0   \n",
              "Catamarca                      7          0          0         0   \n",
              "Chaco                         23          1          2         8   \n",
              "Chubut                       248          6          0         0   \n",
              "Corrientes                     8          1          0         0   \n",
              "Córdoba                       10          0          0         0   \n",
              "Entre Ríos                    11          0          0         1   \n",
              "Formosa                       52          4          0         9   \n",
              "Jujuy                         10          2          1         0   \n",
              "La Pampa                      51          0          0         0   \n",
              "La Rioja                      17          0          0         0   \n",
              "Mendoza                       63          0          0         0   \n",
              "Misiones                      13          2          0         0   \n",
              "Neuquén                      189          6          0         0   \n",
              "Río Negro                    152          3          0         0   \n",
              "Salta                         20          2          0         3   \n",
              "San Juan                       0          0          0         0   \n",
              "San Luis                       1          0          0         0   \n",
              "Santa Fe                       4          1          0         0   \n",
              "Santiago del Estero           12          0          1         1   \n",
              "Tierra del Fuego               1          1          0         0   \n",
              "Tucumán                        2          0          0         0   \n",
              "\n",
              "Familia              Vittariaceae  Winteraceae  Xyridaceae  Zingiberaceae  \\\n",
              "provincia                                                                   \n",
              "Buenos Aires                    0            0           0              0   \n",
              "Catamarca                       0            0           0              0   \n",
              "Chaco                           0            0           0              0   \n",
              "Chubut                          0            0           0              0   \n",
              "Corrientes                      0            0           0              0   \n",
              "Córdoba                         0            0           0              0   \n",
              "Entre Ríos                      0            0           0              0   \n",
              "Formosa                         0            0           1              0   \n",
              "Jujuy                           0            0           0              0   \n",
              "La Pampa                        0            0           0              0   \n",
              "La Rioja                        0            0           0              0   \n",
              "Mendoza                         0            0           0              0   \n",
              "Misiones                        1            0           0              0   \n",
              "Neuquén                         0            0           0              0   \n",
              "Río Negro                       0            0           0              0   \n",
              "Salta                           0            0           0              1   \n",
              "San Juan                        0            0           0              0   \n",
              "San Luis                        0            0           0              0   \n",
              "Santa Fe                        0            0           0              0   \n",
              "Santiago del Estero             0            0           0              0   \n",
              "Tierra del Fuego                0            2           0              0   \n",
              "Tucumán                         0            0           0              0   \n",
              "\n",
              "Familia              Zygophyllaceae  \n",
              "provincia                            \n",
              "Buenos Aires                      0  \n",
              "Catamarca                         0  \n",
              "Chaco                             4  \n",
              "Chubut                            6  \n",
              "Corrientes                        0  \n",
              "Córdoba                           0  \n",
              "Entre Ríos                        0  \n",
              "Formosa                           7  \n",
              "Jujuy                             0  \n",
              "La Pampa                          1  \n",
              "La Rioja                          2  \n",
              "Mendoza                           0  \n",
              "Misiones                          0  \n",
              "Neuquén                           1  \n",
              "Río Negro                        24  \n",
              "Salta                             5  \n",
              "San Juan                          0  \n",
              "San Luis                          0  \n",
              "Santa Fe                          0  \n",
              "Santiago del Estero               2  \n",
              "Tierra del Fuego                  0  \n",
              "Tucumán                           0  \n",
              "\n",
              "[22 rows x 196 columns]"
            ],
            "text/html": [
              "\n",
              "  <div id=\"df-7c829790-6fd5-4e7d-a7ad-699354ab0a0d\" class=\"colab-df-container\">\n",
              "    <div>\n",
              "<style scoped>\n",
              "    .dataframe tbody tr th:only-of-type {\n",
              "        vertical-align: middle;\n",
              "    }\n",
              "\n",
              "    .dataframe tbody tr th {\n",
              "        vertical-align: top;\n",
              "    }\n",
              "\n",
              "    .dataframe thead th {\n",
              "        text-align: right;\n",
              "    }\n",
              "</style>\n",
              "<table border=\"1\" class=\"dataframe\">\n",
              "  <thead>\n",
              "    <tr style=\"text-align: right;\">\n",
              "      <th>Familia</th>\n",
              "      <th>-</th>\n",
              "      <th>Acanthaceae</th>\n",
              "      <th>Achatocarpaceae</th>\n",
              "      <th>Aextoxicaceae</th>\n",
              "      <th>Aizoaceae</th>\n",
              "      <th>Alismataceae</th>\n",
              "      <th>Alliaceae</th>\n",
              "      <th>Alstroemeriaceae</th>\n",
              "      <th>Amaranthaceae</th>\n",
              "      <th>Amaryllidaceae</th>\n",
              "      <th>...</th>\n",
              "      <th>Valerianaceae</th>\n",
              "      <th>Verbenaceae</th>\n",
              "      <th>Violaceae</th>\n",
              "      <th>Viscaceae</th>\n",
              "      <th>Vitaceae</th>\n",
              "      <th>Vittariaceae</th>\n",
              "      <th>Winteraceae</th>\n",
              "      <th>Xyridaceae</th>\n",
              "      <th>Zingiberaceae</th>\n",
              "      <th>Zygophyllaceae</th>\n",
              "    </tr>\n",
              "    <tr>\n",
              "      <th>provincia</th>\n",
              "      <th></th>\n",
              "      <th></th>\n",
              "      <th></th>\n",
              "      <th></th>\n",
              "      <th></th>\n",
              "      <th></th>\n",
              "      <th></th>\n",
              "      <th></th>\n",
              "      <th></th>\n",
              "      <th></th>\n",
              "      <th></th>\n",
              "      <th></th>\n",
              "      <th></th>\n",
              "      <th></th>\n",
              "      <th></th>\n",
              "      <th></th>\n",
              "      <th></th>\n",
              "      <th></th>\n",
              "      <th></th>\n",
              "      <th></th>\n",
              "      <th></th>\n",
              "    </tr>\n",
              "  </thead>\n",
              "  <tbody>\n",
              "    <tr>\n",
              "      <th>Buenos Aires</th>\n",
              "      <td>16</td>\n",
              "      <td>0</td>\n",
              "      <td>0</td>\n",
              "      <td>0</td>\n",
              "      <td>1</td>\n",
              "      <td>0</td>\n",
              "      <td>1</td>\n",
              "      <td>0</td>\n",
              "      <td>2</td>\n",
              "      <td>0</td>\n",
              "      <td>...</td>\n",
              "      <td>3</td>\n",
              "      <td>4</td>\n",
              "      <td>1</td>\n",
              "      <td>0</td>\n",
              "      <td>0</td>\n",
              "      <td>0</td>\n",
              "      <td>0</td>\n",
              "      <td>0</td>\n",
              "      <td>0</td>\n",
              "      <td>0</td>\n",
              "    </tr>\n",
              "    <tr>\n",
              "      <th>Catamarca</th>\n",
              "      <td>5</td>\n",
              "      <td>0</td>\n",
              "      <td>0</td>\n",
              "      <td>0</td>\n",
              "      <td>0</td>\n",
              "      <td>0</td>\n",
              "      <td>0</td>\n",
              "      <td>3</td>\n",
              "      <td>0</td>\n",
              "      <td>0</td>\n",
              "      <td>...</td>\n",
              "      <td>0</td>\n",
              "      <td>7</td>\n",
              "      <td>0</td>\n",
              "      <td>0</td>\n",
              "      <td>0</td>\n",
              "      <td>0</td>\n",
              "      <td>0</td>\n",
              "      <td>0</td>\n",
              "      <td>0</td>\n",
              "      <td>0</td>\n",
              "    </tr>\n",
              "    <tr>\n",
              "      <th>Chaco</th>\n",
              "      <td>111</td>\n",
              "      <td>15</td>\n",
              "      <td>0</td>\n",
              "      <td>0</td>\n",
              "      <td>0</td>\n",
              "      <td>0</td>\n",
              "      <td>0</td>\n",
              "      <td>0</td>\n",
              "      <td>6</td>\n",
              "      <td>1</td>\n",
              "      <td>...</td>\n",
              "      <td>0</td>\n",
              "      <td>23</td>\n",
              "      <td>1</td>\n",
              "      <td>2</td>\n",
              "      <td>8</td>\n",
              "      <td>0</td>\n",
              "      <td>0</td>\n",
              "      <td>0</td>\n",
              "      <td>0</td>\n",
              "      <td>4</td>\n",
              "    </tr>\n",
              "    <tr>\n",
              "      <th>Chubut</th>\n",
              "      <td>75</td>\n",
              "      <td>0</td>\n",
              "      <td>0</td>\n",
              "      <td>2</td>\n",
              "      <td>4</td>\n",
              "      <td>0</td>\n",
              "      <td>2</td>\n",
              "      <td>4</td>\n",
              "      <td>1</td>\n",
              "      <td>0</td>\n",
              "      <td>...</td>\n",
              "      <td>10</td>\n",
              "      <td>248</td>\n",
              "      <td>6</td>\n",
              "      <td>0</td>\n",
              "      <td>0</td>\n",
              "      <td>0</td>\n",
              "      <td>0</td>\n",
              "      <td>0</td>\n",
              "      <td>0</td>\n",
              "      <td>6</td>\n",
              "    </tr>\n",
              "    <tr>\n",
              "      <th>Corrientes</th>\n",
              "      <td>8</td>\n",
              "      <td>5</td>\n",
              "      <td>0</td>\n",
              "      <td>0</td>\n",
              "      <td>0</td>\n",
              "      <td>0</td>\n",
              "      <td>0</td>\n",
              "      <td>0</td>\n",
              "      <td>2</td>\n",
              "      <td>0</td>\n",
              "      <td>...</td>\n",
              "      <td>0</td>\n",
              "      <td>8</td>\n",
              "      <td>1</td>\n",
              "      <td>0</td>\n",
              "      <td>0</td>\n",
              "      <td>0</td>\n",
              "      <td>0</td>\n",
              "      <td>0</td>\n",
              "      <td>0</td>\n",
              "      <td>0</td>\n",
              "    </tr>\n",
              "    <tr>\n",
              "      <th>Córdoba</th>\n",
              "      <td>2</td>\n",
              "      <td>0</td>\n",
              "      <td>0</td>\n",
              "      <td>0</td>\n",
              "      <td>0</td>\n",
              "      <td>0</td>\n",
              "      <td>0</td>\n",
              "      <td>0</td>\n",
              "      <td>0</td>\n",
              "      <td>1</td>\n",
              "      <td>...</td>\n",
              "      <td>0</td>\n",
              "      <td>10</td>\n",
              "      <td>0</td>\n",
              "      <td>0</td>\n",
              "      <td>0</td>\n",
              "      <td>0</td>\n",
              "      <td>0</td>\n",
              "      <td>0</td>\n",
              "      <td>0</td>\n",
              "      <td>0</td>\n",
              "    </tr>\n",
              "    <tr>\n",
              "      <th>Entre Ríos</th>\n",
              "      <td>71</td>\n",
              "      <td>0</td>\n",
              "      <td>0</td>\n",
              "      <td>0</td>\n",
              "      <td>0</td>\n",
              "      <td>0</td>\n",
              "      <td>0</td>\n",
              "      <td>0</td>\n",
              "      <td>0</td>\n",
              "      <td>0</td>\n",
              "      <td>...</td>\n",
              "      <td>0</td>\n",
              "      <td>11</td>\n",
              "      <td>0</td>\n",
              "      <td>0</td>\n",
              "      <td>1</td>\n",
              "      <td>0</td>\n",
              "      <td>0</td>\n",
              "      <td>0</td>\n",
              "      <td>0</td>\n",
              "      <td>0</td>\n",
              "    </tr>\n",
              "    <tr>\n",
              "      <th>Formosa</th>\n",
              "      <td>129</td>\n",
              "      <td>26</td>\n",
              "      <td>0</td>\n",
              "      <td>0</td>\n",
              "      <td>0</td>\n",
              "      <td>3</td>\n",
              "      <td>0</td>\n",
              "      <td>0</td>\n",
              "      <td>12</td>\n",
              "      <td>5</td>\n",
              "      <td>...</td>\n",
              "      <td>0</td>\n",
              "      <td>52</td>\n",
              "      <td>4</td>\n",
              "      <td>0</td>\n",
              "      <td>9</td>\n",
              "      <td>0</td>\n",
              "      <td>0</td>\n",
              "      <td>1</td>\n",
              "      <td>0</td>\n",
              "      <td>7</td>\n",
              "    </tr>\n",
              "    <tr>\n",
              "      <th>Jujuy</th>\n",
              "      <td>13</td>\n",
              "      <td>5</td>\n",
              "      <td>1</td>\n",
              "      <td>0</td>\n",
              "      <td>0</td>\n",
              "      <td>0</td>\n",
              "      <td>2</td>\n",
              "      <td>0</td>\n",
              "      <td>0</td>\n",
              "      <td>1</td>\n",
              "      <td>...</td>\n",
              "      <td>0</td>\n",
              "      <td>10</td>\n",
              "      <td>2</td>\n",
              "      <td>1</td>\n",
              "      <td>0</td>\n",
              "      <td>0</td>\n",
              "      <td>0</td>\n",
              "      <td>0</td>\n",
              "      <td>0</td>\n",
              "      <td>0</td>\n",
              "    </tr>\n",
              "    <tr>\n",
              "      <th>La Pampa</th>\n",
              "      <td>0</td>\n",
              "      <td>0</td>\n",
              "      <td>0</td>\n",
              "      <td>0</td>\n",
              "      <td>0</td>\n",
              "      <td>0</td>\n",
              "      <td>0</td>\n",
              "      <td>0</td>\n",
              "      <td>0</td>\n",
              "      <td>0</td>\n",
              "      <td>...</td>\n",
              "      <td>0</td>\n",
              "      <td>51</td>\n",
              "      <td>0</td>\n",
              "      <td>0</td>\n",
              "      <td>0</td>\n",
              "      <td>0</td>\n",
              "      <td>0</td>\n",
              "      <td>0</td>\n",
              "      <td>0</td>\n",
              "      <td>1</td>\n",
              "    </tr>\n",
              "    <tr>\n",
              "      <th>La Rioja</th>\n",
              "      <td>0</td>\n",
              "      <td>0</td>\n",
              "      <td>0</td>\n",
              "      <td>0</td>\n",
              "      <td>0</td>\n",
              "      <td>0</td>\n",
              "      <td>0</td>\n",
              "      <td>0</td>\n",
              "      <td>2</td>\n",
              "      <td>1</td>\n",
              "      <td>...</td>\n",
              "      <td>0</td>\n",
              "      <td>17</td>\n",
              "      <td>0</td>\n",
              "      <td>0</td>\n",
              "      <td>0</td>\n",
              "      <td>0</td>\n",
              "      <td>0</td>\n",
              "      <td>0</td>\n",
              "      <td>0</td>\n",
              "      <td>2</td>\n",
              "    </tr>\n",
              "    <tr>\n",
              "      <th>Mendoza</th>\n",
              "      <td>1</td>\n",
              "      <td>0</td>\n",
              "      <td>0</td>\n",
              "      <td>0</td>\n",
              "      <td>0</td>\n",
              "      <td>0</td>\n",
              "      <td>3</td>\n",
              "      <td>0</td>\n",
              "      <td>0</td>\n",
              "      <td>0</td>\n",
              "      <td>...</td>\n",
              "      <td>0</td>\n",
              "      <td>63</td>\n",
              "      <td>0</td>\n",
              "      <td>0</td>\n",
              "      <td>0</td>\n",
              "      <td>0</td>\n",
              "      <td>0</td>\n",
              "      <td>0</td>\n",
              "      <td>0</td>\n",
              "      <td>0</td>\n",
              "    </tr>\n",
              "    <tr>\n",
              "      <th>Misiones</th>\n",
              "      <td>7</td>\n",
              "      <td>9</td>\n",
              "      <td>0</td>\n",
              "      <td>0</td>\n",
              "      <td>0</td>\n",
              "      <td>0</td>\n",
              "      <td>0</td>\n",
              "      <td>8</td>\n",
              "      <td>1</td>\n",
              "      <td>0</td>\n",
              "      <td>...</td>\n",
              "      <td>1</td>\n",
              "      <td>13</td>\n",
              "      <td>2</td>\n",
              "      <td>0</td>\n",
              "      <td>0</td>\n",
              "      <td>1</td>\n",
              "      <td>0</td>\n",
              "      <td>0</td>\n",
              "      <td>0</td>\n",
              "      <td>0</td>\n",
              "    </tr>\n",
              "    <tr>\n",
              "      <th>Neuquén</th>\n",
              "      <td>0</td>\n",
              "      <td>0</td>\n",
              "      <td>0</td>\n",
              "      <td>0</td>\n",
              "      <td>0</td>\n",
              "      <td>0</td>\n",
              "      <td>0</td>\n",
              "      <td>0</td>\n",
              "      <td>0</td>\n",
              "      <td>0</td>\n",
              "      <td>...</td>\n",
              "      <td>0</td>\n",
              "      <td>189</td>\n",
              "      <td>6</td>\n",
              "      <td>0</td>\n",
              "      <td>0</td>\n",
              "      <td>0</td>\n",
              "      <td>0</td>\n",
              "      <td>0</td>\n",
              "      <td>0</td>\n",
              "      <td>1</td>\n",
              "    </tr>\n",
              "    <tr>\n",
              "      <th>Río Negro</th>\n",
              "      <td>57</td>\n",
              "      <td>0</td>\n",
              "      <td>0</td>\n",
              "      <td>0</td>\n",
              "      <td>0</td>\n",
              "      <td>0</td>\n",
              "      <td>1</td>\n",
              "      <td>3</td>\n",
              "      <td>5</td>\n",
              "      <td>2</td>\n",
              "      <td>...</td>\n",
              "      <td>1</td>\n",
              "      <td>152</td>\n",
              "      <td>3</td>\n",
              "      <td>0</td>\n",
              "      <td>0</td>\n",
              "      <td>0</td>\n",
              "      <td>0</td>\n",
              "      <td>0</td>\n",
              "      <td>0</td>\n",
              "      <td>24</td>\n",
              "    </tr>\n",
              "    <tr>\n",
              "      <th>Salta</th>\n",
              "      <td>4</td>\n",
              "      <td>10</td>\n",
              "      <td>0</td>\n",
              "      <td>0</td>\n",
              "      <td>0</td>\n",
              "      <td>0</td>\n",
              "      <td>0</td>\n",
              "      <td>0</td>\n",
              "      <td>1</td>\n",
              "      <td>0</td>\n",
              "      <td>...</td>\n",
              "      <td>0</td>\n",
              "      <td>20</td>\n",
              "      <td>2</td>\n",
              "      <td>0</td>\n",
              "      <td>3</td>\n",
              "      <td>0</td>\n",
              "      <td>0</td>\n",
              "      <td>0</td>\n",
              "      <td>1</td>\n",
              "      <td>5</td>\n",
              "    </tr>\n",
              "    <tr>\n",
              "      <th>San Juan</th>\n",
              "      <td>0</td>\n",
              "      <td>0</td>\n",
              "      <td>0</td>\n",
              "      <td>0</td>\n",
              "      <td>0</td>\n",
              "      <td>0</td>\n",
              "      <td>0</td>\n",
              "      <td>0</td>\n",
              "      <td>0</td>\n",
              "      <td>0</td>\n",
              "      <td>...</td>\n",
              "      <td>0</td>\n",
              "      <td>0</td>\n",
              "      <td>0</td>\n",
              "      <td>0</td>\n",
              "      <td>0</td>\n",
              "      <td>0</td>\n",
              "      <td>0</td>\n",
              "      <td>0</td>\n",
              "      <td>0</td>\n",
              "      <td>0</td>\n",
              "    </tr>\n",
              "    <tr>\n",
              "      <th>San Luis</th>\n",
              "      <td>0</td>\n",
              "      <td>0</td>\n",
              "      <td>0</td>\n",
              "      <td>0</td>\n",
              "      <td>0</td>\n",
              "      <td>0</td>\n",
              "      <td>0</td>\n",
              "      <td>0</td>\n",
              "      <td>0</td>\n",
              "      <td>0</td>\n",
              "      <td>...</td>\n",
              "      <td>0</td>\n",
              "      <td>1</td>\n",
              "      <td>0</td>\n",
              "      <td>0</td>\n",
              "      <td>0</td>\n",
              "      <td>0</td>\n",
              "      <td>0</td>\n",
              "      <td>0</td>\n",
              "      <td>0</td>\n",
              "      <td>0</td>\n",
              "    </tr>\n",
              "    <tr>\n",
              "      <th>Santa Fe</th>\n",
              "      <td>0</td>\n",
              "      <td>0</td>\n",
              "      <td>0</td>\n",
              "      <td>0</td>\n",
              "      <td>0</td>\n",
              "      <td>0</td>\n",
              "      <td>0</td>\n",
              "      <td>0</td>\n",
              "      <td>0</td>\n",
              "      <td>1</td>\n",
              "      <td>...</td>\n",
              "      <td>0</td>\n",
              "      <td>4</td>\n",
              "      <td>1</td>\n",
              "      <td>0</td>\n",
              "      <td>0</td>\n",
              "      <td>0</td>\n",
              "      <td>0</td>\n",
              "      <td>0</td>\n",
              "      <td>0</td>\n",
              "      <td>0</td>\n",
              "    </tr>\n",
              "    <tr>\n",
              "      <th>Santiago del Estero</th>\n",
              "      <td>218</td>\n",
              "      <td>1</td>\n",
              "      <td>0</td>\n",
              "      <td>0</td>\n",
              "      <td>0</td>\n",
              "      <td>0</td>\n",
              "      <td>0</td>\n",
              "      <td>0</td>\n",
              "      <td>5</td>\n",
              "      <td>1</td>\n",
              "      <td>...</td>\n",
              "      <td>0</td>\n",
              "      <td>12</td>\n",
              "      <td>0</td>\n",
              "      <td>1</td>\n",
              "      <td>1</td>\n",
              "      <td>0</td>\n",
              "      <td>0</td>\n",
              "      <td>0</td>\n",
              "      <td>0</td>\n",
              "      <td>2</td>\n",
              "    </tr>\n",
              "    <tr>\n",
              "      <th>Tierra del Fuego</th>\n",
              "      <td>36</td>\n",
              "      <td>0</td>\n",
              "      <td>0</td>\n",
              "      <td>0</td>\n",
              "      <td>0</td>\n",
              "      <td>0</td>\n",
              "      <td>0</td>\n",
              "      <td>0</td>\n",
              "      <td>0</td>\n",
              "      <td>0</td>\n",
              "      <td>...</td>\n",
              "      <td>4</td>\n",
              "      <td>1</td>\n",
              "      <td>1</td>\n",
              "      <td>0</td>\n",
              "      <td>0</td>\n",
              "      <td>0</td>\n",
              "      <td>2</td>\n",
              "      <td>0</td>\n",
              "      <td>0</td>\n",
              "      <td>0</td>\n",
              "    </tr>\n",
              "    <tr>\n",
              "      <th>Tucumán</th>\n",
              "      <td>9</td>\n",
              "      <td>2</td>\n",
              "      <td>0</td>\n",
              "      <td>0</td>\n",
              "      <td>0</td>\n",
              "      <td>0</td>\n",
              "      <td>0</td>\n",
              "      <td>0</td>\n",
              "      <td>1</td>\n",
              "      <td>0</td>\n",
              "      <td>...</td>\n",
              "      <td>0</td>\n",
              "      <td>2</td>\n",
              "      <td>0</td>\n",
              "      <td>0</td>\n",
              "      <td>0</td>\n",
              "      <td>0</td>\n",
              "      <td>0</td>\n",
              "      <td>0</td>\n",
              "      <td>0</td>\n",
              "      <td>0</td>\n",
              "    </tr>\n",
              "  </tbody>\n",
              "</table>\n",
              "<p>22 rows × 196 columns</p>\n",
              "</div>\n",
              "    <div class=\"colab-df-buttons\">\n",
              "\n",
              "  <div class=\"colab-df-container\">\n",
              "    <button class=\"colab-df-convert\" onclick=\"convertToInteractive('df-7c829790-6fd5-4e7d-a7ad-699354ab0a0d')\"\n",
              "            title=\"Convert this dataframe to an interactive table.\"\n",
              "            style=\"display:none;\">\n",
              "\n",
              "  <svg xmlns=\"http://www.w3.org/2000/svg\" height=\"24px\" viewBox=\"0 -960 960 960\">\n",
              "    <path d=\"M120-120v-720h720v720H120Zm60-500h600v-160H180v160Zm220 220h160v-160H400v160Zm0 220h160v-160H400v160ZM180-400h160v-160H180v160Zm440 0h160v-160H620v160ZM180-180h160v-160H180v160Zm440 0h160v-160H620v160Z\"/>\n",
              "  </svg>\n",
              "    </button>\n",
              "\n",
              "  <style>\n",
              "    .colab-df-container {\n",
              "      display:flex;\n",
              "      gap: 12px;\n",
              "    }\n",
              "\n",
              "    .colab-df-convert {\n",
              "      background-color: #E8F0FE;\n",
              "      border: none;\n",
              "      border-radius: 50%;\n",
              "      cursor: pointer;\n",
              "      display: none;\n",
              "      fill: #1967D2;\n",
              "      height: 32px;\n",
              "      padding: 0 0 0 0;\n",
              "      width: 32px;\n",
              "    }\n",
              "\n",
              "    .colab-df-convert:hover {\n",
              "      background-color: #E2EBFA;\n",
              "      box-shadow: 0px 1px 2px rgba(60, 64, 67, 0.3), 0px 1px 3px 1px rgba(60, 64, 67, 0.15);\n",
              "      fill: #174EA6;\n",
              "    }\n",
              "\n",
              "    .colab-df-buttons div {\n",
              "      margin-bottom: 4px;\n",
              "    }\n",
              "\n",
              "    [theme=dark] .colab-df-convert {\n",
              "      background-color: #3B4455;\n",
              "      fill: #D2E3FC;\n",
              "    }\n",
              "\n",
              "    [theme=dark] .colab-df-convert:hover {\n",
              "      background-color: #434B5C;\n",
              "      box-shadow: 0px 1px 3px 1px rgba(0, 0, 0, 0.15);\n",
              "      filter: drop-shadow(0px 1px 2px rgba(0, 0, 0, 0.3));\n",
              "      fill: #FFFFFF;\n",
              "    }\n",
              "  </style>\n",
              "\n",
              "    <script>\n",
              "      const buttonEl =\n",
              "        document.querySelector('#df-7c829790-6fd5-4e7d-a7ad-699354ab0a0d button.colab-df-convert');\n",
              "      buttonEl.style.display =\n",
              "        google.colab.kernel.accessAllowed ? 'block' : 'none';\n",
              "\n",
              "      async function convertToInteractive(key) {\n",
              "        const element = document.querySelector('#df-7c829790-6fd5-4e7d-a7ad-699354ab0a0d');\n",
              "        const dataTable =\n",
              "          await google.colab.kernel.invokeFunction('convertToInteractive',\n",
              "                                                    [key], {});\n",
              "        if (!dataTable) return;\n",
              "\n",
              "        const docLinkHtml = 'Like what you see? Visit the ' +\n",
              "          '<a target=\"_blank\" href=https://colab.research.google.com/notebooks/data_table.ipynb>data table notebook</a>'\n",
              "          + ' to learn more about interactive tables.';\n",
              "        element.innerHTML = '';\n",
              "        dataTable['output_type'] = 'display_data';\n",
              "        await google.colab.output.renderOutput(dataTable, element);\n",
              "        const docLink = document.createElement('div');\n",
              "        docLink.innerHTML = docLinkHtml;\n",
              "        element.appendChild(docLink);\n",
              "      }\n",
              "    </script>\n",
              "  </div>\n",
              "\n",
              "\n",
              "<div id=\"df-277bd15f-8c4b-4077-8727-e7a7989c0bca\">\n",
              "  <button class=\"colab-df-quickchart\" onclick=\"quickchart('df-277bd15f-8c4b-4077-8727-e7a7989c0bca')\"\n",
              "            title=\"Suggest charts.\"\n",
              "            style=\"display:none;\">\n",
              "\n",
              "<svg xmlns=\"http://www.w3.org/2000/svg\" height=\"24px\"viewBox=\"0 0 24 24\"\n",
              "     width=\"24px\">\n",
              "    <g>\n",
              "        <path d=\"M19 3H5c-1.1 0-2 .9-2 2v14c0 1.1.9 2 2 2h14c1.1 0 2-.9 2-2V5c0-1.1-.9-2-2-2zM9 17H7v-7h2v7zm4 0h-2V7h2v10zm4 0h-2v-4h2v4z\"/>\n",
              "    </g>\n",
              "</svg>\n",
              "  </button>\n",
              "\n",
              "<style>\n",
              "  .colab-df-quickchart {\n",
              "      --bg-color: #E8F0FE;\n",
              "      --fill-color: #1967D2;\n",
              "      --hover-bg-color: #E2EBFA;\n",
              "      --hover-fill-color: #174EA6;\n",
              "      --disabled-fill-color: #AAA;\n",
              "      --disabled-bg-color: #DDD;\n",
              "  }\n",
              "\n",
              "  [theme=dark] .colab-df-quickchart {\n",
              "      --bg-color: #3B4455;\n",
              "      --fill-color: #D2E3FC;\n",
              "      --hover-bg-color: #434B5C;\n",
              "      --hover-fill-color: #FFFFFF;\n",
              "      --disabled-bg-color: #3B4455;\n",
              "      --disabled-fill-color: #666;\n",
              "  }\n",
              "\n",
              "  .colab-df-quickchart {\n",
              "    background-color: var(--bg-color);\n",
              "    border: none;\n",
              "    border-radius: 50%;\n",
              "    cursor: pointer;\n",
              "    display: none;\n",
              "    fill: var(--fill-color);\n",
              "    height: 32px;\n",
              "    padding: 0;\n",
              "    width: 32px;\n",
              "  }\n",
              "\n",
              "  .colab-df-quickchart:hover {\n",
              "    background-color: var(--hover-bg-color);\n",
              "    box-shadow: 0 1px 2px rgba(60, 64, 67, 0.3), 0 1px 3px 1px rgba(60, 64, 67, 0.15);\n",
              "    fill: var(--button-hover-fill-color);\n",
              "  }\n",
              "\n",
              "  .colab-df-quickchart-complete:disabled,\n",
              "  .colab-df-quickchart-complete:disabled:hover {\n",
              "    background-color: var(--disabled-bg-color);\n",
              "    fill: var(--disabled-fill-color);\n",
              "    box-shadow: none;\n",
              "  }\n",
              "\n",
              "  .colab-df-spinner {\n",
              "    border: 2px solid var(--fill-color);\n",
              "    border-color: transparent;\n",
              "    border-bottom-color: var(--fill-color);\n",
              "    animation:\n",
              "      spin 1s steps(1) infinite;\n",
              "  }\n",
              "\n",
              "  @keyframes spin {\n",
              "    0% {\n",
              "      border-color: transparent;\n",
              "      border-bottom-color: var(--fill-color);\n",
              "      border-left-color: var(--fill-color);\n",
              "    }\n",
              "    20% {\n",
              "      border-color: transparent;\n",
              "      border-left-color: var(--fill-color);\n",
              "      border-top-color: var(--fill-color);\n",
              "    }\n",
              "    30% {\n",
              "      border-color: transparent;\n",
              "      border-left-color: var(--fill-color);\n",
              "      border-top-color: var(--fill-color);\n",
              "      border-right-color: var(--fill-color);\n",
              "    }\n",
              "    40% {\n",
              "      border-color: transparent;\n",
              "      border-right-color: var(--fill-color);\n",
              "      border-top-color: var(--fill-color);\n",
              "    }\n",
              "    60% {\n",
              "      border-color: transparent;\n",
              "      border-right-color: var(--fill-color);\n",
              "    }\n",
              "    80% {\n",
              "      border-color: transparent;\n",
              "      border-right-color: var(--fill-color);\n",
              "      border-bottom-color: var(--fill-color);\n",
              "    }\n",
              "    90% {\n",
              "      border-color: transparent;\n",
              "      border-bottom-color: var(--fill-color);\n",
              "    }\n",
              "  }\n",
              "</style>\n",
              "\n",
              "  <script>\n",
              "    async function quickchart(key) {\n",
              "      const quickchartButtonEl =\n",
              "        document.querySelector('#' + key + ' button');\n",
              "      quickchartButtonEl.disabled = true;  // To prevent multiple clicks.\n",
              "      quickchartButtonEl.classList.add('colab-df-spinner');\n",
              "      try {\n",
              "        const charts = await google.colab.kernel.invokeFunction(\n",
              "            'suggestCharts', [key], {});\n",
              "      } catch (error) {\n",
              "        console.error('Error during call to suggestCharts:', error);\n",
              "      }\n",
              "      quickchartButtonEl.classList.remove('colab-df-spinner');\n",
              "      quickchartButtonEl.classList.add('colab-df-quickchart-complete');\n",
              "    }\n",
              "    (() => {\n",
              "      let quickchartButtonEl =\n",
              "        document.querySelector('#df-277bd15f-8c4b-4077-8727-e7a7989c0bca button');\n",
              "      quickchartButtonEl.style.display =\n",
              "        google.colab.kernel.accessAllowed ? 'block' : 'none';\n",
              "    })();\n",
              "  </script>\n",
              "</div>\n",
              "    </div>\n",
              "  </div>\n"
            ]
          },
          "metadata": {},
          "execution_count": 159
        }
      ]
    },
    {
      "cell_type": "code",
      "source": [
        "crosstabfamiliasbotanicasyprovincias=pd.crosstab(index=df3['Familia'],\n",
        "            columns=df3['provincia'], margins=True)"
      ],
      "metadata": {
        "id": "bRTMyQxl2rrq"
      },
      "execution_count": 155,
      "outputs": []
    },
    {
      "cell_type": "code",
      "source": [
        "TCXfamiprovi = crosstabfamiliasbotanicasyprovincias"
      ],
      "metadata": {
        "id": "VMj2ISWL2vnM"
      },
      "execution_count": 156,
      "outputs": []
    },
    {
      "cell_type": "code",
      "source": [
        "TCXfamiprovireducido=TCXfamiprovi.drop(TCXfamiprovi[(TCXfamiprovi['All']<500)].index)"
      ],
      "metadata": {
        "id": "ofK_h7uU21ck"
      },
      "execution_count": 134,
      "outputs": []
    },
    {
      "cell_type": "code",
      "source": [
        "TCXfamiproviMAPACALOR=sns.heatmap(TCXfamiprovireducido, vmax=500);"
      ],
      "metadata": {
        "colab": {
          "base_uri": "https://localhost:8080/",
          "height": 576
        },
        "id": "7WdSGTl726Q8",
        "outputId": "650957dd-d517-459d-c592-bbc6f34a8df5"
      },
      "execution_count": 135,
      "outputs": [
        {
          "output_type": "display_data",
          "data": {
            "text/plain": [
              "<Figure size 640x480 with 2 Axes>"
            ],
            "image/png": "[encoded data removed]"
          },
          "metadata": {}
        }
      ]
    },
    {
      "cell_type": "markdown",
      "source": [
        "**Conclusiones**\n",
        "\n",
        "En este gráfico se observa cómo la mayor cantidad de colectas se concentran mayormente en provincias de la región chaqueña y patagónica. No obstante, destacan tambén algunas provincias del NEA y NOA (como Misiones y Salta) lo cual no estaba previamente considerado sin la realización de los análisis). También se pudieron identificar las familias con más de 500 especímenes, las cuales en general concuerdan con las familias mejor representadas por estudios previos para toda la Flora Argentina, entre ellas, las Poaceae, Fabaceae y Asteraceae, postuladas inicialmente para el estudio. De estos gráficos se desprende entonces que el nivel de muestreo del herbario BAB de la flora de Argentina es representativo a nivel geográfico y botánico."
      ],
      "metadata": {
        "id": "QT2xhAVaA-hf"
      }
    },
    {
      "cell_type": "markdown",
      "source": [
        "**3) Análisis de estacionalidad**\n",
        "\n",
        "Se observó cómo fue la influencia del mes de colección de los especímenes, con respecto a la provincia y a la familia botánica, en aquellas familias y provincias con más de 500 especímenes recolectados."
      ],
      "metadata": {
        "id": "B03OcNggCt9G"
      }
    },
    {
      "cell_type": "markdown",
      "source": [],
      "metadata": {
        "id": "0ci0fZOQDTy3"
      }
    },
    {
      "cell_type": "code",
      "source": [
        "TCXanioprovincia=pd.crosstab(index=df3['anio'], columns=df3['provincia'], margins=True)"
      ],
      "metadata": {
        "id": "z2Nrq_z52-4j"
      },
      "execution_count": 136,
      "outputs": []
    },
    {
      "cell_type": "code",
      "source": [
        "mescoleccion = fechacorregidadatetime.dt.month"
      ],
      "metadata": {
        "id": "w0xEo40T2X0M"
      },
      "execution_count": 127,
      "outputs": []
    },
    {
      "cell_type": "code",
      "source": [
        "mescoleccion.info()"
      ],
      "metadata": {
        "colab": {
          "base_uri": "https://localhost:8080/"
        },
        "id": "-pY_nxZr2hmq",
        "outputId": "bdbc6b84-5f8d-4f2f-80e5-3fb636ffd276"
      },
      "execution_count": 128,
      "outputs": [
        {
          "output_type": "stream",
          "name": "stdout",
          "text": [
            "<class 'pandas.core.series.Series'>\n",
            "RangeIndex: 16607 entries, 0 to 16606\n",
            "Series name: fechacorregida\n",
            "Non-Null Count  Dtype  \n",
            "--------------  -----  \n",
            "14274 non-null  float64\n",
            "dtypes: float64(1)\n",
            "memory usage: 129.9 KB\n"
          ]
        }
      ]
    },
    {
      "cell_type": "code",
      "source": [
        "pd.value_counts(mescoleccion)"
      ],
      "metadata": {
        "colab": {
          "base_uri": "https://localhost:8080/"
        },
        "id": "RuO8OZBV2jtC",
        "outputId": "5f35ca5d-8308-494a-f547-bb15fae4b881"
      },
      "execution_count": 129,
      "outputs": [
        {
          "output_type": "execute_result",
          "data": {
            "text/plain": [
              "11.0    3435\n",
              "3.0     2191\n",
              "1.0     2135\n",
              "12.0    1903\n",
              "2.0     1658\n",
              "10.0    1120\n",
              "4.0      527\n",
              "9.0      472\n",
              "5.0      382\n",
              "7.0      163\n",
              "8.0      157\n",
              "6.0      131\n",
              "Name: fechacorregida, dtype: int64"
            ]
          },
          "metadata": {},
          "execution_count": 129
        }
      ]
    },
    {
      "cell_type": "code",
      "source": [
        "TCXfamiliaxmes=pd.crosstab(index=df3['Familia'], columns=mescoleccion, margins=True)"
      ],
      "metadata": {
        "id": "2kr-KWSlDksO"
      },
      "execution_count": 160,
      "outputs": []
    },
    {
      "cell_type": "code",
      "source": [
        "TCXfamiliaxmesabreviado=TCXfamiliaxmes.drop(TCXfamiliaxmes[TCXfamiliaxmes['All']<500].index)"
      ],
      "metadata": {
        "id": "MstoVXERDrCW"
      },
      "execution_count": 164,
      "outputs": []
    },
    {
      "cell_type": "code",
      "source": [
        "colectaspormes=pd.value_counts(mescoleccion)"
      ],
      "metadata": {
        "id": "-96D4MH62m9x"
      },
      "execution_count": 130,
      "outputs": []
    },
    {
      "cell_type": "code",
      "source": [
        "sns.heatmap(TCXfamiliaxmesabreviado, vmax=500)"
      ],
      "metadata": {
        "colab": {
          "base_uri": "https://localhost:8080/",
          "height": 489
        },
        "id": "KKbMluPND5_M",
        "outputId": "55929983-f1f1-4da3-e24a-60e6195248eb"
      },
      "execution_count": 165,
      "outputs": [
        {
          "output_type": "execute_result",
          "data": {
            "text/plain": [
              "<Axes: xlabel='fechacorregida', ylabel='Familia'>"
            ]
          },
          "metadata": {},
          "execution_count": 165
        },
        {
          "output_type": "display_data",
          "data": {
            "text/plain": [
              "<Figure size 640x480 with 2 Axes>"
            ],
            "image/png": "[encoded data removed]"
          },
          "metadata": {}
        }
      ]
    },
    {
      "cell_type": "code",
      "source": [
        "TCXprovinciaxmes=pd.crosstab(index=df3['provincia'], columns=mescoleccion, margins=True)"
      ],
      "metadata": {
        "id": "sZbo9B00D_ga"
      },
      "execution_count": 166,
      "outputs": []
    },
    {
      "cell_type": "code",
      "source": [
        "TCXprovinciaxmesabreviado=TCXprovinciaxmes.drop(TCXprovinciaxmes[TCXprovinciaxmes['All']<500].index)"
      ],
      "metadata": {
        "id": "5CL5V8KQEFqm"
      },
      "execution_count": 167,
      "outputs": []
    },
    {
      "cell_type": "code",
      "source": [
        "sns.heatmap(TCXprovinciaxmesabreviado, vmax=1100)"
      ],
      "metadata": {
        "colab": {
          "base_uri": "https://localhost:8080/",
          "height": 483
        },
        "id": "XSgKCeihENLW",
        "outputId": "1fb54b0c-7605-4f01-94a1-3638c86754bc"
      },
      "execution_count": 168,
      "outputs": [
        {
          "output_type": "execute_result",
          "data": {
            "text/plain": [
              "<Axes: xlabel='fechacorregida', ylabel='provincia'>"
            ]
          },
          "metadata": {},
          "execution_count": 168
        },
        {
          "output_type": "display_data",
          "data": {
            "text/plain": [
              "<Figure size 640x480 with 2 Axes>"
            ],
            "image/png": "[encoded data removed]"
          },
          "metadata": {}
        }
      ]
    },
    {
      "cell_type": "markdown",
      "source": [
        "**Conclusiones del análisis estacional**\n",
        "\n",
        "Se verificó que los patrones de colecta dentro del año, tanto considerando las familias botánicas como las provincias, son muy similares entre sí, con un \"gap\" o déficit de colecciones durante los meses invernales (hemisferio Sur). Las colectas se concentran generalmente entre octubre y marzo. Se observa una mayor amplitud de colectas en el año en Misiones, posiblemente por su clima cálido, y en el caso de las familias, sólo la familia Verbenacae ha sido colectada mayormente en meses de bajas temperaturas."
      ],
      "metadata": {
        "id": "qznUI4WLEWUl"
      }
    },
    {
      "cell_type": "markdown",
      "source": [
        "**MODELIZACIÓN**\n",
        "\n",
        "Se optó por realizar una serie histórica para determinar la proyección de la magnitud de la colecta de especímenes en las próximas fechas en función de los datos de colectas totales existentes."
      ],
      "metadata": {
        "id": "hKN7ye9xEscP"
      }
    },
    {
      "cell_type": "code",
      "source": [
        "import statsmodels.tsa.stattools as sts"
      ],
      "metadata": {
        "id": "_UaGEAvSFiu1"
      },
      "execution_count": 169,
      "outputs": []
    },
    {
      "cell_type": "code",
      "source": [
        "from statsmodels.tsa.arima_model import ARIMA"
      ],
      "metadata": {
        "id": "ec9UKMHEFot1"
      },
      "execution_count": 170,
      "outputs": []
    },
    {
      "cell_type": "code",
      "source": [
        "import statsmodels.api"
      ],
      "metadata": {
        "id": "vF5rJ-UqFsAV"
      },
      "execution_count": 171,
      "outputs": []
    },
    {
      "cell_type": "code",
      "source": [
        "Tablafamiliasxfecha=pd.crosstab(index=df3['fechacorregida'], columns=df3['provincia'], margins=True)"
      ],
      "metadata": {
        "id": "mbZD2FfYFtUl"
      },
      "execution_count": 172,
      "outputs": []
    },
    {
      "cell_type": "code",
      "source": [
        "Tablafamiliasxfecha.info()"
      ],
      "metadata": {
        "colab": {
          "base_uri": "https://localhost:8080/"
        },
        "id": "1a7PLQwKF-A1",
        "outputId": "78b60fe6-dc9b-495a-bab1-b6107e20fa99"
      },
      "execution_count": 174,
      "outputs": [
        {
          "output_type": "stream",
          "name": "stdout",
          "text": [
            "<class 'pandas.core.frame.DataFrame'>\n",
            "Index: 4193 entries, 1890-04-20 00:00:00 to All\n",
            "Data columns (total 23 columns):\n",
            " #   Column               Non-Null Count  Dtype\n",
            "---  ------               --------------  -----\n",
            " 0   Buenos Aires         4193 non-null   int64\n",
            " 1   Catamarca            4193 non-null   int64\n",
            " 2   Chaco                4193 non-null   int64\n",
            " 3   Chubut               4193 non-null   int64\n",
            " 4   Corrientes           4193 non-null   int64\n",
            " 5   Córdoba              4193 non-null   int64\n",
            " 6   Entre Ríos           4193 non-null   int64\n",
            " 7   Formosa              4193 non-null   int64\n",
            " 8   Jujuy                4193 non-null   int64\n",
            " 9   La Pampa             4193 non-null   int64\n",
            " 10  La Rioja             4193 non-null   int64\n",
            " 11  Mendoza              4193 non-null   int64\n",
            " 12  Misiones             4193 non-null   int64\n",
            " 13  Neuquén              4193 non-null   int64\n",
            " 14  Río Negro            4193 non-null   int64\n",
            " 15  Salta                4193 non-null   int64\n",
            " 16  San Juan             4193 non-null   int64\n",
            " 17  San Luis             4193 non-null   int64\n",
            " 18  Santa Fe             4193 non-null   int64\n",
            " 19  Santiago del Estero  4193 non-null   int64\n",
            " 20  Tierra del Fuego     4193 non-null   int64\n",
            " 21  Tucumán              4193 non-null   int64\n",
            " 22  All                  4193 non-null   int64\n",
            "dtypes: int64(23)\n",
            "memory usage: 915.2+ KB\n"
          ]
        }
      ]
    },
    {
      "cell_type": "code",
      "source": [
        "print(Tablafamiliasxfecha)"
      ],
      "metadata": {
        "colab": {
          "base_uri": "https://localhost:8080/"
        },
        "id": "UW2LFpN7F6eX",
        "outputId": "8d9539a2-c58d-48ad-b18d-8b7ff770f9cf"
      },
      "execution_count": 173,
      "outputs": [
        {
          "output_type": "stream",
          "name": "stdout",
          "text": [
            "provincia            Buenos Aires  Catamarca  Chaco  Chubut  Corrientes  \\\n",
            "fechacorregida                                                            \n",
            "1890-04-20 00:00:00             0          0      0       0           0   \n",
            "1896-09-26 00:00:00             0          0      0       0           0   \n",
            "1896-12-01 00:00:00             0          0      0       0           0   \n",
            "1897-02-01 00:00:00             0          0      0       0           0   \n",
            "1897-11-17 00:00:00             0          0      0       0           0   \n",
            "...                           ...        ...    ...     ...         ...   \n",
            "2005-03-17 00:00:00             0          0      0       0           0   \n",
            "2006-03-10 00:00:00             0          0      0       0           0   \n",
            "2009-01-28 00:00:00             0          0      0       0           0   \n",
            "2009-10-13 00:00:00             0          0      0       0           1   \n",
            "All                           846        168   1368    1638         765   \n",
            "\n",
            "provincia            Córdoba  Entre Ríos  Formosa  Jujuy  La Pampa  ...  \\\n",
            "fechacorregida                                                      ...   \n",
            "1890-04-20 00:00:00        0           0        0      0         0  ...   \n",
            "1896-09-26 00:00:00        0           0        0      0         0  ...   \n",
            "1896-12-01 00:00:00        0           0        0      0         0  ...   \n",
            "1897-02-01 00:00:00        0           0        0      0         0  ...   \n",
            "1897-11-17 00:00:00        0           0        0      0         0  ...   \n",
            "...                      ...         ...      ...    ...       ...  ...   \n",
            "2005-03-17 00:00:00        0           0        0      0         0  ...   \n",
            "2006-03-10 00:00:00        0           0        0      0         0  ...   \n",
            "2009-01-28 00:00:00        1           0        0      0         0  ...   \n",
            "2009-10-13 00:00:00        0           0        0      0         0  ...   \n",
            "All                      263         395     1900    536       234  ...   \n",
            "\n",
            "provincia            Neuquén  Río Negro  Salta  San Juan  San Luis  Santa Fe  \\\n",
            "fechacorregida                                                                 \n",
            "1890-04-20 00:00:00        0          0      0         0         0         0   \n",
            "1896-09-26 00:00:00        0          0      0         0         0         0   \n",
            "1896-12-01 00:00:00        0          0      1         0         0         0   \n",
            "1897-02-01 00:00:00        0          0      1         0         0         0   \n",
            "1897-11-17 00:00:00        0          0      1         0         0         0   \n",
            "...                      ...        ...    ...       ...       ...       ...   \n",
            "2005-03-17 00:00:00        0          0      1         0         0         0   \n",
            "2006-03-10 00:00:00        0          0      0         0         0         0   \n",
            "2009-01-28 00:00:00        0          0      0         0         0         0   \n",
            "2009-10-13 00:00:00        0          0      0         0         0         0   \n",
            "All                      351       1308    939         1        33       153   \n",
            "\n",
            "provincia            Santiago del Estero  Tierra del Fuego  Tucumán    All  \n",
            "fechacorregida                                                              \n",
            "1890-04-20 00:00:00                    0                 0        1      1  \n",
            "1896-09-26 00:00:00                    0                 0        1      1  \n",
            "1896-12-01 00:00:00                    0                 0        0      1  \n",
            "1897-02-01 00:00:00                    0                 0        0      1  \n",
            "1897-11-17 00:00:00                    0                 0        0      1  \n",
            "...                                  ...               ...      ...    ...  \n",
            "2005-03-17 00:00:00                    0                 0        0      1  \n",
            "2006-03-10 00:00:00                    0                 0        0      1  \n",
            "2009-01-28 00:00:00                    0                 0        0      2  \n",
            "2009-10-13 00:00:00                    0                 0        0      1  \n",
            "All                                  536               402      382  14272  \n",
            "\n",
            "[4193 rows x 23 columns]\n"
          ]
        }
      ]
    },
    {
      "cell_type": "code",
      "source": [
        "Tablafamiliasxfecha.All.plot()"
      ],
      "metadata": {
        "colab": {
          "base_uri": "https://localhost:8080/",
          "height": 466
        },
        "id": "dC-OBF76GCjF",
        "outputId": "3a175aa9-625f-4a96-9a98-de9ef9446372"
      },
      "execution_count": 175,
      "outputs": [
        {
          "output_type": "execute_result",
          "data": {
            "text/plain": [
              "<Axes: xlabel='fechacorregida'>"
            ]
          },
          "metadata": {},
          "execution_count": 175
        },
        {
          "output_type": "display_data",
          "data": {
            "text/plain": [
              "<Figure size 640x480 with 1 Axes>"
            ],
            "image/png": "[encoded data removed]"
          },
          "metadata": {}
        }
      ]
    },
    {
      "cell_type": "code",
      "source": [
        "Tablafamiliasxfecha=Tablafamiliasxfecha.drop(['All'], axis=0)"
      ],
      "metadata": {
        "id": "Gw33usDlGIGk"
      },
      "execution_count": 176,
      "outputs": []
    },
    {
      "cell_type": "code",
      "source": [
        "Tablafamiliasxfecha['All'].plot()"
      ],
      "metadata": {
        "colab": {
          "base_uri": "https://localhost:8080/",
          "height": 439
        },
        "id": "FbxL4w0EGK4t",
        "outputId": "9c0ce651-b7b6-480c-80bf-af198d6d20fe"
      },
      "execution_count": 177,
      "outputs": [
        {
          "output_type": "execute_result",
          "data": {
            "text/plain": [
              "<Axes: xlabel='fechacorregida'>"
            ]
          },
          "metadata": {},
          "execution_count": 177
        },
        {
          "output_type": "display_data",
          "data": {
            "text/plain": [
              "<Figure size 640x480 with 1 Axes>"
            ],
            "image/png": "[encoded data removed]"
          },
          "metadata": {}
        }
      ]
    },
    {
      "cell_type": "code",
      "source": [
        "Tablafamiliasxfecha['retornodiario'] = Tablafamiliasxfecha['All'].diff().dropna().copy()"
      ],
      "metadata": {
        "id": "dXRATPA7GO1E"
      },
      "execution_count": 178,
      "outputs": []
    },
    {
      "cell_type": "code",
      "source": [
        "Tablafamiliasxfecha.dropna()"
      ],
      "metadata": {
        "colab": {
          "base_uri": "https://localhost:8080/",
          "height": 510
        },
        "id": "99c6iGEzGQd8",
        "outputId": "078db814-6335-4f33-9907-a3db2b8098ee"
      },
      "execution_count": 179,
      "outputs": [
        {
          "output_type": "execute_result",
          "data": {
            "text/plain": [
              "provincia       Buenos Aires  Catamarca  Chaco  Chubut  Corrientes  Córdoba  \\\n",
              "fechacorregida                                                                \n",
              "1896-09-26                 0          0      0       0           0        0   \n",
              "1896-12-01                 0          0      0       0           0        0   \n",
              "1897-02-01                 0          0      0       0           0        0   \n",
              "1897-11-17                 0          0      0       0           0        0   \n",
              "1897-11-25                 0          0      1       0           0        0   \n",
              "...                      ...        ...    ...     ...         ...      ...   \n",
              "2004-11-18                 0          0      0       0           0        0   \n",
              "2005-03-17                 0          0      0       0           0        0   \n",
              "2006-03-10                 0          0      0       0           0        0   \n",
              "2009-01-28                 0          0      0       0           0        1   \n",
              "2009-10-13                 0          0      0       0           1        0   \n",
              "\n",
              "provincia       Entre Ríos  Formosa  Jujuy  La Pampa  ...  Río Negro  Salta  \\\n",
              "fechacorregida                                        ...                     \n",
              "1896-09-26               0        0      0         0  ...          0      0   \n",
              "1896-12-01               0        0      0         0  ...          0      1   \n",
              "1897-02-01               0        0      0         0  ...          0      1   \n",
              "1897-11-17               0        0      0         0  ...          0      1   \n",
              "1897-11-25               0        0      0         0  ...          0      0   \n",
              "...                    ...      ...    ...       ...  ...        ...    ...   \n",
              "2004-11-18               0        0      0         0  ...          0      0   \n",
              "2005-03-17               0        0      0         0  ...          0      1   \n",
              "2006-03-10               0        0      0         0  ...          0      0   \n",
              "2009-01-28               0        0      0         0  ...          0      0   \n",
              "2009-10-13               0        0      0         0  ...          0      0   \n",
              "\n",
              "provincia       San Juan  San Luis  Santa Fe  Santiago del Estero  \\\n",
              "fechacorregida                                                      \n",
              "1896-09-26             0         0         0                    0   \n",
              "1896-12-01             0         0         0                    0   \n",
              "1897-02-01             0         0         0                    0   \n",
              "1897-11-17             0         0         0                    0   \n",
              "1897-11-25             0         0         0                    0   \n",
              "...                  ...       ...       ...                  ...   \n",
              "2004-11-18             0         0         0                    0   \n",
              "2005-03-17             0         0         0                    0   \n",
              "2006-03-10             0         0         0                    0   \n",
              "2009-01-28             0         0         0                    0   \n",
              "2009-10-13             0         0         0                    0   \n",
              "\n",
              "provincia       Tierra del Fuego  Tucumán  All  retornodiario  \n",
              "fechacorregida                                                 \n",
              "1896-09-26                     0        1    1            0.0  \n",
              "1896-12-01                     0        0    1            0.0  \n",
              "1897-02-01                     0        0    1            0.0  \n",
              "1897-11-17                     0        0    1            0.0  \n",
              "1897-11-25                     0        0    1            0.0  \n",
              "...                          ...      ...  ...            ...  \n",
              "2004-11-18                     0        0    1           -1.0  \n",
              "2005-03-17                     0        0    1            0.0  \n",
              "2006-03-10                     0        0    1            0.0  \n",
              "2009-01-28                     0        0    2            1.0  \n",
              "2009-10-13                     0        0    1           -1.0  \n",
              "\n",
              "[4191 rows x 24 columns]"
            ],
            "text/html": [
              "\n",
              "  <div id=\"df-fbd53ec5-303e-4306-a3f2-70643d90e19b\" class=\"colab-df-container\">\n",
              "    <div>\n",
              "<style scoped>\n",
              "    .dataframe tbody tr th:only-of-type {\n",
              "        vertical-align: middle;\n",
              "    }\n",
              "\n",
              "    .dataframe tbody tr th {\n",
              "        vertical-align: top;\n",
              "    }\n",
              "\n",
              "    .dataframe thead th {\n",
              "        text-align: right;\n",
              "    }\n",
              "</style>\n",
              "<table border=\"1\" class=\"dataframe\">\n",
              "  <thead>\n",
              "    <tr style=\"text-align: right;\">\n",
              "      <th>provincia</th>\n",
              "      <th>Buenos Aires</th>\n",
              "      <th>Catamarca</th>\n",
              "      <th>Chaco</th>\n",
              "      <th>Chubut</th>\n",
              "      <th>Corrientes</th>\n",
              "      <th>Córdoba</th>\n",
              "      <th>Entre Ríos</th>\n",
              "      <th>Formosa</th>\n",
              "      <th>Jujuy</th>\n",
              "      <th>La Pampa</th>\n",
              "      <th>...</th>\n",
              "      <th>Río Negro</th>\n",
              "      <th>Salta</th>\n",
              "      <th>San Juan</th>\n",
              "      <th>San Luis</th>\n",
              "      <th>Santa Fe</th>\n",
              "      <th>Santiago del Estero</th>\n",
              "      <th>Tierra del Fuego</th>\n",
              "      <th>Tucumán</th>\n",
              "      <th>All</th>\n",
              "      <th>retornodiario</th>\n",
              "    </tr>\n",
              "    <tr>\n",
              "      <th>fechacorregida</th>\n",
              "      <th></th>\n",
              "      <th></th>\n",
              "      <th></th>\n",
              "      <th></th>\n",
              "      <th></th>\n",
              "      <th></th>\n",
              "      <th></th>\n",
              "      <th></th>\n",
              "      <th></th>\n",
              "      <th></th>\n",
              "      <th></th>\n",
              "      <th></th>\n",
              "      <th></th>\n",
              "      <th></th>\n",
              "      <th></th>\n",
              "      <th></th>\n",
              "      <th></th>\n",
              "      <th></th>\n",
              "      <th></th>\n",
              "      <th></th>\n",
              "      <th></th>\n",
              "    </tr>\n",
              "  </thead>\n",
              "  <tbody>\n",
              "    <tr>\n",
              "      <th>1896-09-26</th>\n",
              "      <td>0</td>\n",
              "      <td>0</td>\n",
              "      <td>0</td>\n",
              "      <td>0</td>\n",
              "      <td>0</td>\n",
              "      <td>0</td>\n",
              "      <td>0</td>\n",
              "      <td>0</td>\n",
              "      <td>0</td>\n",
              "      <td>0</td>\n",
              "      <td>...</td>\n",
              "      <td>0</td>\n",
              "      <td>0</td>\n",
              "      <td>0</td>\n",
              "      <td>0</td>\n",
              "      <td>0</td>\n",
              "      <td>0</td>\n",
              "      <td>0</td>\n",
              "      <td>1</td>\n",
              "      <td>1</td>\n",
              "      <td>0.0</td>\n",
              "    </tr>\n",
              "    <tr>\n",
              "      <th>1896-12-01</th>\n",
              "      <td>0</td>\n",
              "      <td>0</td>\n",
              "      <td>0</td>\n",
              "      <td>0</td>\n",
              "      <td>0</td>\n",
              "      <td>0</td>\n",
              "      <td>0</td>\n",
              "      <td>0</td>\n",
              "      <td>0</td>\n",
              "      <td>0</td>\n",
              "      <td>...</td>\n",
              "      <td>0</td>\n",
              "      <td>1</td>\n",
              "      <td>0</td>\n",
              "      <td>0</td>\n",
              "      <td>0</td>\n",
              "      <td>0</td>\n",
              "      <td>0</td>\n",
              "      <td>0</td>\n",
              "      <td>1</td>\n",
              "      <td>0.0</td>\n",
              "    </tr>\n",
              "    <tr>\n",
              "      <th>1897-02-01</th>\n",
              "      <td>0</td>\n",
              "      <td>0</td>\n",
              "      <td>0</td>\n",
              "      <td>0</td>\n",
              "      <td>0</td>\n",
              "      <td>0</td>\n",
              "      <td>0</td>\n",
              "      <td>0</td>\n",
              "      <td>0</td>\n",
              "      <td>0</td>\n",
              "      <td>...</td>\n",
              "      <td>0</td>\n",
              "      <td>1</td>\n",
              "      <td>0</td>\n",
              "      <td>0</td>\n",
              "      <td>0</td>\n",
              "      <td>0</td>\n",
              "      <td>0</td>\n",
              "      <td>0</td>\n",
              "      <td>1</td>\n",
              "      <td>0.0</td>\n",
              "    </tr>\n",
              "    <tr>\n",
              "      <th>1897-11-17</th>\n",
              "      <td>0</td>\n",
              "      <td>0</td>\n",
              "      <td>0</td>\n",
              "      <td>0</td>\n",
              "      <td>0</td>\n",
              "      <td>0</td>\n",
              "      <td>0</td>\n",
              "      <td>0</td>\n",
              "      <td>0</td>\n",
              "      <td>0</td>\n",
              "      <td>...</td>\n",
              "      <td>0</td>\n",
              "      <td>1</td>\n",
              "      <td>0</td>\n",
              "      <td>0</td>\n",
              "      <td>0</td>\n",
              "      <td>0</td>\n",
              "      <td>0</td>\n",
              "      <td>0</td>\n",
              "      <td>1</td>\n",
              "      <td>0.0</td>\n",
              "    </tr>\n",
              "    <tr>\n",
              "      <th>1897-11-25</th>\n",
              "      <td>0</td>\n",
              "      <td>0</td>\n",
              "      <td>1</td>\n",
              "      <td>0</td>\n",
              "      <td>0</td>\n",
              "      <td>0</td>\n",
              "      <td>0</td>\n",
              "      <td>0</td>\n",
              "      <td>0</td>\n",
              "      <td>0</td>\n",
              "      <td>...</td>\n",
              "      <td>0</td>\n",
              "      <td>0</td>\n",
              "      <td>0</td>\n",
              "      <td>0</td>\n",
              "      <td>0</td>\n",
              "      <td>0</td>\n",
              "      <td>0</td>\n",
              "      <td>0</td>\n",
              "      <td>1</td>\n",
              "      <td>0.0</td>\n",
              "    </tr>\n",
              "    <tr>\n",
              "      <th>...</th>\n",
              "      <td>...</td>\n",
              "      <td>...</td>\n",
              "      <td>...</td>\n",
              "      <td>...</td>\n",
              "      <td>...</td>\n",
              "      <td>...</td>\n",
              "      <td>...</td>\n",
              "      <td>...</td>\n",
              "      <td>...</td>\n",
              "      <td>...</td>\n",
              "      <td>...</td>\n",
              "      <td>...</td>\n",
              "      <td>...</td>\n",
              "      <td>...</td>\n",
              "      <td>...</td>\n",
              "      <td>...</td>\n",
              "      <td>...</td>\n",
              "      <td>...</td>\n",
              "      <td>...</td>\n",
              "      <td>...</td>\n",
              "      <td>...</td>\n",
              "    </tr>\n",
              "    <tr>\n",
              "      <th>2004-11-18</th>\n",
              "      <td>0</td>\n",
              "      <td>0</td>\n",
              "      <td>0</td>\n",
              "      <td>0</td>\n",
              "      <td>0</td>\n",
              "      <td>0</td>\n",
              "      <td>0</td>\n",
              "      <td>0</td>\n",
              "      <td>0</td>\n",
              "      <td>0</td>\n",
              "      <td>...</td>\n",
              "      <td>0</td>\n",
              "      <td>0</td>\n",
              "      <td>0</td>\n",
              "      <td>0</td>\n",
              "      <td>0</td>\n",
              "      <td>0</td>\n",
              "      <td>0</td>\n",
              "      <td>0</td>\n",
              "      <td>1</td>\n",
              "      <td>-1.0</td>\n",
              "    </tr>\n",
              "    <tr>\n",
              "      <th>2005-03-17</th>\n",
              "      <td>0</td>\n",
              "      <td>0</td>\n",
              "      <td>0</td>\n",
              "      <td>0</td>\n",
              "      <td>0</td>\n",
              "      <td>0</td>\n",
              "      <td>0</td>\n",
              "      <td>0</td>\n",
              "      <td>0</td>\n",
              "      <td>0</td>\n",
              "      <td>...</td>\n",
              "      <td>0</td>\n",
              "      <td>1</td>\n",
              "      <td>0</td>\n",
              "      <td>0</td>\n",
              "      <td>0</td>\n",
              "      <td>0</td>\n",
              "      <td>0</td>\n",
              "      <td>0</td>\n",
              "      <td>1</td>\n",
              "      <td>0.0</td>\n",
              "    </tr>\n",
              "    <tr>\n",
              "      <th>2006-03-10</th>\n",
              "      <td>0</td>\n",
              "      <td>0</td>\n",
              "      <td>0</td>\n",
              "      <td>0</td>\n",
              "      <td>0</td>\n",
              "      <td>0</td>\n",
              "      <td>0</td>\n",
              "      <td>0</td>\n",
              "      <td>0</td>\n",
              "      <td>0</td>\n",
              "      <td>...</td>\n",
              "      <td>0</td>\n",
              "      <td>0</td>\n",
              "      <td>0</td>\n",
              "      <td>0</td>\n",
              "      <td>0</td>\n",
              "      <td>0</td>\n",
              "      <td>0</td>\n",
              "      <td>0</td>\n",
              "      <td>1</td>\n",
              "      <td>0.0</td>\n",
              "    </tr>\n",
              "    <tr>\n",
              "      <th>2009-01-28</th>\n",
              "      <td>0</td>\n",
              "      <td>0</td>\n",
              "      <td>0</td>\n",
              "      <td>0</td>\n",
              "      <td>0</td>\n",
              "      <td>1</td>\n",
              "      <td>0</td>\n",
              "      <td>0</td>\n",
              "      <td>0</td>\n",
              "      <td>0</td>\n",
              "      <td>...</td>\n",
              "      <td>0</td>\n",
              "      <td>0</td>\n",
              "      <td>0</td>\n",
              "      <td>0</td>\n",
              "      <td>0</td>\n",
              "      <td>0</td>\n",
              "      <td>0</td>\n",
              "      <td>0</td>\n",
              "      <td>2</td>\n",
              "      <td>1.0</td>\n",
              "    </tr>\n",
              "    <tr>\n",
              "      <th>2009-10-13</th>\n",
              "      <td>0</td>\n",
              "      <td>0</td>\n",
              "      <td>0</td>\n",
              "      <td>0</td>\n",
              "      <td>1</td>\n",
              "      <td>0</td>\n",
              "      <td>0</td>\n",
              "      <td>0</td>\n",
              "      <td>0</td>\n",
              "      <td>0</td>\n",
              "      <td>...</td>\n",
              "      <td>0</td>\n",
              "      <td>0</td>\n",
              "      <td>0</td>\n",
              "      <td>0</td>\n",
              "      <td>0</td>\n",
              "      <td>0</td>\n",
              "      <td>0</td>\n",
              "      <td>0</td>\n",
              "      <td>1</td>\n",
              "      <td>-1.0</td>\n",
              "    </tr>\n",
              "  </tbody>\n",
              "</table>\n",
              "<p>4191 rows × 24 columns</p>\n",
              "</div>\n",
              "    <div class=\"colab-df-buttons\">\n",
              "\n",
              "  <div class=\"colab-df-container\">\n",
              "    <button class=\"colab-df-convert\" onclick=\"convertToInteractive('df-fbd53ec5-303e-4306-a3f2-70643d90e19b')\"\n",
              "            title=\"Convert this dataframe to an interactive table.\"\n",
              "            style=\"display:none;\">\n",
              "\n",
              "  <svg xmlns=\"http://www.w3.org/2000/svg\" height=\"24px\" viewBox=\"0 -960 960 960\">\n",
              "    <path d=\"M120-120v-720h720v720H120Zm60-500h600v-160H180v160Zm220 220h160v-160H400v160Zm0 220h160v-160H400v160ZM180-400h160v-160H180v160Zm440 0h160v-160H620v160ZM180-180h160v-160H180v160Zm440 0h160v-160H620v160Z\"/>\n",
              "  </svg>\n",
              "    </button>\n",
              "\n",
              "  <style>\n",
              "    .colab-df-container {\n",
              "      display:flex;\n",
              "      gap: 12px;\n",
              "    }\n",
              "\n",
              "    .colab-df-convert {\n",
              "      background-color: #E8F0FE;\n",
              "      border: none;\n",
              "      border-radius: 50%;\n",
              "      cursor: pointer;\n",
              "      display: none;\n",
              "      fill: #1967D2;\n",
              "      height: 32px;\n",
              "      padding: 0 0 0 0;\n",
              "      width: 32px;\n",
              "    }\n",
              "\n",
              "    .colab-df-convert:hover {\n",
              "      background-color: #E2EBFA;\n",
              "      box-shadow: 0px 1px 2px rgba(60, 64, 67, 0.3), 0px 1px 3px 1px rgba(60, 64, 67, 0.15);\n",
              "      fill: #174EA6;\n",
              "    }\n",
              "\n",
              "    .colab-df-buttons div {\n",
              "      margin-bottom: 4px;\n",
              "    }\n",
              "\n",
              "    [theme=dark] .colab-df-convert {\n",
              "      background-color: #3B4455;\n",
              "      fill: #D2E3FC;\n",
              "    }\n",
              "\n",
              "    [theme=dark] .colab-df-convert:hover {\n",
              "      background-color: #434B5C;\n",
              "      box-shadow: 0px 1px 3px 1px rgba(0, 0, 0, 0.15);\n",
              "      filter: drop-shadow(0px 1px 2px rgba(0, 0, 0, 0.3));\n",
              "      fill: #FFFFFF;\n",
              "    }\n",
              "  </style>\n",
              "\n",
              "    <script>\n",
              "      const buttonEl =\n",
              "        document.querySelector('#df-fbd53ec5-303e-4306-a3f2-70643d90e19b button.colab-df-convert');\n",
              "      buttonEl.style.display =\n",
              "        google.colab.kernel.accessAllowed ? 'block' : 'none';\n",
              "\n",
              "      async function convertToInteractive(key) {\n",
              "        const element = document.querySelector('#df-fbd53ec5-303e-4306-a3f2-70643d90e19b');\n",
              "        const dataTable =\n",
              "          await google.colab.kernel.invokeFunction('convertToInteractive',\n",
              "                                                    [key], {});\n",
              "        if (!dataTable) return;\n",
              "\n",
              "        const docLinkHtml = 'Like what you see? Visit the ' +\n",
              "          '<a target=\"_blank\" href=https://colab.research.google.com/notebooks/data_table.ipynb>data table notebook</a>'\n",
              "          + ' to learn more about interactive tables.';\n",
              "        element.innerHTML = '';\n",
              "        dataTable['output_type'] = 'display_data';\n",
              "        await google.colab.output.renderOutput(dataTable, element);\n",
              "        const docLink = document.createElement('div');\n",
              "        docLink.innerHTML = docLinkHtml;\n",
              "        element.appendChild(docLink);\n",
              "      }\n",
              "    </script>\n",
              "  </div>\n",
              "\n",
              "\n",
              "<div id=\"df-93159e89-a084-4139-b375-d45b0f15fcba\">\n",
              "  <button class=\"colab-df-quickchart\" onclick=\"quickchart('df-93159e89-a084-4139-b375-d45b0f15fcba')\"\n",
              "            title=\"Suggest charts.\"\n",
              "            style=\"display:none;\">\n",
              "\n",
              "<svg xmlns=\"http://www.w3.org/2000/svg\" height=\"24px\"viewBox=\"0 0 24 24\"\n",
              "     width=\"24px\">\n",
              "    <g>\n",
              "        <path d=\"M19 3H5c-1.1 0-2 .9-2 2v14c0 1.1.9 2 2 2h14c1.1 0 2-.9 2-2V5c0-1.1-.9-2-2-2zM9 17H7v-7h2v7zm4 0h-2V7h2v10zm4 0h-2v-4h2v4z\"/>\n",
              "    </g>\n",
              "</svg>\n",
              "  </button>\n",
              "\n",
              "<style>\n",
              "  .colab-df-quickchart {\n",
              "      --bg-color: #E8F0FE;\n",
              "      --fill-color: #1967D2;\n",
              "      --hover-bg-color: #E2EBFA;\n",
              "      --hover-fill-color: #174EA6;\n",
              "      --disabled-fill-color: #AAA;\n",
              "      --disabled-bg-color: #DDD;\n",
              "  }\n",
              "\n",
              "  [theme=dark] .colab-df-quickchart {\n",
              "      --bg-color: #3B4455;\n",
              "      --fill-color: #D2E3FC;\n",
              "      --hover-bg-color: #434B5C;\n",
              "      --hover-fill-color: #FFFFFF;\n",
              "      --disabled-bg-color: #3B4455;\n",
              "      --disabled-fill-color: #666;\n",
              "  }\n",
              "\n",
              "  .colab-df-quickchart {\n",
              "    background-color: var(--bg-color);\n",
              "    border: none;\n",
              "    border-radius: 50%;\n",
              "    cursor: pointer;\n",
              "    display: none;\n",
              "    fill: var(--fill-color);\n",
              "    height: 32px;\n",
              "    padding: 0;\n",
              "    width: 32px;\n",
              "  }\n",
              "\n",
              "  .colab-df-quickchart:hover {\n",
              "    background-color: var(--hover-bg-color);\n",
              "    box-shadow: 0 1px 2px rgba(60, 64, 67, 0.3), 0 1px 3px 1px rgba(60, 64, 67, 0.15);\n",
              "    fill: var(--button-hover-fill-color);\n",
              "  }\n",
              "\n",
              "  .colab-df-quickchart-complete:disabled,\n",
              "  .colab-df-quickchart-complete:disabled:hover {\n",
              "    background-color: var(--disabled-bg-color);\n",
              "    fill: var(--disabled-fill-color);\n",
              "    box-shadow: none;\n",
              "  }\n",
              "\n",
              "  .colab-df-spinner {\n",
              "    border: 2px solid var(--fill-color);\n",
              "    border-color: transparent;\n",
              "    border-bottom-color: var(--fill-color);\n",
              "    animation:\n",
              "      spin 1s steps(1) infinite;\n",
              "  }\n",
              "\n",
              "  @keyframes spin {\n",
              "    0% {\n",
              "      border-color: transparent;\n",
              "      border-bottom-color: var(--fill-color);\n",
              "      border-left-color: var(--fill-color);\n",
              "    }\n",
              "    20% {\n",
              "      border-color: transparent;\n",
              "      border-left-color: var(--fill-color);\n",
              "      border-top-color: var(--fill-color);\n",
              "    }\n",
              "    30% {\n",
              "      border-color: transparent;\n",
              "      border-left-color: var(--fill-color);\n",
              "      border-top-color: var(--fill-color);\n",
              "      border-right-color: var(--fill-color);\n",
              "    }\n",
              "    40% {\n",
              "      border-color: transparent;\n",
              "      border-right-color: var(--fill-color);\n",
              "      border-top-color: var(--fill-color);\n",
              "    }\n",
              "    60% {\n",
              "      border-color: transparent;\n",
              "      border-right-color: var(--fill-color);\n",
              "    }\n",
              "    80% {\n",
              "      border-color: transparent;\n",
              "      border-right-color: var(--fill-color);\n",
              "      border-bottom-color: var(--fill-color);\n",
              "    }\n",
              "    90% {\n",
              "      border-color: transparent;\n",
              "      border-bottom-color: var(--fill-color);\n",
              "    }\n",
              "  }\n",
              "</style>\n",
              "\n",
              "  <script>\n",
              "    async function quickchart(key) {\n",
              "      const quickchartButtonEl =\n",
              "        document.querySelector('#' + key + ' button');\n",
              "      quickchartButtonEl.disabled = true;  // To prevent multiple clicks.\n",
              "      quickchartButtonEl.classList.add('colab-df-spinner');\n",
              "      try {\n",
              "        const charts = await google.colab.kernel.invokeFunction(\n",
              "            'suggestCharts', [key], {});\n",
              "      } catch (error) {\n",
              "        console.error('Error during call to suggestCharts:', error);\n",
              "      }\n",
              "      quickchartButtonEl.classList.remove('colab-df-spinner');\n",
              "      quickchartButtonEl.classList.add('colab-df-quickchart-complete');\n",
              "    }\n",
              "    (() => {\n",
              "      let quickchartButtonEl =\n",
              "        document.querySelector('#df-93159e89-a084-4139-b375-d45b0f15fcba button');\n",
              "      quickchartButtonEl.style.display =\n",
              "        google.colab.kernel.accessAllowed ? 'block' : 'none';\n",
              "    })();\n",
              "  </script>\n",
              "</div>\n",
              "    </div>\n",
              "  </div>\n"
            ]
          },
          "metadata": {},
          "execution_count": 179
        }
      ]
    },
    {
      "cell_type": "code",
      "source": [
        "modelo_arima = statsmodels.tsa.arima.model.ARIMA(Tablafamiliasxfecha['retornodiario'], order=(1, 1, 0))"
      ],
      "metadata": {
        "colab": {
          "base_uri": "https://localhost:8080/"
        },
        "id": "KiDopPBuGTLs",
        "outputId": "232e98d1-fffa-4b13-f4ca-ae4025023e81"
      },
      "execution_count": 180,
      "outputs": [
        {
          "output_type": "stream",
          "name": "stderr",
          "text": [
            "/usr/local/lib/python3.10/dist-packages/statsmodels/tsa/base/tsa_model.py:473: ValueWarning: A date index has been provided, but it has no associated frequency information and so will be ignored when e.g. forecasting.\n",
            "  self._init_dates(dates, freq)\n",
            "/usr/local/lib/python3.10/dist-packages/statsmodels/tsa/base/tsa_model.py:473: ValueWarning: A date index has been provided, but it has no associated frequency information and so will be ignored when e.g. forecasting.\n",
            "  self._init_dates(dates, freq)\n",
            "/usr/local/lib/python3.10/dist-packages/statsmodels/tsa/base/tsa_model.py:473: ValueWarning: A date index has been provided, but it has no associated frequency information and so will be ignored when e.g. forecasting.\n",
            "  self._init_dates(dates, freq)\n"
          ]
        }
      ]
    },
    {
      "cell_type": "code",
      "source": [
        "resultado = modelo_arima.fit()"
      ],
      "metadata": {
        "id": "yH8PkVsnGXLU"
      },
      "execution_count": 181,
      "outputs": []
    },
    {
      "cell_type": "code",
      "source": [
        "print(resultado.summary())"
      ],
      "metadata": {
        "colab": {
          "base_uri": "https://localhost:8080/"
        },
        "id": "ED13TX8OGZeM",
        "outputId": "f6cc10cb-0ec3-42e5-b439-a972579c8ab7"
      },
      "execution_count": 182,
      "outputs": [
        {
          "output_type": "stream",
          "name": "stdout",
          "text": [
            "                               SARIMAX Results                                \n",
            "==============================================================================\n",
            "Dep. Variable:          retornodiario   No. Observations:                 4192\n",
            "Model:                 ARIMA(1, 1, 0)   Log Likelihood              -14864.471\n",
            "Date:                Thu, 28 Sep 2023   AIC                          29732.942\n",
            "Time:                        00:05:19   BIC                          29745.623\n",
            "Sample:                             0   HQIC                         29737.426\n",
            "                               - 4192                                         \n",
            "Covariance Type:                  opg                                         \n",
            "==============================================================================\n",
            "                 coef    std err          z      P>|z|      [0.025      0.975]\n",
            "------------------------------------------------------------------------------\n",
            "ar.L1         -0.6345      0.004   -171.766      0.000      -0.642      -0.627\n",
            "sigma2        70.3620      0.372    189.061      0.000      69.633      71.091\n",
            "===================================================================================\n",
            "Ljung-Box (L1) (Q):                 440.52   Jarque-Bera (JB):            241989.49\n",
            "Prob(Q):                              0.00   Prob(JB):                         0.00\n",
            "Heteroskedasticity (H):               2.59   Skew:                            -1.31\n",
            "Prob(H) (two-sided):                  0.00   Kurtosis:                        40.13\n",
            "===================================================================================\n",
            "\n",
            "Warnings:\n",
            "[1] Covariance matrix calculated using the outer product of gradients (complex-step).\n"
          ]
        }
      ]
    },
    {
      "cell_type": "markdown",
      "source": [
        "**Resultado del resumen del primer modelo ARIMA ajustado**\n",
        "\n",
        "Los coeficientes L1 y Sigma2 son significativos y el coeficiente arL1 tiene un valor negativo, lo que indica que hay una asociaciación entre un valor anterior de la serie y su posterior, que es mayor. El valor de Loglikehood es alto, indicando un buen ajuste del modelo a los datos."
      ],
      "metadata": {
        "id": "PRXhkUOLGfu9"
      }
    },
    {
      "cell_type": "markdown",
      "source": [
        "**Comparación de modelos ARIMA**\n",
        "\n",
        "Se seleccionaron otros dos modelos con diferentes parámetros para comparar con el primero."
      ],
      "metadata": {
        "id": "tTS6j7q4YGoO"
      }
    },
    {
      "cell_type": "code",
      "source": [
        "modelo_arima011 = statsmodels.tsa.arima.model.ARIMA(Tablafamiliasxfecha['retornodiario'], order=(0, 1, 1))"
      ],
      "metadata": {
        "colab": {
          "base_uri": "https://localhost:8080/"
        },
        "id": "xXol123WGkyF",
        "outputId": "8c44dda5-d563-4028-9d57-928e905c481d"
      },
      "execution_count": 183,
      "outputs": [
        {
          "output_type": "stream",
          "name": "stderr",
          "text": [
            "/usr/local/lib/python3.10/dist-packages/statsmodels/tsa/base/tsa_model.py:473: ValueWarning: A date index has been provided, but it has no associated frequency information and so will be ignored when e.g. forecasting.\n",
            "  self._init_dates(dates, freq)\n",
            "/usr/local/lib/python3.10/dist-packages/statsmodels/tsa/base/tsa_model.py:473: ValueWarning: A date index has been provided, but it has no associated frequency information and so will be ignored when e.g. forecasting.\n",
            "  self._init_dates(dates, freq)\n",
            "/usr/local/lib/python3.10/dist-packages/statsmodels/tsa/base/tsa_model.py:473: ValueWarning: A date index has been provided, but it has no associated frequency information and so will be ignored when e.g. forecasting.\n",
            "  self._init_dates(dates, freq)\n"
          ]
        }
      ]
    },
    {
      "cell_type": "code",
      "source": [
        "resultadomodelo011 = modelo_arima011.fit()"
      ],
      "metadata": {
        "colab": {
          "base_uri": "https://localhost:8080/"
        },
        "id": "Wsi04QVoGstk",
        "outputId": "3862e5a3-ef49-4227-de4a-8be1ada6f5b3"
      },
      "execution_count": 184,
      "outputs": [
        {
          "output_type": "stream",
          "name": "stderr",
          "text": [
            "/usr/local/lib/python3.10/dist-packages/statsmodels/tsa/statespace/sarimax.py:978: UserWarning: Non-invertible starting MA parameters found. Using zeros as starting parameters.\n",
            "  warn('Non-invertible starting MA parameters found.'\n"
          ]
        }
      ]
    },
    {
      "cell_type": "code",
      "source": [
        "modelo_arima211 = statsmodels.tsa.arima.model.ARIMA(Tablafamiliasxfecha['retornodiario'], order=(2, 1, 1))"
      ],
      "metadata": {
        "colab": {
          "base_uri": "https://localhost:8080/"
        },
        "id": "V8UN_D92GwYc",
        "outputId": "8a12367a-9546-4c54-e9f7-e603d47c2503"
      },
      "execution_count": 185,
      "outputs": [
        {
          "output_type": "stream",
          "name": "stderr",
          "text": [
            "/usr/local/lib/python3.10/dist-packages/statsmodels/tsa/base/tsa_model.py:473: ValueWarning: A date index has been provided, but it has no associated frequency information and so will be ignored when e.g. forecasting.\n",
            "  self._init_dates(dates, freq)\n",
            "/usr/local/lib/python3.10/dist-packages/statsmodels/tsa/base/tsa_model.py:473: ValueWarning: A date index has been provided, but it has no associated frequency information and so will be ignored when e.g. forecasting.\n",
            "  self._init_dates(dates, freq)\n",
            "/usr/local/lib/python3.10/dist-packages/statsmodels/tsa/base/tsa_model.py:473: ValueWarning: A date index has been provided, but it has no associated frequency information and so will be ignored when e.g. forecasting.\n",
            "  self._init_dates(dates, freq)\n"
          ]
        }
      ]
    },
    {
      "cell_type": "code",
      "source": [
        "resultadomodelo211 = modelo_arima211.fit()"
      ],
      "metadata": {
        "id": "iXfkHKT0Gxfd"
      },
      "execution_count": 186,
      "outputs": []
    },
    {
      "cell_type": "code",
      "source": [
        "criterios = pd.DataFrame({\n",
        "    'Modelo': ['ARIMA(1, 1, 0)', 'ARIMA(0, 1, 1)', 'ARIMA(2, 1, 1)'],\n",
        "    'AIC': [resultado.aic, resultadomodelo011.aic, resultadomodelo211.aic],\n",
        "    'BIC': [resultado.aic, resultadomodelo011.bic, resultadomodelo211.bic],\n",
        "    'HQIC': [resultado.aic, resultadomodelo011.hqic, resultadomodelo211.hqic]})"
      ],
      "metadata": {
        "id": "Gz_1fCYQGcYV"
      },
      "execution_count": 187,
      "outputs": []
    },
    {
      "cell_type": "code",
      "source": [
        "print(criterios)"
      ],
      "metadata": {
        "colab": {
          "base_uri": "https://localhost:8080/"
        },
        "id": "FHkmqrf5G3wl",
        "outputId": "554e6b2d-e39c-4fe9-da1a-f9a465870297"
      },
      "execution_count": 188,
      "outputs": [
        {
          "output_type": "stream",
          "name": "stdout",
          "text": [
            "           Modelo           AIC           BIC          HQIC\n",
            "0  ARIMA(1, 1, 0)  29732.941582  29732.941582  29732.941582\n",
            "1  ARIMA(0, 1, 1)  27484.504927  27497.186316  27488.989513\n",
            "2  ARIMA(2, 1, 1)  26238.705495  26264.068274  26247.674667\n"
          ]
        }
      ]
    },
    {
      "cell_type": "markdown",
      "source": [
        "**Conclusiones de análisis de los criterios de selección de modelos**\n",
        "\n",
        "De acuerdo con los criterios de información, el modelo ARIMA(2, 1, 1) tiene los índices de AIC, BIC y HQIC más bajos y por lo tanto, sería el más indicado para describir los datos."
      ],
      "metadata": {
        "id": "UnCSmUjlG9r1"
      }
    },
    {
      "cell_type": "code",
      "source": [
        "from matplotlib.dates import date2num"
      ],
      "metadata": {
        "id": "h4A0G3apG84H"
      },
      "execution_count": 189,
      "outputs": []
    },
    {
      "cell_type": "code",
      "source": [
        "num_pasos_prediccion = 50"
      ],
      "metadata": {
        "id": "K1VgulbtHWuV"
      },
      "execution_count": 191,
      "outputs": []
    },
    {
      "cell_type": "code",
      "source": [
        "predicciones = resultadomodelo211.get_forecast(steps=num_pasos_prediccion).predicted_mean"
      ],
      "metadata": {
        "colab": {
          "base_uri": "https://localhost:8080/"
        },
        "id": "GX12WBdnHIdr",
        "outputId": "f3a02c4e-47e5-4cbb-ec7f-abc7505c482c"
      },
      "execution_count": 192,
      "outputs": [
        {
          "output_type": "stream",
          "name": "stderr",
          "text": [
            "/usr/local/lib/python3.10/dist-packages/statsmodels/tsa/base/tsa_model.py:836: ValueWarning: No supported index is available. Prediction results will be given with an integer index beginning at `start`.\n",
            "  return get_prediction_index(\n",
            "/usr/local/lib/python3.10/dist-packages/statsmodels/tsa/base/tsa_model.py:836: FutureWarning: No supported index is available. In the next version, calling this method in a model without a supported index will result in an exception.\n",
            "  return get_prediction_index(\n"
          ]
        }
      ]
    },
    {
      "cell_type": "code",
      "source": [
        "predicciones.info()"
      ],
      "metadata": {
        "colab": {
          "base_uri": "https://localhost:8080/"
        },
        "id": "hAfJ9hW5Hmum",
        "outputId": "fb1bc9be-69a7-4433-9afb-ff1da8e1d127"
      },
      "execution_count": 196,
      "outputs": [
        {
          "output_type": "stream",
          "name": "stdout",
          "text": [
            "<class 'pandas.core.series.Series'>\n",
            "RangeIndex: 50 entries, 4192 to 4241\n",
            "Series name: predicted_mean\n",
            "Non-Null Count  Dtype  \n",
            "--------------  -----  \n",
            "50 non-null     float64\n",
            "dtypes: float64(1)\n",
            "memory usage: 532.0 bytes\n"
          ]
        }
      ]
    },
    {
      "cell_type": "code",
      "source": [
        "print(predicciones)"
      ],
      "metadata": {
        "colab": {
          "base_uri": "https://localhost:8080/"
        },
        "id": "5upd5mlLHZF8",
        "outputId": "d35b7558-28ee-4cff-840d-e4bf504e15f2"
      },
      "execution_count": 193,
      "outputs": [
        {
          "output_type": "stream",
          "name": "stdout",
          "text": [
            "4192    0.269534\n",
            "4193    0.140791\n",
            "4194   -0.157601\n",
            "4195    0.047497\n",
            "4196    0.019482\n",
            "4197   -0.024673\n",
            "4198    0.008294\n",
            "4199    0.002679\n",
            "4200   -0.003794\n",
            "4201    0.001479\n",
            "4202    0.000409\n",
            "4203   -0.000530\n",
            "4204    0.000309\n",
            "4205    0.000112\n",
            "4206   -0.000022\n",
            "4207    0.000111\n",
            "4208    0.000075\n",
            "4209    0.000056\n",
            "4210    0.000077\n",
            "4211    0.000071\n",
            "4212    0.000068\n",
            "4213    0.000072\n",
            "4214    0.000071\n",
            "4215    0.000070\n",
            "4216    0.000071\n",
            "4217    0.000071\n",
            "4218    0.000071\n",
            "4219    0.000071\n",
            "4220    0.000071\n",
            "4221    0.000071\n",
            "4222    0.000071\n",
            "4223    0.000071\n",
            "4224    0.000071\n",
            "4225    0.000071\n",
            "4226    0.000071\n",
            "4227    0.000071\n",
            "4228    0.000071\n",
            "4229    0.000071\n",
            "4230    0.000071\n",
            "4231    0.000071\n",
            "4232    0.000071\n",
            "4233    0.000071\n",
            "4234    0.000071\n",
            "4235    0.000071\n",
            "4236    0.000071\n",
            "4237    0.000071\n",
            "4238    0.000071\n",
            "4239    0.000071\n",
            "4240    0.000071\n",
            "4241    0.000071\n",
            "Name: predicted_mean, dtype: float64\n"
          ]
        }
      ]
    },
    {
      "cell_type": "code",
      "source": [
        "fechas_futuras = pd.date_range(start=Tablafamiliasxfecha.index[-1], periods=num_pasos_prediccion+1, closed='right')"
      ],
      "metadata": {
        "colab": {
          "base_uri": "https://localhost:8080/"
        },
        "id": "xHDMozq9HeRM",
        "outputId": "b12de400-5a86-46dc-be87-189daebbf71a"
      },
      "execution_count": 194,
      "outputs": [
        {
          "output_type": "stream",
          "name": "stderr",
          "text": [
            "<ipython-input-194-e8f402d8d72b>:1: FutureWarning: Argument `closed` is deprecated in favor of `inclusive`.\n",
            "  fechas_futuras = pd.date_range(start=Tablafamiliasxfecha.index[-1], periods=num_pasos_prediccion+1, closed='right')\n"
          ]
        }
      ]
    },
    {
      "cell_type": "code",
      "source": [
        "print(fechas_futuras)"
      ],
      "metadata": {
        "colab": {
          "base_uri": "https://localhost:8080/"
        },
        "id": "alSSFfJwHhyE",
        "outputId": "97ef991f-f86a-4da7-bd80-463aac2e0330"
      },
      "execution_count": 195,
      "outputs": [
        {
          "output_type": "stream",
          "name": "stdout",
          "text": [
            "DatetimeIndex(['2009-10-14', '2009-10-15', '2009-10-16', '2009-10-17',\n",
            "               '2009-10-18', '2009-10-19', '2009-10-20', '2009-10-21',\n",
            "               '2009-10-22', '2009-10-23', '2009-10-24', '2009-10-25',\n",
            "               '2009-10-26', '2009-10-27', '2009-10-28', '2009-10-29',\n",
            "               '2009-10-30', '2009-10-31', '2009-11-01', '2009-11-02',\n",
            "               '2009-11-03', '2009-11-04', '2009-11-05', '2009-11-06',\n",
            "               '2009-11-07', '2009-11-08', '2009-11-09', '2009-11-10',\n",
            "               '2009-11-11', '2009-11-12', '2009-11-13', '2009-11-14',\n",
            "               '2009-11-15', '2009-11-16', '2009-11-17', '2009-11-18',\n",
            "               '2009-11-19', '2009-11-20', '2009-11-21', '2009-11-22',\n",
            "               '2009-11-23', '2009-11-24', '2009-11-25', '2009-11-26',\n",
            "               '2009-11-27', '2009-11-28', '2009-11-29', '2009-11-30',\n",
            "               '2009-12-01', '2009-12-02'],\n",
            "              dtype='datetime64[ns]', freq='D')\n"
          ]
        }
      ]
    },
    {
      "cell_type": "code",
      "source": [
        "plt.figure(figsize=(12, 6))"
      ],
      "metadata": {
        "colab": {
          "base_uri": "https://localhost:8080/",
          "height": 52
        },
        "id": "Wc_f6LP8HkBj",
        "outputId": "e7990c27-9c0b-4a9a-aa92-195b26efea49"
      },
      "execution_count": 197,
      "outputs": [
        {
          "output_type": "execute_result",
          "data": {
            "text/plain": [
              "<Figure size 1200x600 with 0 Axes>"
            ]
          },
          "metadata": {},
          "execution_count": 197
        },
        {
          "output_type": "display_data",
          "data": {
            "text/plain": [
              "<Figure size 1200x600 with 0 Axes>"
            ]
          },
          "metadata": {}
        }
      ]
    },
    {
      "cell_type": "code",
      "source": [
        "plt.plot(Tablafamiliasxfecha.index, Tablafamiliasxfecha['retornodiario'], '-', label='Datos Observados', color='blue')"
      ],
      "metadata": {
        "colab": {
          "base_uri": "https://localhost:8080/",
          "height": 447
        },
        "id": "oTBXUofCHwCN",
        "outputId": "27c06ec3-e0b5-4639-d890-3dbc5bfaca24"
      },
      "execution_count": 198,
      "outputs": [
        {
          "output_type": "execute_result",
          "data": {
            "text/plain": [
              "[<matplotlib.lines.Line2D at 0x7c4e228fcc10>]"
            ]
          },
          "metadata": {},
          "execution_count": 198
        },
        {
          "output_type": "display_data",
          "data": {
            "text/plain": [
              "<Figure size 640x480 with 1 Axes>"
            ],
            "image/png": "[encoded data removed]"
          },
          "metadata": {}
        }
      ]
    },
    {
      "cell_type": "code",
      "source": [
        "predicciones_df = pd.DataFrame({'Predicciones': predicciones}, index=fechas_futuras[1:])"
      ],
      "metadata": {
        "id": "8f-5r70dH0Oe"
      },
      "execution_count": 199,
      "outputs": []
    },
    {
      "cell_type": "code",
      "source": [
        "Predicciones=pd.read_excel('/content/retorno.xlsx')"
      ],
      "metadata": {
        "id": "LwfavLqiJReL"
      },
      "execution_count": 206,
      "outputs": []
    },
    {
      "cell_type": "code",
      "source": [
        "plt.plot(Predicciones.index, Predicciones['retorno'], '-', label='Datos Observados', color='blue')"
      ],
      "metadata": {
        "colab": {
          "base_uri": "https://localhost:8080/",
          "height": 447
        },
        "id": "lwHpmE1sJizs",
        "outputId": "3dac1a32-193d-417e-9cc8-f61d8598eeb7"
      },
      "execution_count": 208,
      "outputs": [
        {
          "output_type": "execute_result",
          "data": {
            "text/plain": [
              "[<matplotlib.lines.Line2D at 0x7c4e16620dc0>]"
            ]
          },
          "metadata": {},
          "execution_count": 208
        },
        {
          "output_type": "display_data",
          "data": {
            "text/plain": [
              "<Figure size 640x480 with 1 Axes>"
            ],
            "image/png": "[encoded data removed]"
          },
          "metadata": {}
        }
      ]
    },
    {
      "cell_type": "markdown",
      "source": [
        "**Conclusiones de la modelización con ARIMA**\n",
        "\n",
        "Se observó que la modelización de los sets de especímenes teniendo en cuenta valores históricos (días o fechas) sólo permite predecir el nivel de colectas en un breve lapso de tiempo. Por lo tanto, el modelo ARIMA no sería el más adecuado para realizar una previsión anual."
      ],
      "metadata": {
        "id": "2lGmc_ITKLyr"
      }
    },
    {
      "cell_type": "markdown",
      "source": [
        "**CONCLUSIONES GENERALES**\n",
        "\n",
        "El dataset del herbario BAB analizado permitió identificar algunos patrones de las colectas espaciales y geográficos, a pesar de que fue necesario una intensa limpieza de varios registros por presentar valores faltantes. El análisis del dataset depurado confirmó que la mayor intensidad de colectas se dio en las familias Asteraceae, Poaceae y Fabaceae y que las provincias mejor representadas fueron las de la región Chaqueña y Patagónica. No obstante, el análisis de este gran volumen de datos permitió identificar provincias que poseían también una adecuada representación en cuanto a número de especímenes en el Centro, NOA y NEA, por ejemplo, en Buenos Aires, Salta, Jujuy y Misiones. La exploración de este dataset también permitió observar gaps de representación en provincias de la región Cuyana, como Mendoza y San Juan, y del Centro, como La Pampa. Se pudieron aprecciar patrones estacionales de colecta a través de los mapas de calor, identificando \"gaps\" de colecta en los meses invernales, lo cual podría deberse a una baja cantidad de campañas, a la fenología de las plantas o una combinación de ambos factores. Finalmente, análisis de la serie histórica y el modelado de la misma mediante ARIMA permitió observar eventos de alta intensidad de colecta puntuales, azarosos, que se explican por eventos históricos puntuales que no tienen un patrón de variación definido, como la afluencia de especialistas europeos a inicos del siglo XX y el impulso de proyectos florísticos a nivel nacional como las floras regionales INTA en las décadas de los 70 y 90 del mismo siglo. Al realizar las predicciones, el modelo ARIMA no mostró una capacidad de predicción notable posteriormente a la serie histórica, posiblemente debido a la presencia de grandes períodos con baja cantidad de registros. En consecuencia, sería necesario evaluar otros modelos que permitan una proyección más a largo plazo para evaluar la tendencia de recolección de especímenes y la consiguiente ampliación de las colecciones del herbario."
      ],
      "metadata": {
        "id": "n95zaeFNKpq0"
      }
    }
  ]
}